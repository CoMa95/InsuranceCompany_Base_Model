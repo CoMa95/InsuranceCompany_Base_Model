{
 "cells": [
  {
   "cell_type": "code",
   "execution_count": 1,
   "metadata": {},
   "outputs": [],
   "source": [
    "import pandas as pd\n",
    "import numpy as np\n",
    "from settings import Config\n",
    "from mysql_db import Database\n",
    "import pdcast as pdc\n",
    "import s3_upload_download as s3con\n",
    "import os"
   ]
  },
  {
   "attachments": {},
   "cell_type": "markdown",
   "metadata": {},
   "source": [
    "# NOTEBOOK DESCRIPTION: \n",
    "1. Transfers tables from MySQL to Python; \n",
    "2. Downcasts variable types wherever possible;\n",
    "\n",
    "The following tables from MySQL are used: \n",
    "'att1_type', 'att2_age', 'att3_judet', 'att4_localitate', 'att5_sex', 'att6_category_type',\n",
    "'att7_make', 'att8_capacity', 'att9_power', 'att10_seats', 'att11_year', 'att12_weight',\n",
    "'att13_bonus_malus', 'att14_no_rates', 'daune', 'events_no', and 'polite_exp'.\n",
    "\n",
    "Downcasting is done using the automation tool pdcast (pandas downcasting).\n",
    "\n",
    "The resulting tables are saved in an S3 bucket."
   ]
  },
  {
   "cell_type": "code",
   "execution_count": 2,
   "metadata": {},
   "outputs": [],
   "source": [
    "# initialise the Database object to establish a connection to the MySQL database\n",
    "db = Database(Config)\n",
    "\n",
    "# initialise the s3_connector object needed to read/write files into an S3 bucket\n",
    "s3con = s3con.s3_connector()\n",
    "\n",
    "# list of all table names to be transferred\n",
    "table_names = ['att1_type', 'att2_age', 'att3_judet', 'att4_localitate', 'att5_sex', 'att6_category_type',\n",
    "                'att7_make', 'att8_capacity', 'att9_power', 'att10_seats', 'att11_year', 'att12_weight',\n",
    "                'att13_bonus_malus', 'att14_no_rates', 'daune', 'events_no', 'polite_exp']\n",
    "\n"
   ]
  },
  {
   "attachments": {},
   "cell_type": "markdown",
   "metadata": {},
   "source": [
    "## a. Attributes"
   ]
  },
  {
   "cell_type": "code",
   "execution_count": 3,
   "metadata": {},
   "outputs": [
    {
     "data": {
      "text/html": [
       "<div>\n",
       "<style scoped>\n",
       "    .dataframe tbody tr th:only-of-type {\n",
       "        vertical-align: middle;\n",
       "    }\n",
       "\n",
       "    .dataframe tbody tr th {\n",
       "        vertical-align: top;\n",
       "    }\n",
       "\n",
       "    .dataframe thead th {\n",
       "        text-align: right;\n",
       "    }\n",
       "</style>\n",
       "<table border=\"1\" class=\"dataframe\">\n",
       "  <thead>\n",
       "    <tr style=\"text-align: right;\">\n",
       "      <th></th>\n",
       "      <th>idPolita</th>\n",
       "      <th>tip</th>\n",
       "    </tr>\n",
       "  </thead>\n",
       "  <tbody>\n",
       "    <tr>\n",
       "      <th>0</th>\n",
       "      <td>2230446</td>\n",
       "      <td>PF</td>\n",
       "    </tr>\n",
       "    <tr>\n",
       "      <th>1</th>\n",
       "      <td>2230447</td>\n",
       "      <td>PF</td>\n",
       "    </tr>\n",
       "    <tr>\n",
       "      <th>2</th>\n",
       "      <td>2230448</td>\n",
       "      <td>PF</td>\n",
       "    </tr>\n",
       "    <tr>\n",
       "      <th>3</th>\n",
       "      <td>2230449</td>\n",
       "      <td>PF</td>\n",
       "    </tr>\n",
       "    <tr>\n",
       "      <th>4</th>\n",
       "      <td>2230450</td>\n",
       "      <td>PF</td>\n",
       "    </tr>\n",
       "  </tbody>\n",
       "</table>\n",
       "</div>"
      ],
      "text/plain": [
       "   idPolita tip\n",
       "0   2230446  PF\n",
       "1   2230447  PF\n",
       "2   2230448  PF\n",
       "3   2230449  PF\n",
       "4   2230450  PF"
      ]
     },
     "execution_count": 3,
     "metadata": {},
     "output_type": "execute_result"
    }
   ],
   "source": [
    "df = db.run_view(f'SELECT * FROM {table_names[0]}')\n",
    "df.head()"
   ]
  },
  {
   "cell_type": "code",
   "execution_count": 4,
   "metadata": {},
   "outputs": [
    {
     "name": "stdout",
     "output_type": "stream",
     "text": [
      "<class 'pandas.core.frame.DataFrame'>\n",
      "RangeIndex: 27782469 entries, 0 to 27782468\n",
      "Data columns (total 2 columns):\n",
      " #   Column    Dtype \n",
      "---  ------    ----- \n",
      " 0   idPolita  int64 \n",
      " 1   tip       object\n",
      "dtypes: int64(1), object(1)\n",
      "memory usage: 423.9+ MB\n"
     ]
    }
   ],
   "source": [
    "df.info()"
   ]
  },
  {
   "cell_type": "code",
   "execution_count": 5,
   "metadata": {},
   "outputs": [
    {
     "name": "stdout",
     "output_type": "stream",
     "text": [
      "<class 'pandas.core.frame.DataFrame'>\n",
      "RangeIndex: 27782469 entries, 0 to 27782468\n",
      "Data columns (total 2 columns):\n",
      " #   Column    Dtype   \n",
      "---  ------    -----   \n",
      " 0   idPolita  uint32  \n",
      " 1   tip       category\n",
      "dtypes: category(1), uint32(1)\n",
      "memory usage: 132.5 MB\n"
     ]
    }
   ],
   "source": [
    "df_downcast = pdc.downcast(df)\n",
    "df_downcast.info()"
   ]
  },
  {
   "cell_type": "code",
   "execution_count": 6,
   "metadata": {},
   "outputs": [
    {
     "data": {
      "text/html": [
       "<div>\n",
       "<style scoped>\n",
       "    .dataframe tbody tr th:only-of-type {\n",
       "        vertical-align: middle;\n",
       "    }\n",
       "\n",
       "    .dataframe tbody tr th {\n",
       "        vertical-align: top;\n",
       "    }\n",
       "\n",
       "    .dataframe thead th {\n",
       "        text-align: right;\n",
       "    }\n",
       "</style>\n",
       "<table border=\"1\" class=\"dataframe\">\n",
       "  <thead>\n",
       "    <tr style=\"text-align: right;\">\n",
       "      <th></th>\n",
       "      <th>idPolita</th>\n",
       "      <th>tip</th>\n",
       "    </tr>\n",
       "  </thead>\n",
       "  <tbody>\n",
       "    <tr>\n",
       "      <th>0</th>\n",
       "      <td>2230446</td>\n",
       "      <td>PF</td>\n",
       "    </tr>\n",
       "    <tr>\n",
       "      <th>1</th>\n",
       "      <td>2230447</td>\n",
       "      <td>PF</td>\n",
       "    </tr>\n",
       "    <tr>\n",
       "      <th>2</th>\n",
       "      <td>2230448</td>\n",
       "      <td>PF</td>\n",
       "    </tr>\n",
       "    <tr>\n",
       "      <th>3</th>\n",
       "      <td>2230449</td>\n",
       "      <td>PF</td>\n",
       "    </tr>\n",
       "    <tr>\n",
       "      <th>4</th>\n",
       "      <td>2230450</td>\n",
       "      <td>PF</td>\n",
       "    </tr>\n",
       "  </tbody>\n",
       "</table>\n",
       "</div>"
      ],
      "text/plain": [
       "   idPolita tip\n",
       "0   2230446  PF\n",
       "1   2230447  PF\n",
       "2   2230448  PF\n",
       "3   2230449  PF\n",
       "4   2230450  PF"
      ]
     },
     "execution_count": 6,
     "metadata": {},
     "output_type": "execute_result"
    }
   ],
   "source": [
    "df_downcast.head()"
   ]
  },
  {
   "cell_type": "code",
   "execution_count": 7,
   "metadata": {},
   "outputs": [],
   "source": [
    "df_downcast.to_feather(f'{table_names[0]}.feather')\n",
    "s3con.write(f'{table_names[0]}.feather')\n",
    "os.remove(f'{table_names[0]}.feather')"
   ]
  },
  {
   "cell_type": "code",
   "execution_count": null,
   "metadata": {},
   "outputs": [],
   "source": [
    "# automate the rest of the attribute tables since they are similar to each other\n",
    "# NOTE: some of the bigger files had to be broken down into smaller files due to insufficient RAM\n",
    "\n",
    "for table in range(12, len(table_names)-1):\n",
    "    df = db.run_view(f'SELECT * FROM {table_names[table]}')\n",
    "    df = pdc.downcast(df)\n",
    "    df.to_feather(f'{table_names[table]}.feather')\n",
    "    del df\n",
    "    s3con.write(f'{table_names[table]}.feather')\n",
    "    os.remove(f'{table_names[table]}.feather')\n",
    "\n",
    "    print('Table done')"
   ]
  },
  {
   "attachments": {},
   "cell_type": "markdown",
   "metadata": {},
   "source": [
    "## Exposures"
   ]
  },
  {
   "cell_type": "code",
   "execution_count": 3,
   "metadata": {},
   "outputs": [
    {
     "name": "stdout",
     "output_type": "stream",
     "text": [
      "Table done\n",
      "Table done\n",
      "Table done\n",
      "Table done\n",
      "Table done\n",
      "Table done\n"
     ]
    }
   ],
   "source": [
    "# the exposures table is too big and thus needs to be sectioned into smaller parts\n",
    "section_start = [0, 4999999, 9999998, 14999997, 19999996, 24999995]\n",
    "\n",
    "for start in range(len(section_start)):\n",
    "    df = db.run_view(f'SELECT * FROM polite_exp LIMIT {section_start[start]}, 5000000')\n",
    "    df = pdc.downcast(df)\n",
    "    df.to_feather(f'polite_exp_{start}.feather')\n",
    "    del df\n",
    "\n",
    "    s3con.write(f'polite_exp_{start}.feather')\n",
    "    os.remove(f'polite_exp_{start}.feather')\n",
    "\n",
    "    print('Table done')\n",
    "    "
   ]
  },
  {
   "cell_type": "code",
   "execution_count": 4,
   "metadata": {},
   "outputs": [
    {
     "name": "stdout",
     "output_type": "stream",
     "text": [
      "<class 'pandas.core.frame.DataFrame'>\n",
      "RangeIndex: 27598537 entries, 0 to 27598536\n",
      "Data columns (total 12 columns):\n",
      " #   Column     Dtype   \n",
      "---  ------     -----   \n",
      " 0   idPolita   uint32  \n",
      " 1   dataStart  category\n",
      " 2   dataEnd    category\n",
      " 3   maturity   uint8   \n",
      " 4   exp_2015   category\n",
      " 5   exp_2016   category\n",
      " 6   exp_2017   category\n",
      " 7   exp_2018   category\n",
      " 8   exp_2019   category\n",
      " 9   exp_2020   category\n",
      " 10  exp_2021   category\n",
      " 11  exp_2022   category\n",
      "dtypes: category(10), uint32(1), uint8(1)\n",
      "memory usage: 658.3 MB\n"
     ]
    }
   ],
   "source": [
    "# recombine into 2 parts and save in S3\n",
    "df1 = s3con.read('polite_exp_0.feather')\n",
    "df2 = s3con.read('polite_exp_1.feather')\n",
    "con = pd.concat([df1, df2], axis = 0, ignore_index= True)\n",
    "del df1, df2\n",
    "\n",
    "df3 = s3con.read('polite_exp_2.feather')\n",
    "con = pd.concat([con, df3], axis = 0, ignore_index= True)\n",
    "del df3\n",
    "\n",
    "df4 = s3con.read('polite_exp_3.feather')\n",
    "con = pd.concat([con, df4], axis = 0, ignore_index= True)\n",
    "del df4\n",
    "\n",
    "df5 = s3con.read('polite_exp_4.feather')\n",
    "con = pd.concat([con, df5], axis = 0, ignore_index= True)\n",
    "del df5\n",
    "\n",
    "df6 = s3con.read('polite_exp_5.feather')\n",
    "con = pd.concat([con, df6], axis = 0, ignore_index= True)\n",
    "del df6\n",
    "\n",
    "con = pdc.downcast(con)\n",
    "con.info()"
   ]
  },
  {
   "cell_type": "code",
   "execution_count": 5,
   "metadata": {},
   "outputs": [],
   "source": [
    "con.to_feather('polite_exp.feather')\n",
    "s3con.write('polite_exp.feather')\n",
    "os.remove('polite_exp.feather')"
   ]
  }
 ],
 "metadata": {
  "kernelspec": {
   "display_name": "Python 3",
   "language": "python",
   "name": "python3"
  },
  "language_info": {
   "codemirror_mode": {
    "name": "ipython",
    "version": 3
   },
   "file_extension": ".py",
   "mimetype": "text/x-python",
   "name": "python",
   "nbconvert_exporter": "python",
   "pygments_lexer": "ipython3",
   "version": "3.10.6"
  },
  "orig_nbformat": 4,
  "vscode": {
   "interpreter": {
    "hash": "916dbcbb3f70747c44a77c7bcd40155683ae19c65e1c03b4aa3499c5328201f1"
   }
  }
 },
 "nbformat": 4,
 "nbformat_minor": 2
}
