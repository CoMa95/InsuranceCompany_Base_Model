{
 "cells": [
  {
   "cell_type": "code",
   "execution_count": 1,
   "metadata": {},
   "outputs": [
    {
     "name": "stdout",
     "output_type": "stream",
     "text": [
      "INFO: Pandarallel will run on 4 workers.\n",
      "INFO: Pandarallel will use standard multiprocessing data transfer (pipe) to transfer data between the main process and workers.\n",
      "\n",
      "WARNING: You are on Windows. If you detect any issue with pandarallel, be sure you checked out the Troubleshooting page:\n",
      "https://nalepae.github.io/pandarallel/troubleshooting/\n"
     ]
    }
   ],
   "source": [
    "import os\n",
    "import numpy as np\n",
    "import pandas as pd\n",
    "\n",
    "import matplotlib.pyplot as plt\n",
    "import seaborn as sns\n",
    "sns.set_style(\"whitegrid\")\n",
    "\n",
    "from datetime import datetime\n",
    "\n",
    "import pandarallel\n",
    "from pandarallel import pandarallel\n",
    "pandarallel.initialize(progress_bar=True)\n",
    "\n",
    "from sklearn.ensemble import IsolationForest\n",
    "from sklearn.neighbors import LocalOutlierFactor\n",
    "from sklearn.covariance import EllipticEnvelope\n",
    "\n",
    "import scipy\n",
    "from scipy import stats\n",
    "from scipy.stats import gamma, lognorm\n",
    "\n",
    "from patsy import dmatrices\n",
    "\n",
    "import statsmodels.api as sm\n",
    "from statsmodels.formula.api import glm\n",
    "from statsmodels.graphics.api import abline_plot"
   ]
  },
  {
   "cell_type": "code",
   "execution_count": 2,
   "metadata": {},
   "outputs": [
    {
     "data": {
      "text/html": [
       "<div>\n",
       "<style scoped>\n",
       "    .dataframe tbody tr th:only-of-type {\n",
       "        vertical-align: middle;\n",
       "    }\n",
       "\n",
       "    .dataframe tbody tr th {\n",
       "        vertical-align: top;\n",
       "    }\n",
       "\n",
       "    .dataframe thead th {\n",
       "        text-align: right;\n",
       "    }\n",
       "</style>\n",
       "<table border=\"1\" class=\"dataframe\">\n",
       "  <thead>\n",
       "    <tr style=\"text-align: right;\">\n",
       "      <th></th>\n",
       "      <th>idPolita</th>\n",
       "      <th>capacitate</th>\n",
       "      <th>varsta</th>\n",
       "    </tr>\n",
       "  </thead>\n",
       "  <tbody>\n",
       "    <tr>\n",
       "      <th>0</th>\n",
       "      <td>2230446</td>\n",
       "      <td>1389</td>\n",
       "      <td>25.0</td>\n",
       "    </tr>\n",
       "    <tr>\n",
       "      <th>1</th>\n",
       "      <td>2230447</td>\n",
       "      <td>1781</td>\n",
       "      <td>26.0</td>\n",
       "    </tr>\n",
       "    <tr>\n",
       "      <th>2</th>\n",
       "      <td>2230448</td>\n",
       "      <td>1598</td>\n",
       "      <td>62.0</td>\n",
       "    </tr>\n",
       "    <tr>\n",
       "      <th>3</th>\n",
       "      <td>2230449</td>\n",
       "      <td>1596</td>\n",
       "      <td>26.0</td>\n",
       "    </tr>\n",
       "    <tr>\n",
       "      <th>4</th>\n",
       "      <td>2230450</td>\n",
       "      <td>1390</td>\n",
       "      <td>40.0</td>\n",
       "    </tr>\n",
       "  </tbody>\n",
       "</table>\n",
       "</div>"
      ],
      "text/plain": [
       "   idPolita  capacitate  varsta\n",
       "0   2230446        1389    25.0\n",
       "1   2230447        1781    26.0\n",
       "2   2230448        1598    62.0\n",
       "3   2230449        1596    26.0\n",
       "4   2230450        1390    40.0"
      ]
     },
     "execution_count": 2,
     "metadata": {},
     "output_type": "execute_result"
    }
   ],
   "source": [
    "# loading data\n",
    "df_att = pd.read_feather('data/rca_autoturisme_atribute.feather')\n",
    "\n",
    "# not all attributes are needed for the current modeling\n",
    "# KMPG attributes used are only the engine cylindrical capacity and client age\n",
    "df_att.drop(['clasaBM', 'tipVehicul', 'marca','putere',\n",
    "       'locuri', 'anFabricatie', 'masaTehnica', 'tip','judet',\n",
    "       'localitate', 'sex'], axis = 1, inplace = True)\n",
    "df_att.rename(columns = {'id': 'idPolita'},inplace=True)\n",
    "df_att.head()"
   ]
  },
  {
   "cell_type": "code",
   "execution_count": 3,
   "metadata": {},
   "outputs": [
    {
     "data": {
      "text/plain": [
       "idPolita        0\n",
       "capacitate      0\n",
       "varsta        487\n",
       "dtype: int64"
      ]
     },
     "execution_count": 3,
     "metadata": {},
     "output_type": "execute_result"
    }
   ],
   "source": [
    "# check for nans\n",
    "df_att.isnull().sum()"
   ]
  },
  {
   "cell_type": "code",
   "execution_count": 4,
   "metadata": {},
   "outputs": [
    {
     "data": {
      "text/plain": [
       "46.0"
      ]
     },
     "execution_count": 4,
     "metadata": {},
     "output_type": "execute_result"
    }
   ],
   "source": [
    "df_att.varsta.median()"
   ]
  },
  {
   "cell_type": "markdown",
   "metadata": {},
   "source": [
    "There are ~500 missing age values. Will replace them with the median age."
   ]
  },
  {
   "cell_type": "code",
   "execution_count": 5,
   "metadata": {},
   "outputs": [
    {
     "data": {
      "text/plain": [
       "idPolita      0\n",
       "capacitate    0\n",
       "varsta        0\n",
       "dtype: int64"
      ]
     },
     "execution_count": 5,
     "metadata": {},
     "output_type": "execute_result"
    }
   ],
   "source": [
    "df_att.varsta.fillna(df_att.varsta.median(), inplace = True)\n",
    "df_att.isnull().sum()"
   ]
  },
  {
   "cell_type": "code",
   "execution_count": 6,
   "metadata": {},
   "outputs": [
    {
     "data": {
      "text/plain": [
       "0"
      ]
     },
     "execution_count": 6,
     "metadata": {},
     "output_type": "execute_result"
    }
   ],
   "source": [
    "# check for duplicates\n",
    "df_att.duplicated().sum()"
   ]
  },
  {
   "cell_type": "code",
   "execution_count": 7,
   "metadata": {},
   "outputs": [
    {
     "data": {
      "text/html": [
       "<div>\n",
       "<style scoped>\n",
       "    .dataframe tbody tr th:only-of-type {\n",
       "        vertical-align: middle;\n",
       "    }\n",
       "\n",
       "    .dataframe tbody tr th {\n",
       "        vertical-align: top;\n",
       "    }\n",
       "\n",
       "    .dataframe thead th {\n",
       "        text-align: right;\n",
       "    }\n",
       "</style>\n",
       "<table border=\"1\" class=\"dataframe\">\n",
       "  <thead>\n",
       "    <tr style=\"text-align: right;\">\n",
       "      <th></th>\n",
       "      <th>count</th>\n",
       "      <th>mean</th>\n",
       "      <th>std</th>\n",
       "      <th>min</th>\n",
       "      <th>25%</th>\n",
       "      <th>50%</th>\n",
       "      <th>75%</th>\n",
       "      <th>max</th>\n",
       "    </tr>\n",
       "  </thead>\n",
       "  <tbody>\n",
       "    <tr>\n",
       "      <th>idPolita</th>\n",
       "      <td>19706726.0</td>\n",
       "      <td>2.981157e+07</td>\n",
       "      <td>5.232621e+07</td>\n",
       "      <td>2230446.0</td>\n",
       "      <td>8336687.25</td>\n",
       "      <td>14898078.0</td>\n",
       "      <td>22711748.5</td>\n",
       "      <td>203964267.0</td>\n",
       "    </tr>\n",
       "    <tr>\n",
       "      <th>capacitate</th>\n",
       "      <td>19706726.0</td>\n",
       "      <td>1.747341e+03</td>\n",
       "      <td>4.318539e+02</td>\n",
       "      <td>0.0</td>\n",
       "      <td>1461.00</td>\n",
       "      <td>1716.0</td>\n",
       "      <td>1968.0</td>\n",
       "      <td>12902.0</td>\n",
       "    </tr>\n",
       "    <tr>\n",
       "      <th>varsta</th>\n",
       "      <td>19706726.0</td>\n",
       "      <td>4.715306e+01</td>\n",
       "      <td>1.427444e+01</td>\n",
       "      <td>-29.0</td>\n",
       "      <td>36.00</td>\n",
       "      <td>46.0</td>\n",
       "      <td>58.0</td>\n",
       "      <td>118.0</td>\n",
       "    </tr>\n",
       "  </tbody>\n",
       "</table>\n",
       "</div>"
      ],
      "text/plain": [
       "                 count          mean           std        min         25%  \\\n",
       "idPolita    19706726.0  2.981157e+07  5.232621e+07  2230446.0  8336687.25   \n",
       "capacitate  19706726.0  1.747341e+03  4.318539e+02        0.0     1461.00   \n",
       "varsta      19706726.0  4.715306e+01  1.427444e+01      -29.0       36.00   \n",
       "\n",
       "                   50%         75%          max  \n",
       "idPolita    14898078.0  22711748.5  203964267.0  \n",
       "capacitate      1716.0      1968.0      12902.0  \n",
       "varsta            46.0        58.0        118.0  "
      ]
     },
     "execution_count": 7,
     "metadata": {},
     "output_type": "execute_result"
    }
   ],
   "source": [
    "df_att.describe().T"
   ]
  },
  {
   "cell_type": "markdown",
   "metadata": {},
   "source": [
    "Cylindrical capacity has zero values. Age has negative values."
   ]
  },
  {
   "cell_type": "markdown",
   "metadata": {},
   "source": [
    "### Cylindrical capacity analysis"
   ]
  },
  {
   "cell_type": "code",
   "execution_count": 8,
   "metadata": {},
   "outputs": [
    {
     "data": {
      "text/plain": [
       "<seaborn.axisgrid.FacetGrid at 0x232c3a33e80>"
      ]
     },
     "execution_count": 8,
     "metadata": {},
     "output_type": "execute_result"
    },
    {
     "data": {
      "image/png": "[encoded data removed]",
      "text/plain": [
       "<Figure size 500x500 with 1 Axes>"
      ]
     },
     "metadata": {},
     "output_type": "display_data"
    }
   ],
   "source": [
    "fig = sns.displot(data = df_att, x = 'capacitate');\n",
    "fig.set(xlim = (0, 13000))\n",
    "fig.set(ylim = (0, 1000000))\n"
   ]
  },
  {
   "cell_type": "code",
   "execution_count": 9,
   "metadata": {},
   "outputs": [
    {
     "data": {
      "text/plain": [
       "<seaborn.axisgrid.FacetGrid at 0x232907ec880>"
      ]
     },
     "execution_count": 9,
     "metadata": {},
     "output_type": "execute_result"
    },
    {
     "data": {
      "image/png": "[encoded data removed]",
      "text/plain": [
       "<Figure size 500x500 with 1 Axes>"
      ]
     },
     "metadata": {},
     "output_type": "display_data"
    }
   ],
   "source": [
    "fig = sns.displot(data = df_att, x = 'capacitate');\n",
    "fig.set(xlim = (0, 4000))\n",
    "fig.set(ylim = (0, 1000000))\n"
   ]
  },
  {
   "cell_type": "code",
   "execution_count": 10,
   "metadata": {},
   "outputs": [
    {
     "name": "stdout",
     "output_type": "stream",
     "text": [
      "Percentage of cars with under 500 cylindrical capacity: 0.01\n"
     ]
    }
   ],
   "source": [
    "# percentage of cars with capacities under 500, which would be suspicious\n",
    "print(f'Percentage of cars with under 500 cylindrical capacity: {\"{:.2f}\".format((df_att[df_att.capacitate < 500].shape[0]/df_att.shape[0])*100)}')"
   ]
  },
  {
   "cell_type": "code",
   "execution_count": 11,
   "metadata": {},
   "outputs": [],
   "source": [
    "# create list of their indices for future removal\n",
    "list_small_capacity = df_att[df_att.capacitate < 500].index"
   ]
  },
  {
   "cell_type": "code",
   "execution_count": 13,
   "metadata": {},
   "outputs": [],
   "source": [
    "# delete the above selected rows\n",
    "df_att.drop(list_small_capacity, axis = 0, inplace = True)\n",
    "df_att.reset_index(drop=True, inplace = True)"
   ]
  },
  {
   "cell_type": "markdown",
   "metadata": {},
   "source": [
    "The capacity values must be binned into several categories, as per the KPMG report."
   ]
  },
  {
   "cell_type": "code",
   "execution_count": 17,
   "metadata": {},
   "outputs": [
    {
     "data": {
      "text/html": [
       "<div>\n",
       "<style scoped>\n",
       "    .dataframe tbody tr th:only-of-type {\n",
       "        vertical-align: middle;\n",
       "    }\n",
       "\n",
       "    .dataframe tbody tr th {\n",
       "        vertical-align: top;\n",
       "    }\n",
       "\n",
       "    .dataframe thead th {\n",
       "        text-align: right;\n",
       "    }\n",
       "</style>\n",
       "<table border=\"1\" class=\"dataframe\">\n",
       "  <thead>\n",
       "    <tr style=\"text-align: right;\">\n",
       "      <th></th>\n",
       "      <th>idPolita</th>\n",
       "      <th>capacitate</th>\n",
       "      <th>varsta</th>\n",
       "      <th>cap_ctg</th>\n",
       "    </tr>\n",
       "  </thead>\n",
       "  <tbody>\n",
       "    <tr>\n",
       "      <th>3682124</th>\n",
       "      <td>6778391</td>\n",
       "      <td>2143</td>\n",
       "      <td>59.0</td>\n",
       "      <td>c6</td>\n",
       "    </tr>\n",
       "    <tr>\n",
       "      <th>14220768</th>\n",
       "      <td>21768693</td>\n",
       "      <td>1896</td>\n",
       "      <td>68.0</td>\n",
       "      <td>c5</td>\n",
       "    </tr>\n",
       "    <tr>\n",
       "      <th>17727840</th>\n",
       "      <td>27144559</td>\n",
       "      <td>1896</td>\n",
       "      <td>46.0</td>\n",
       "      <td>c5</td>\n",
       "    </tr>\n",
       "    <tr>\n",
       "      <th>11607055</th>\n",
       "      <td>17604148</td>\n",
       "      <td>1956</td>\n",
       "      <td>26.0</td>\n",
       "      <td>c5</td>\n",
       "    </tr>\n",
       "    <tr>\n",
       "      <th>1986628</th>\n",
       "      <td>4577772</td>\n",
       "      <td>1248</td>\n",
       "      <td>45.0</td>\n",
       "      <td>c2</td>\n",
       "    </tr>\n",
       "    <tr>\n",
       "      <th>15901952</th>\n",
       "      <td>24451410</td>\n",
       "      <td>1598</td>\n",
       "      <td>35.0</td>\n",
       "      <td>c3</td>\n",
       "    </tr>\n",
       "    <tr>\n",
       "      <th>15052104</th>\n",
       "      <td>23156609</td>\n",
       "      <td>1896</td>\n",
       "      <td>79.0</td>\n",
       "      <td>c5</td>\n",
       "    </tr>\n",
       "    <tr>\n",
       "      <th>410629</th>\n",
       "      <td>2662472</td>\n",
       "      <td>1598</td>\n",
       "      <td>36.0</td>\n",
       "      <td>c3</td>\n",
       "    </tr>\n",
       "    <tr>\n",
       "      <th>5395537</th>\n",
       "      <td>8921144</td>\n",
       "      <td>2987</td>\n",
       "      <td>56.0</td>\n",
       "      <td>c7</td>\n",
       "    </tr>\n",
       "    <tr>\n",
       "      <th>3457968</th>\n",
       "      <td>6479649</td>\n",
       "      <td>1598</td>\n",
       "      <td>60.0</td>\n",
       "      <td>c3</td>\n",
       "    </tr>\n",
       "    <tr>\n",
       "      <th>9605121</th>\n",
       "      <td>14527411</td>\n",
       "      <td>1598</td>\n",
       "      <td>51.0</td>\n",
       "      <td>c3</td>\n",
       "    </tr>\n",
       "    <tr>\n",
       "      <th>5474934</th>\n",
       "      <td>9023275</td>\n",
       "      <td>1997</td>\n",
       "      <td>77.0</td>\n",
       "      <td>c5</td>\n",
       "    </tr>\n",
       "    <tr>\n",
       "      <th>14496316</th>\n",
       "      <td>22238334</td>\n",
       "      <td>1896</td>\n",
       "      <td>63.0</td>\n",
       "      <td>c5</td>\n",
       "    </tr>\n",
       "    <tr>\n",
       "      <th>1341216</th>\n",
       "      <td>3691618</td>\n",
       "      <td>1390</td>\n",
       "      <td>77.0</td>\n",
       "      <td>c2</td>\n",
       "    </tr>\n",
       "    <tr>\n",
       "      <th>11892242</th>\n",
       "      <td>18052094</td>\n",
       "      <td>1598</td>\n",
       "      <td>34.0</td>\n",
       "      <td>c3</td>\n",
       "    </tr>\n",
       "  </tbody>\n",
       "</table>\n",
       "</div>"
      ],
      "text/plain": [
       "          idPolita  capacitate  varsta cap_ctg\n",
       "3682124    6778391        2143    59.0      c6\n",
       "14220768  21768693        1896    68.0      c5\n",
       "17727840  27144559        1896    46.0      c5\n",
       "11607055  17604148        1956    26.0      c5\n",
       "1986628    4577772        1248    45.0      c2\n",
       "15901952  24451410        1598    35.0      c3\n",
       "15052104  23156609        1896    79.0      c5\n",
       "410629     2662472        1598    36.0      c3\n",
       "5395537    8921144        2987    56.0      c7\n",
       "3457968    6479649        1598    60.0      c3\n",
       "9605121   14527411        1598    51.0      c3\n",
       "5474934    9023275        1997    77.0      c5\n",
       "14496316  22238334        1896    63.0      c5\n",
       "1341216    3691618        1390    77.0      c2\n",
       "11892242  18052094        1598    34.0      c3"
      ]
     },
     "execution_count": 17,
     "metadata": {},
     "output_type": "execute_result"
    }
   ],
   "source": [
    "# binning operation\n",
    "bins = [0, 1200, 1400, 1600, 1800, 2000, 2500, np.inf]\n",
    "labels = ['c1', 'c2', 'c3', 'c4', 'c5', 'c6', 'c7']\n",
    "df_att['cap_ctg'] = pd.cut(df_att['capacitate'], bins=bins, labels=labels)\n",
    "\n",
    "df_att.sample(15)"
   ]
  },
  {
   "cell_type": "code",
   "execution_count": 18,
   "metadata": {},
   "outputs": [],
   "source": [
    "df_att.drop('capacitate', axis = 1, inplace = True)"
   ]
  },
  {
   "cell_type": "markdown",
   "metadata": {},
   "source": [
    "### Age analysis"
   ]
  },
  {
   "cell_type": "code",
   "execution_count": 12,
   "metadata": {},
   "outputs": [
    {
     "data": {
      "image/png": "[encoded data removed]",
      "text/plain": [
       "<Figure size 500x500 with 1 Axes>"
      ]
     },
     "metadata": {},
     "output_type": "display_data"
    }
   ],
   "source": [
    "fig = sns.displot(data = df_att, x = 'varsta');"
   ]
  },
  {
   "cell_type": "markdown",
   "metadata": {},
   "source": [
    "Age apears to be almost normally distributed."
   ]
  },
  {
   "cell_type": "code",
   "execution_count": 19,
   "metadata": {},
   "outputs": [
    {
     "name": "stdout",
     "output_type": "stream",
     "text": [
      "Percentage of drivers under 18 years of age: 0.007\n"
     ]
    }
   ],
   "source": [
    "# percentage of drivers under 18 - one cannot be insured under the age of 18, \n",
    "# meaning that such values are incorrect\n",
    "print(f'Percentage of drivers under 18 years of age: {\"{:.3f}\".format((df_att[df_att.varsta < 18].shape[0]/df_att.shape[0])*100)}')"
   ]
  },
  {
   "cell_type": "code",
   "execution_count": 20,
   "metadata": {},
   "outputs": [],
   "source": [
    "# create list of their indices for future removal\n",
    "list_incorrect_age = df_att[df_att.varsta < 18].index"
   ]
  },
  {
   "cell_type": "code",
   "execution_count": 21,
   "metadata": {},
   "outputs": [],
   "source": [
    "# delete the above selected rows\n",
    "df_att.drop(list_incorrect_age, axis = 0, inplace = True)\n",
    "df_att.reset_index(drop=True, inplace = True)"
   ]
  },
  {
   "cell_type": "markdown",
   "metadata": {},
   "source": [
    "The age values must be binned into several categories, as per the KPMG report."
   ]
  },
  {
   "cell_type": "code",
   "execution_count": 22,
   "metadata": {},
   "outputs": [
    {
     "data": {
      "text/html": [
       "<div>\n",
       "<style scoped>\n",
       "    .dataframe tbody tr th:only-of-type {\n",
       "        vertical-align: middle;\n",
       "    }\n",
       "\n",
       "    .dataframe tbody tr th {\n",
       "        vertical-align: top;\n",
       "    }\n",
       "\n",
       "    .dataframe thead th {\n",
       "        text-align: right;\n",
       "    }\n",
       "</style>\n",
       "<table border=\"1\" class=\"dataframe\">\n",
       "  <thead>\n",
       "    <tr style=\"text-align: right;\">\n",
       "      <th></th>\n",
       "      <th>idPolita</th>\n",
       "      <th>varsta</th>\n",
       "      <th>cap_ctg</th>\n",
       "      <th>age_ctg</th>\n",
       "    </tr>\n",
       "  </thead>\n",
       "  <tbody>\n",
       "    <tr>\n",
       "      <th>3564883</th>\n",
       "      <td>6622799</td>\n",
       "      <td>32.0</td>\n",
       "      <td>c4</td>\n",
       "      <td>a2</td>\n",
       "    </tr>\n",
       "    <tr>\n",
       "      <th>14086984</th>\n",
       "      <td>21557979</td>\n",
       "      <td>28.0</td>\n",
       "      <td>c6</td>\n",
       "      <td>a1</td>\n",
       "    </tr>\n",
       "    <tr>\n",
       "      <th>4861414</th>\n",
       "      <td>8255319</td>\n",
       "      <td>37.0</td>\n",
       "      <td>c4</td>\n",
       "      <td>a2</td>\n",
       "    </tr>\n",
       "    <tr>\n",
       "      <th>7206929</th>\n",
       "      <td>11287991</td>\n",
       "      <td>23.0</td>\n",
       "      <td>c2</td>\n",
       "      <td>a1</td>\n",
       "    </tr>\n",
       "    <tr>\n",
       "      <th>11153357</th>\n",
       "      <td>16904197</td>\n",
       "      <td>32.0</td>\n",
       "      <td>c5</td>\n",
       "      <td>a2</td>\n",
       "    </tr>\n",
       "    <tr>\n",
       "      <th>10811517</th>\n",
       "      <td>16372643</td>\n",
       "      <td>74.0</td>\n",
       "      <td>c2</td>\n",
       "      <td>a5</td>\n",
       "    </tr>\n",
       "    <tr>\n",
       "      <th>1939546</th>\n",
       "      <td>4512191</td>\n",
       "      <td>58.0</td>\n",
       "      <td>c3</td>\n",
       "      <td>a4</td>\n",
       "    </tr>\n",
       "    <tr>\n",
       "      <th>14186744</th>\n",
       "      <td>21716562</td>\n",
       "      <td>62.0</td>\n",
       "      <td>c3</td>\n",
       "      <td>a5</td>\n",
       "    </tr>\n",
       "    <tr>\n",
       "      <th>4911899</th>\n",
       "      <td>8318650</td>\n",
       "      <td>39.0</td>\n",
       "      <td>c6</td>\n",
       "      <td>a2</td>\n",
       "    </tr>\n",
       "    <tr>\n",
       "      <th>896752</th>\n",
       "      <td>3185038</td>\n",
       "      <td>64.0</td>\n",
       "      <td>c5</td>\n",
       "      <td>a5</td>\n",
       "    </tr>\n",
       "    <tr>\n",
       "      <th>14528104</th>\n",
       "      <td>22292461</td>\n",
       "      <td>32.0</td>\n",
       "      <td>c5</td>\n",
       "      <td>a2</td>\n",
       "    </tr>\n",
       "    <tr>\n",
       "      <th>16491989</th>\n",
       "      <td>25317165</td>\n",
       "      <td>27.0</td>\n",
       "      <td>c5</td>\n",
       "      <td>a1</td>\n",
       "    </tr>\n",
       "    <tr>\n",
       "      <th>13263137</th>\n",
       "      <td>20234277</td>\n",
       "      <td>63.0</td>\n",
       "      <td>c5</td>\n",
       "      <td>a5</td>\n",
       "    </tr>\n",
       "    <tr>\n",
       "      <th>19021722</th>\n",
       "      <td>202959034</td>\n",
       "      <td>77.0</td>\n",
       "      <td>c3</td>\n",
       "      <td>a5</td>\n",
       "    </tr>\n",
       "    <tr>\n",
       "      <th>3224485</th>\n",
       "      <td>6168769</td>\n",
       "      <td>53.0</td>\n",
       "      <td>c5</td>\n",
       "      <td>a4</td>\n",
       "    </tr>\n",
       "  </tbody>\n",
       "</table>\n",
       "</div>"
      ],
      "text/plain": [
       "           idPolita  varsta cap_ctg age_ctg\n",
       "3564883     6622799    32.0      c4      a2\n",
       "14086984   21557979    28.0      c6      a1\n",
       "4861414     8255319    37.0      c4      a2\n",
       "7206929    11287991    23.0      c2      a1\n",
       "11153357   16904197    32.0      c5      a2\n",
       "10811517   16372643    74.0      c2      a5\n",
       "1939546     4512191    58.0      c3      a4\n",
       "14186744   21716562    62.0      c3      a5\n",
       "4911899     8318650    39.0      c6      a2\n",
       "896752      3185038    64.0      c5      a5\n",
       "14528104   22292461    32.0      c5      a2\n",
       "16491989   25317165    27.0      c5      a1\n",
       "13263137   20234277    63.0      c5      a5\n",
       "19021722  202959034    77.0      c3      a5\n",
       "3224485     6168769    53.0      c5      a4"
      ]
     },
     "execution_count": 22,
     "metadata": {},
     "output_type": "execute_result"
    }
   ],
   "source": [
    "# binning operation\n",
    "bins = [0, 30, 40, 50, 60, np.inf]\n",
    "labels = ['a1', 'a2', 'a3', 'a4', 'a5']\n",
    "df_att['age_ctg'] = pd.cut(df_att['varsta'], bins=bins, labels=labels)\n",
    "\n",
    "df_att.sample(15)"
   ]
  },
  {
   "cell_type": "code",
   "execution_count": 23,
   "metadata": {},
   "outputs": [],
   "source": [
    "df_att.drop('varsta', axis = 1, inplace = True)"
   ]
  },
  {
   "cell_type": "code",
   "execution_count": 25,
   "metadata": {},
   "outputs": [],
   "source": [
    "# save data\n",
    "df_att.to_feather('data/input_autoturisme_attributes.feather')"
   ]
  },
  {
   "cell_type": "markdown",
   "metadata": {},
   "source": [
    "### Check claim values dataframes"
   ]
  },
  {
   "cell_type": "code",
   "execution_count": 26,
   "metadata": {},
   "outputs": [],
   "source": [
    "claims_mat = pd.read_feather('data/rca_autoturisme_valEvMat.feather')\n",
    "claims_vat = pd.read_feather('data/rca_autoturisme_valEvVat.feather')"
   ]
  },
  {
   "cell_type": "markdown",
   "metadata": {},
   "source": [
    "#### Material damages"
   ]
  },
  {
   "cell_type": "code",
   "execution_count": 27,
   "metadata": {},
   "outputs": [
    {
     "data": {
      "text/plain": [
       "0"
      ]
     },
     "execution_count": 27,
     "metadata": {},
     "output_type": "execute_result"
    }
   ],
   "source": [
    "claims_mat.duplicated().sum()"
   ]
  },
  {
   "cell_type": "code",
   "execution_count": 28,
   "metadata": {},
   "outputs": [
    {
     "data": {
      "text/plain": [
       "idEvent      0\n",
       "acc_year     0\n",
       "idPolita     0\n",
       "plati_ron    0\n",
       "plati_eur    0\n",
       "res_ron      0\n",
       "res_eur      0\n",
       "val_ron      0\n",
       "val_eur      0\n",
       "tip          0\n",
       "dtype: int64"
      ]
     },
     "execution_count": 28,
     "metadata": {},
     "output_type": "execute_result"
    }
   ],
   "source": [
    "claims_mat.isnull().sum()"
   ]
  },
  {
   "cell_type": "code",
   "execution_count": 29,
   "metadata": {},
   "outputs": [
    {
     "data": {
      "text/html": [
       "<div>\n",
       "<style scoped>\n",
       "    .dataframe tbody tr th:only-of-type {\n",
       "        vertical-align: middle;\n",
       "    }\n",
       "\n",
       "    .dataframe tbody tr th {\n",
       "        vertical-align: top;\n",
       "    }\n",
       "\n",
       "    .dataframe thead th {\n",
       "        text-align: right;\n",
       "    }\n",
       "</style>\n",
       "<table border=\"1\" class=\"dataframe\">\n",
       "  <thead>\n",
       "    <tr style=\"text-align: right;\">\n",
       "      <th></th>\n",
       "      <th>count</th>\n",
       "      <th>mean</th>\n",
       "      <th>std</th>\n",
       "      <th>min</th>\n",
       "      <th>25%</th>\n",
       "      <th>50%</th>\n",
       "      <th>75%</th>\n",
       "      <th>max</th>\n",
       "    </tr>\n",
       "  </thead>\n",
       "  <tbody>\n",
       "    <tr>\n",
       "      <th>idEvent</th>\n",
       "      <td>428237.0</td>\n",
       "      <td>2.932371e+05</td>\n",
       "      <td>1.868726e+05</td>\n",
       "      <td>0.000000e+00</td>\n",
       "      <td>1.291670e+05</td>\n",
       "      <td>2.807690e+05</td>\n",
       "      <td>4.569200e+05</td>\n",
       "      <td>6.280170e+05</td>\n",
       "    </tr>\n",
       "    <tr>\n",
       "      <th>acc_year</th>\n",
       "      <td>428237.0</td>\n",
       "      <td>2.018534e+03</td>\n",
       "      <td>1.725462e+00</td>\n",
       "      <td>2.015000e+03</td>\n",
       "      <td>2.017000e+03</td>\n",
       "      <td>2.019000e+03</td>\n",
       "      <td>2.020000e+03</td>\n",
       "      <td>2.021000e+03</td>\n",
       "    </tr>\n",
       "    <tr>\n",
       "      <th>idPolita</th>\n",
       "      <td>428237.0</td>\n",
       "      <td>1.783828e+07</td>\n",
       "      <td>2.984997e+07</td>\n",
       "      <td>2.230466e+06</td>\n",
       "      <td>6.629043e+06</td>\n",
       "      <td>1.306497e+07</td>\n",
       "      <td>2.041902e+07</td>\n",
       "      <td>2.038623e+08</td>\n",
       "    </tr>\n",
       "    <tr>\n",
       "      <th>plati_ron</th>\n",
       "      <td>428237.0</td>\n",
       "      <td>5.926910e+03</td>\n",
       "      <td>1.887464e+04</td>\n",
       "      <td>0.000000e+00</td>\n",
       "      <td>1.283000e+03</td>\n",
       "      <td>3.027000e+03</td>\n",
       "      <td>6.638000e+03</td>\n",
       "      <td>8.293199e+06</td>\n",
       "    </tr>\n",
       "    <tr>\n",
       "      <th>plati_eur</th>\n",
       "      <td>428237.0</td>\n",
       "      <td>1.250959e+03</td>\n",
       "      <td>3.993554e+03</td>\n",
       "      <td>0.000000e+00</td>\n",
       "      <td>2.729659e+02</td>\n",
       "      <td>6.449446e+02</td>\n",
       "      <td>1.403395e+03</td>\n",
       "      <td>1.766892e+06</td>\n",
       "    </tr>\n",
       "    <tr>\n",
       "      <th>res_ron</th>\n",
       "      <td>428237.0</td>\n",
       "      <td>1.353833e+03</td>\n",
       "      <td>6.964574e+03</td>\n",
       "      <td>-1.434399e+02</td>\n",
       "      <td>0.000000e+00</td>\n",
       "      <td>0.000000e+00</td>\n",
       "      <td>0.000000e+00</td>\n",
       "      <td>9.550200e+05</td>\n",
       "    </tr>\n",
       "    <tr>\n",
       "      <th>res_eur</th>\n",
       "      <td>428237.0</td>\n",
       "      <td>2.778337e+02</td>\n",
       "      <td>1.432820e+03</td>\n",
       "      <td>0.000000e+00</td>\n",
       "      <td>0.000000e+00</td>\n",
       "      <td>0.000000e+00</td>\n",
       "      <td>0.000000e+00</td>\n",
       "      <td>1.971140e+05</td>\n",
       "    </tr>\n",
       "    <tr>\n",
       "      <th>val_ron</th>\n",
       "      <td>428237.0</td>\n",
       "      <td>7.280744e+03</td>\n",
       "      <td>2.065912e+04</td>\n",
       "      <td>-1.000000e+00</td>\n",
       "      <td>1.787764e+03</td>\n",
       "      <td>3.686000e+03</td>\n",
       "      <td>7.719000e+03</td>\n",
       "      <td>8.293199e+06</td>\n",
       "    </tr>\n",
       "    <tr>\n",
       "      <th>val_eur</th>\n",
       "      <td>428237.0</td>\n",
       "      <td>1.528792e+03</td>\n",
       "      <td>4.351404e+03</td>\n",
       "      <td>0.000000e+00</td>\n",
       "      <td>3.779371e+02</td>\n",
       "      <td>7.778316e+02</td>\n",
       "      <td>1.624856e+03</td>\n",
       "      <td>1.766892e+06</td>\n",
       "    </tr>\n",
       "  </tbody>\n",
       "</table>\n",
       "</div>"
      ],
      "text/plain": [
       "              count          mean           std           min           25%  \\\n",
       "idEvent    428237.0  2.932371e+05  1.868726e+05  0.000000e+00  1.291670e+05   \n",
       "acc_year   428237.0  2.018534e+03  1.725462e+00  2.015000e+03  2.017000e+03   \n",
       "idPolita   428237.0  1.783828e+07  2.984997e+07  2.230466e+06  6.629043e+06   \n",
       "plati_ron  428237.0  5.926910e+03  1.887464e+04  0.000000e+00  1.283000e+03   \n",
       "plati_eur  428237.0  1.250959e+03  3.993554e+03  0.000000e+00  2.729659e+02   \n",
       "res_ron    428237.0  1.353833e+03  6.964574e+03 -1.434399e+02  0.000000e+00   \n",
       "res_eur    428237.0  2.778337e+02  1.432820e+03  0.000000e+00  0.000000e+00   \n",
       "val_ron    428237.0  7.280744e+03  2.065912e+04 -1.000000e+00  1.787764e+03   \n",
       "val_eur    428237.0  1.528792e+03  4.351404e+03  0.000000e+00  3.779371e+02   \n",
       "\n",
       "                    50%           75%           max  \n",
       "idEvent    2.807690e+05  4.569200e+05  6.280170e+05  \n",
       "acc_year   2.019000e+03  2.020000e+03  2.021000e+03  \n",
       "idPolita   1.306497e+07  2.041902e+07  2.038623e+08  \n",
       "plati_ron  3.027000e+03  6.638000e+03  8.293199e+06  \n",
       "plati_eur  6.449446e+02  1.403395e+03  1.766892e+06  \n",
       "res_ron    0.000000e+00  0.000000e+00  9.550200e+05  \n",
       "res_eur    0.000000e+00  0.000000e+00  1.971140e+05  \n",
       "val_ron    3.686000e+03  7.719000e+03  8.293199e+06  \n",
       "val_eur    7.778316e+02  1.624856e+03  1.766892e+06  "
      ]
     },
     "execution_count": 29,
     "metadata": {},
     "output_type": "execute_result"
    }
   ],
   "source": [
    "claims_mat.describe().T"
   ]
  },
  {
   "cell_type": "code",
   "execution_count": 58,
   "metadata": {},
   "outputs": [
    {
     "data": {
      "text/html": [
       "<div>\n",
       "<style scoped>\n",
       "    .dataframe tbody tr th:only-of-type {\n",
       "        vertical-align: middle;\n",
       "    }\n",
       "\n",
       "    .dataframe tbody tr th {\n",
       "        vertical-align: top;\n",
       "    }\n",
       "\n",
       "    .dataframe thead th {\n",
       "        text-align: right;\n",
       "    }\n",
       "</style>\n",
       "<table border=\"1\" class=\"dataframe\">\n",
       "  <thead>\n",
       "    <tr style=\"text-align: right;\">\n",
       "      <th></th>\n",
       "      <th>idEvent</th>\n",
       "      <th>acc_year</th>\n",
       "      <th>idPolita</th>\n",
       "      <th>plati_ron</th>\n",
       "      <th>plati_eur</th>\n",
       "      <th>res_ron</th>\n",
       "      <th>res_eur</th>\n",
       "      <th>val_ron</th>\n",
       "      <th>val_eur</th>\n",
       "      <th>tip</th>\n",
       "    </tr>\n",
       "  </thead>\n",
       "  <tbody>\n",
       "    <tr>\n",
       "      <th>2</th>\n",
       "      <td>2</td>\n",
       "      <td>2015</td>\n",
       "      <td>2230529</td>\n",
       "      <td>0.0</td>\n",
       "      <td>0.0</td>\n",
       "      <td>0.0</td>\n",
       "      <td>0.0</td>\n",
       "      <td>0.0</td>\n",
       "      <td>0.0</td>\n",
       "      <td>MAT</td>\n",
       "    </tr>\n",
       "    <tr>\n",
       "      <th>5</th>\n",
       "      <td>5</td>\n",
       "      <td>2015</td>\n",
       "      <td>2230594</td>\n",
       "      <td>0.0</td>\n",
       "      <td>0.0</td>\n",
       "      <td>0.0</td>\n",
       "      <td>0.0</td>\n",
       "      <td>0.0</td>\n",
       "      <td>0.0</td>\n",
       "      <td>MAT</td>\n",
       "    </tr>\n",
       "    <tr>\n",
       "      <th>14</th>\n",
       "      <td>18</td>\n",
       "      <td>2015</td>\n",
       "      <td>2230829</td>\n",
       "      <td>0.0</td>\n",
       "      <td>0.0</td>\n",
       "      <td>0.0</td>\n",
       "      <td>0.0</td>\n",
       "      <td>0.0</td>\n",
       "      <td>0.0</td>\n",
       "      <td>MAT</td>\n",
       "    </tr>\n",
       "    <tr>\n",
       "      <th>18</th>\n",
       "      <td>22</td>\n",
       "      <td>2015</td>\n",
       "      <td>2230950</td>\n",
       "      <td>0.0</td>\n",
       "      <td>0.0</td>\n",
       "      <td>0.0</td>\n",
       "      <td>0.0</td>\n",
       "      <td>0.0</td>\n",
       "      <td>0.0</td>\n",
       "      <td>MAT</td>\n",
       "    </tr>\n",
       "    <tr>\n",
       "      <th>72</th>\n",
       "      <td>78</td>\n",
       "      <td>2015</td>\n",
       "      <td>2232315</td>\n",
       "      <td>0.0</td>\n",
       "      <td>0.0</td>\n",
       "      <td>0.0</td>\n",
       "      <td>0.0</td>\n",
       "      <td>0.0</td>\n",
       "      <td>0.0</td>\n",
       "      <td>MAT</td>\n",
       "    </tr>\n",
       "    <tr>\n",
       "      <th>...</th>\n",
       "      <td>...</td>\n",
       "      <td>...</td>\n",
       "      <td>...</td>\n",
       "      <td>...</td>\n",
       "      <td>...</td>\n",
       "      <td>...</td>\n",
       "      <td>...</td>\n",
       "      <td>...</td>\n",
       "      <td>...</td>\n",
       "      <td>...</td>\n",
       "    </tr>\n",
       "    <tr>\n",
       "      <th>427236</th>\n",
       "      <td>626491</td>\n",
       "      <td>2021</td>\n",
       "      <td>203215910</td>\n",
       "      <td>0.0</td>\n",
       "      <td>0.0</td>\n",
       "      <td>0.0</td>\n",
       "      <td>0.0</td>\n",
       "      <td>0.0</td>\n",
       "      <td>0.0</td>\n",
       "      <td>MAT</td>\n",
       "    </tr>\n",
       "    <tr>\n",
       "      <th>427329</th>\n",
       "      <td>626628</td>\n",
       "      <td>2021</td>\n",
       "      <td>203250610</td>\n",
       "      <td>0.0</td>\n",
       "      <td>0.0</td>\n",
       "      <td>0.0</td>\n",
       "      <td>0.0</td>\n",
       "      <td>0.0</td>\n",
       "      <td>0.0</td>\n",
       "      <td>MAT</td>\n",
       "    </tr>\n",
       "    <tr>\n",
       "      <th>427375</th>\n",
       "      <td>626696</td>\n",
       "      <td>2021</td>\n",
       "      <td>203262771</td>\n",
       "      <td>0.0</td>\n",
       "      <td>0.0</td>\n",
       "      <td>0.0</td>\n",
       "      <td>0.0</td>\n",
       "      <td>0.0</td>\n",
       "      <td>0.0</td>\n",
       "      <td>MAT</td>\n",
       "    </tr>\n",
       "    <tr>\n",
       "      <th>427720</th>\n",
       "      <td>627213</td>\n",
       "      <td>2021</td>\n",
       "      <td>203399435</td>\n",
       "      <td>0.0</td>\n",
       "      <td>0.0</td>\n",
       "      <td>0.0</td>\n",
       "      <td>0.0</td>\n",
       "      <td>0.0</td>\n",
       "      <td>0.0</td>\n",
       "      <td>MAT</td>\n",
       "    </tr>\n",
       "    <tr>\n",
       "      <th>428134</th>\n",
       "      <td>627861</td>\n",
       "      <td>2021</td>\n",
       "      <td>203653046</td>\n",
       "      <td>0.0</td>\n",
       "      <td>0.0</td>\n",
       "      <td>0.0</td>\n",
       "      <td>0.0</td>\n",
       "      <td>0.0</td>\n",
       "      <td>0.0</td>\n",
       "      <td>MAT</td>\n",
       "    </tr>\n",
       "  </tbody>\n",
       "</table>\n",
       "<p>7206 rows × 10 columns</p>\n",
       "</div>"
      ],
      "text/plain": [
       "        idEvent  acc_year   idPolita  plati_ron  plati_eur  res_ron  res_eur  \\\n",
       "2             2      2015    2230529        0.0        0.0      0.0      0.0   \n",
       "5             5      2015    2230594        0.0        0.0      0.0      0.0   \n",
       "14           18      2015    2230829        0.0        0.0      0.0      0.0   \n",
       "18           22      2015    2230950        0.0        0.0      0.0      0.0   \n",
       "72           78      2015    2232315        0.0        0.0      0.0      0.0   \n",
       "...         ...       ...        ...        ...        ...      ...      ...   \n",
       "427236   626491      2021  203215910        0.0        0.0      0.0      0.0   \n",
       "427329   626628      2021  203250610        0.0        0.0      0.0      0.0   \n",
       "427375   626696      2021  203262771        0.0        0.0      0.0      0.0   \n",
       "427720   627213      2021  203399435        0.0        0.0      0.0      0.0   \n",
       "428134   627861      2021  203653046        0.0        0.0      0.0      0.0   \n",
       "\n",
       "        val_ron  val_eur  tip  \n",
       "2           0.0      0.0  MAT  \n",
       "5           0.0      0.0  MAT  \n",
       "14          0.0      0.0  MAT  \n",
       "18          0.0      0.0  MAT  \n",
       "72          0.0      0.0  MAT  \n",
       "...         ...      ...  ...  \n",
       "427236      0.0      0.0  MAT  \n",
       "427329      0.0      0.0  MAT  \n",
       "427375      0.0      0.0  MAT  \n",
       "427720      0.0      0.0  MAT  \n",
       "428134      0.0      0.0  MAT  \n",
       "\n",
       "[7206 rows x 10 columns]"
      ]
     },
     "execution_count": 58,
     "metadata": {},
     "output_type": "execute_result"
    }
   ],
   "source": [
    "# check for 0 values in val_ron (the only column to be used in the modeling)\n",
    "claims_mat[claims_mat.val_ron == 0]"
   ]
  },
  {
   "cell_type": "code",
   "execution_count": 59,
   "metadata": {},
   "outputs": [
    {
     "data": {
      "text/plain": [
       "<seaborn.axisgrid.FacetGrid at 0x1f32ea9a0d0>"
      ]
     },
     "execution_count": 59,
     "metadata": {},
     "output_type": "execute_result"
    },
    {
     "data": {
      "image/png": "[encoded data removed]",
      "text/plain": [
       "<Figure size 500x500 with 1 Axes>"
      ]
     },
     "metadata": {},
     "output_type": "display_data"
    }
   ],
   "source": [
    "fig = sns.displot(claims_mat, x = 'val_ron');\n",
    "fig.set(xlim = (0, 100000))\n",
    "fig.set(ylim = (0, 8000))"
   ]
  },
  {
   "cell_type": "markdown",
   "metadata": {},
   "source": [
    "The distribution ressembles an exponential one. Therefore, I use the median to replace the 0 values in val_ron (claim value)."
   ]
  },
  {
   "cell_type": "code",
   "execution_count": 30,
   "metadata": {},
   "outputs": [
    {
     "data": {
      "text/plain": [
       "3686.0"
      ]
     },
     "execution_count": 30,
     "metadata": {},
     "output_type": "execute_result"
    }
   ],
   "source": [
    "claims_mat.val_ron.median()"
   ]
  },
  {
   "cell_type": "code",
   "execution_count": 31,
   "metadata": {},
   "outputs": [],
   "source": [
    "# replace 0 values with the column median\n",
    "claims_mat.val_ron.replace(0, claims_mat.val_ron.median(), inplace = True)"
   ]
  },
  {
   "cell_type": "code",
   "execution_count": 32,
   "metadata": {},
   "outputs": [],
   "source": [
    "claims_mat.to_feather('data/rca_autoturisme_valEvMat.feather')"
   ]
  },
  {
   "cell_type": "markdown",
   "metadata": {},
   "source": [
    "#### Bodily harm (vatamari corporale)"
   ]
  },
  {
   "cell_type": "code",
   "execution_count": 62,
   "metadata": {},
   "outputs": [
    {
     "data": {
      "text/plain": [
       "0"
      ]
     },
     "execution_count": 62,
     "metadata": {},
     "output_type": "execute_result"
    }
   ],
   "source": [
    "claims_vat.duplicated().sum()"
   ]
  },
  {
   "cell_type": "code",
   "execution_count": 63,
   "metadata": {},
   "outputs": [
    {
     "data": {
      "text/plain": [
       "idEvent      0\n",
       "acc_year     0\n",
       "idPolita     0\n",
       "plati_ron    0\n",
       "plati_eur    0\n",
       "res_ron      0\n",
       "res_eur      0\n",
       "val_ron      0\n",
       "val_eur      0\n",
       "tip          0\n",
       "dtype: int64"
      ]
     },
     "execution_count": 63,
     "metadata": {},
     "output_type": "execute_result"
    }
   ],
   "source": [
    "claims_vat.isnull().sum()"
   ]
  },
  {
   "cell_type": "code",
   "execution_count": 64,
   "metadata": {},
   "outputs": [
    {
     "data": {
      "text/html": [
       "<div>\n",
       "<style scoped>\n",
       "    .dataframe tbody tr th:only-of-type {\n",
       "        vertical-align: middle;\n",
       "    }\n",
       "\n",
       "    .dataframe tbody tr th {\n",
       "        vertical-align: top;\n",
       "    }\n",
       "\n",
       "    .dataframe thead th {\n",
       "        text-align: right;\n",
       "    }\n",
       "</style>\n",
       "<table border=\"1\" class=\"dataframe\">\n",
       "  <thead>\n",
       "    <tr style=\"text-align: right;\">\n",
       "      <th></th>\n",
       "      <th>idEvent</th>\n",
       "      <th>acc_year</th>\n",
       "      <th>idPolita</th>\n",
       "      <th>plati_ron</th>\n",
       "      <th>plati_eur</th>\n",
       "      <th>res_ron</th>\n",
       "      <th>res_eur</th>\n",
       "      <th>val_ron</th>\n",
       "      <th>val_eur</th>\n",
       "      <th>tip</th>\n",
       "    </tr>\n",
       "  </thead>\n",
       "  <tbody>\n",
       "    <tr>\n",
       "      <th>18</th>\n",
       "      <td>628068</td>\n",
       "      <td>2015</td>\n",
       "      <td>2298386</td>\n",
       "      <td>0.0</td>\n",
       "      <td>0.0</td>\n",
       "      <td>0.0</td>\n",
       "      <td>0.0</td>\n",
       "      <td>0.0</td>\n",
       "      <td>0.0</td>\n",
       "      <td>VAT</td>\n",
       "    </tr>\n",
       "    <tr>\n",
       "      <th>26</th>\n",
       "      <td>628081</td>\n",
       "      <td>2015</td>\n",
       "      <td>2328664</td>\n",
       "      <td>0.0</td>\n",
       "      <td>0.0</td>\n",
       "      <td>0.0</td>\n",
       "      <td>0.0</td>\n",
       "      <td>0.0</td>\n",
       "      <td>0.0</td>\n",
       "      <td>VAT</td>\n",
       "    </tr>\n",
       "    <tr>\n",
       "      <th>31</th>\n",
       "      <td>628100</td>\n",
       "      <td>2015</td>\n",
       "      <td>2354916</td>\n",
       "      <td>0.0</td>\n",
       "      <td>0.0</td>\n",
       "      <td>0.0</td>\n",
       "      <td>0.0</td>\n",
       "      <td>0.0</td>\n",
       "      <td>0.0</td>\n",
       "      <td>VAT</td>\n",
       "    </tr>\n",
       "    <tr>\n",
       "      <th>41</th>\n",
       "      <td>628127</td>\n",
       "      <td>2015</td>\n",
       "      <td>2398188</td>\n",
       "      <td>0.0</td>\n",
       "      <td>0.0</td>\n",
       "      <td>0.0</td>\n",
       "      <td>0.0</td>\n",
       "      <td>0.0</td>\n",
       "      <td>0.0</td>\n",
       "      <td>VAT</td>\n",
       "    </tr>\n",
       "    <tr>\n",
       "      <th>45</th>\n",
       "      <td>628139</td>\n",
       "      <td>2015</td>\n",
       "      <td>2430692</td>\n",
       "      <td>0.0</td>\n",
       "      <td>0.0</td>\n",
       "      <td>0.0</td>\n",
       "      <td>0.0</td>\n",
       "      <td>0.0</td>\n",
       "      <td>0.0</td>\n",
       "      <td>VAT</td>\n",
       "    </tr>\n",
       "    <tr>\n",
       "      <th>...</th>\n",
       "      <td>...</td>\n",
       "      <td>...</td>\n",
       "      <td>...</td>\n",
       "      <td>...</td>\n",
       "      <td>...</td>\n",
       "      <td>...</td>\n",
       "      <td>...</td>\n",
       "      <td>...</td>\n",
       "      <td>...</td>\n",
       "      <td>...</td>\n",
       "    </tr>\n",
       "    <tr>\n",
       "      <th>7579</th>\n",
       "      <td>636792</td>\n",
       "      <td>2020</td>\n",
       "      <td>20613990</td>\n",
       "      <td>0.0</td>\n",
       "      <td>0.0</td>\n",
       "      <td>0.0</td>\n",
       "      <td>0.0</td>\n",
       "      <td>0.0</td>\n",
       "      <td>0.0</td>\n",
       "      <td>VAT</td>\n",
       "    </tr>\n",
       "    <tr>\n",
       "      <th>7619</th>\n",
       "      <td>636921</td>\n",
       "      <td>2020</td>\n",
       "      <td>21076832</td>\n",
       "      <td>0.0</td>\n",
       "      <td>0.0</td>\n",
       "      <td>0.0</td>\n",
       "      <td>0.0</td>\n",
       "      <td>0.0</td>\n",
       "      <td>0.0</td>\n",
       "      <td>VAT</td>\n",
       "    </tr>\n",
       "    <tr>\n",
       "      <th>7661</th>\n",
       "      <td>637056</td>\n",
       "      <td>2020</td>\n",
       "      <td>21673664</td>\n",
       "      <td>0.0</td>\n",
       "      <td>0.0</td>\n",
       "      <td>0.0</td>\n",
       "      <td>0.0</td>\n",
       "      <td>0.0</td>\n",
       "      <td>0.0</td>\n",
       "      <td>VAT</td>\n",
       "    </tr>\n",
       "    <tr>\n",
       "      <th>7722</th>\n",
       "      <td>637237</td>\n",
       "      <td>2020</td>\n",
       "      <td>22507221</td>\n",
       "      <td>0.0</td>\n",
       "      <td>0.0</td>\n",
       "      <td>0.0</td>\n",
       "      <td>0.0</td>\n",
       "      <td>0.0</td>\n",
       "      <td>0.0</td>\n",
       "      <td>VAT</td>\n",
       "    </tr>\n",
       "    <tr>\n",
       "      <th>7730</th>\n",
       "      <td>637259</td>\n",
       "      <td>2020</td>\n",
       "      <td>22634142</td>\n",
       "      <td>0.0</td>\n",
       "      <td>0.0</td>\n",
       "      <td>0.0</td>\n",
       "      <td>0.0</td>\n",
       "      <td>0.0</td>\n",
       "      <td>0.0</td>\n",
       "      <td>VAT</td>\n",
       "    </tr>\n",
       "  </tbody>\n",
       "</table>\n",
       "<p>327 rows × 10 columns</p>\n",
       "</div>"
      ],
      "text/plain": [
       "      idEvent  acc_year  idPolita  plati_ron  plati_eur  res_ron  res_eur  \\\n",
       "18     628068      2015   2298386        0.0        0.0      0.0      0.0   \n",
       "26     628081      2015   2328664        0.0        0.0      0.0      0.0   \n",
       "31     628100      2015   2354916        0.0        0.0      0.0      0.0   \n",
       "41     628127      2015   2398188        0.0        0.0      0.0      0.0   \n",
       "45     628139      2015   2430692        0.0        0.0      0.0      0.0   \n",
       "...       ...       ...       ...        ...        ...      ...      ...   \n",
       "7579   636792      2020  20613990        0.0        0.0      0.0      0.0   \n",
       "7619   636921      2020  21076832        0.0        0.0      0.0      0.0   \n",
       "7661   637056      2020  21673664        0.0        0.0      0.0      0.0   \n",
       "7722   637237      2020  22507221        0.0        0.0      0.0      0.0   \n",
       "7730   637259      2020  22634142        0.0        0.0      0.0      0.0   \n",
       "\n",
       "      val_ron  val_eur  tip  \n",
       "18        0.0      0.0  VAT  \n",
       "26        0.0      0.0  VAT  \n",
       "31        0.0      0.0  VAT  \n",
       "41        0.0      0.0  VAT  \n",
       "45        0.0      0.0  VAT  \n",
       "...       ...      ...  ...  \n",
       "7579      0.0      0.0  VAT  \n",
       "7619      0.0      0.0  VAT  \n",
       "7661      0.0      0.0  VAT  \n",
       "7722      0.0      0.0  VAT  \n",
       "7730      0.0      0.0  VAT  \n",
       "\n",
       "[327 rows x 10 columns]"
      ]
     },
     "execution_count": 64,
     "metadata": {},
     "output_type": "execute_result"
    }
   ],
   "source": [
    "# check for 0 values in val_ron (the only column to be used in the modeling)\n",
    "claims_vat[claims_vat.val_ron == 0]"
   ]
  },
  {
   "cell_type": "code",
   "execution_count": 33,
   "metadata": {},
   "outputs": [
    {
     "data": {
      "text/plain": [
       "18410.065042495728"
      ]
     },
     "execution_count": 33,
     "metadata": {},
     "output_type": "execute_result"
    }
   ],
   "source": [
    "claims_vat.val_ron.median()"
   ]
  },
  {
   "cell_type": "code",
   "execution_count": 34,
   "metadata": {},
   "outputs": [],
   "source": [
    "# replace zero values with median\n",
    "claims_vat.val_ron.replace(0, claims_vat.val_ron.median(), inplace = True)"
   ]
  },
  {
   "cell_type": "code",
   "execution_count": 35,
   "metadata": {},
   "outputs": [],
   "source": [
    "claims_vat.to_feather('data/rca_autoturisme_valEvVat.feather')"
   ]
  },
  {
   "cell_type": "markdown",
   "metadata": {},
   "source": [
    "### Check event number dataframes"
   ]
  },
  {
   "cell_type": "code",
   "execution_count": 36,
   "metadata": {},
   "outputs": [],
   "source": [
    "no_mat = pd.read_feather('data/rca_autoturisme_nrEvMat.feather')\n",
    "no_vat = pd.read_feather('data/rca_autoturisme_nrEvVat.feather')"
   ]
  },
  {
   "cell_type": "markdown",
   "metadata": {},
   "source": [
    "#### Material damage"
   ]
  },
  {
   "cell_type": "code",
   "execution_count": 37,
   "metadata": {},
   "outputs": [
    {
     "data": {
      "text/plain": [
       "0"
      ]
     },
     "execution_count": 37,
     "metadata": {},
     "output_type": "execute_result"
    }
   ],
   "source": [
    "no_mat.duplicated().sum()"
   ]
  },
  {
   "cell_type": "code",
   "execution_count": 38,
   "metadata": {},
   "outputs": [
    {
     "data": {
      "text/plain": [
       "acc_year     0\n",
       "idPolita     0\n",
       "nr_events    0\n",
       "tip          0\n",
       "dtype: int64"
      ]
     },
     "execution_count": 38,
     "metadata": {},
     "output_type": "execute_result"
    }
   ],
   "source": [
    "no_mat.isnull().sum()"
   ]
  },
  {
   "cell_type": "code",
   "execution_count": 39,
   "metadata": {},
   "outputs": [
    {
     "data": {
      "text/plain": [
       "2019.0    80651\n",
       "2018.0    73609\n",
       "2020.0    72693\n",
       "2017.0    66900\n",
       "2021.0    66179\n",
       "2016.0    37346\n",
       "2015.0    19819\n",
       "Name: acc_year, dtype: int64"
      ]
     },
     "execution_count": 39,
     "metadata": {},
     "output_type": "execute_result"
    }
   ],
   "source": [
    "no_mat.acc_year.value_counts()"
   ]
  },
  {
   "cell_type": "code",
   "execution_count": 40,
   "metadata": {},
   "outputs": [
    {
     "data": {
      "text/plain": [
       "1.0    406644\n",
       "2.0     10110\n",
       "3.0       409\n",
       "4.0        27\n",
       "5.0         5\n",
       "7.0         1\n",
       "6.0         1\n",
       "Name: nr_events, dtype: int64"
      ]
     },
     "execution_count": 40,
     "metadata": {},
     "output_type": "execute_result"
    }
   ],
   "source": [
    "no_mat.nr_events.value_counts()"
   ]
  },
  {
   "cell_type": "code",
   "execution_count": 41,
   "metadata": {},
   "outputs": [
    {
     "data": {
      "text/plain": [
       "MAT    417197\n",
       "Name: tip, dtype: int64"
      ]
     },
     "execution_count": 41,
     "metadata": {},
     "output_type": "execute_result"
    }
   ],
   "source": [
    "no_mat.tip.value_counts()"
   ]
  },
  {
   "cell_type": "markdown",
   "metadata": {},
   "source": [
    "#### Bodily harm"
   ]
  },
  {
   "cell_type": "code",
   "execution_count": 42,
   "metadata": {},
   "outputs": [
    {
     "data": {
      "text/plain": [
       "0"
      ]
     },
     "execution_count": 42,
     "metadata": {},
     "output_type": "execute_result"
    }
   ],
   "source": [
    "no_vat.duplicated().sum()"
   ]
  },
  {
   "cell_type": "code",
   "execution_count": 43,
   "metadata": {},
   "outputs": [
    {
     "data": {
      "text/plain": [
       "acc_year     0\n",
       "idPolita     0\n",
       "nr_events    0\n",
       "tip          0\n",
       "dtype: int64"
      ]
     },
     "execution_count": 43,
     "metadata": {},
     "output_type": "execute_result"
    }
   ],
   "source": [
    "no_vat.isnull().sum()"
   ]
  },
  {
   "cell_type": "code",
   "execution_count": 44,
   "metadata": {},
   "outputs": [
    {
     "data": {
      "text/plain": [
       "2018.0    1925\n",
       "2017.0    1683\n",
       "2019.0    1531\n",
       "2020.0    1006\n",
       "2016.0     884\n",
       "2021.0     477\n",
       "2015.0     435\n",
       "Name: acc_year, dtype: int64"
      ]
     },
     "execution_count": 44,
     "metadata": {},
     "output_type": "execute_result"
    }
   ],
   "source": [
    "no_vat.acc_year.value_counts()"
   ]
  },
  {
   "cell_type": "code",
   "execution_count": 45,
   "metadata": {},
   "outputs": [
    {
     "data": {
      "text/plain": [
       "1.0    7850\n",
       "2.0      91\n",
       "Name: nr_events, dtype: int64"
      ]
     },
     "execution_count": 45,
     "metadata": {},
     "output_type": "execute_result"
    }
   ],
   "source": [
    "no_vat.nr_events.value_counts()"
   ]
  },
  {
   "cell_type": "code",
   "execution_count": 46,
   "metadata": {},
   "outputs": [
    {
     "data": {
      "text/plain": [
       "VAT    7941\n",
       "Name: tip, dtype: int64"
      ]
     },
     "execution_count": 46,
     "metadata": {},
     "output_type": "execute_result"
    }
   ],
   "source": [
    "no_vat.tip.value_counts()"
   ]
  }
 ],
 "metadata": {
  "kernelspec": {
   "display_name": "Python 3.9.7 64-bit",
   "language": "python",
   "name": "python3"
  },
  "language_info": {
   "codemirror_mode": {
    "name": "ipython",
    "version": 3
   },
   "file_extension": ".py",
   "mimetype": "text/x-python",
   "name": "python",
   "nbconvert_exporter": "python",
   "pygments_lexer": "ipython3",
   "version": "3.9.7"
  },
  "orig_nbformat": 4,
  "vscode": {
   "interpreter": {
    "hash": "fea6285dc85dc598e45933db2eefb8fc97d6be303f784144309c577fb28ff0b0"
   }
  }
 },
 "nbformat": 4,
 "nbformat_minor": 2
}
