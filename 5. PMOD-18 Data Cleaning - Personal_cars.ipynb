{
 "cells": [
  {
   "cell_type": "code",
   "execution_count": 1,
   "metadata": {},
   "outputs": [],
   "source": [
    "import pandas as pd\n",
    "import numpy as np\n",
    "from settings import Config\n",
    "from mysql_db import Database\n",
    "import pdcast as pdc\n",
    "import s3_upload_download as s3con\n",
    "import os\n",
    "from datetime import datetime"
   ]
  },
  {
   "attachments": {},
   "cell_type": "markdown",
   "metadata": {},
   "source": [
    "# NOTEBOOK DESCRIPTION: \n",
    "\n",
    "Exploration and cleaning of the predictors needed for the frequency and severity analyses for PERSONAL CARS (autoturisme). Following the KPMG report, these are:\n",
    "\n",
    "1. Driver's age (varsta), binned into categories\n",
    "2. Car's cylinder capacity (capacitate), binned into categories\n"
   ]
  },
  {
   "cell_type": "code",
   "execution_count": 2,
   "metadata": {},
   "outputs": [],
   "source": [
    "# initialise the s3_connector object needed to read/write files into an S3 bucket\n",
    "s3con = s3con.s3_connector()"
   ]
  },
  {
   "cell_type": "code",
   "execution_count": 3,
   "metadata": {},
   "outputs": [],
   "source": [
    "# load tables\n",
    "category = s3con.read('att6_category_type.feather')\n",
    "capacity = s3con.read('att8_capacity.feather')\n",
    "age = s3con.read('att2_age.feather')\n",
    "type = s3con.read('att1_type.feather')"
   ]
  },
  {
   "attachments": {},
   "cell_type": "markdown",
   "metadata": {},
   "source": [
    "## STEP I - Combine analysis elements into one dataframe\n",
    "This involves:\n",
    "1. Selecting all policies of personal cars\n",
    "2. Adding the age and power columns\n"
   ]
  },
  {
   "cell_type": "code",
   "execution_count": 4,
   "metadata": {},
   "outputs": [
    {
     "data": {
      "text/plain": [
       "21731441"
      ]
     },
     "execution_count": 4,
     "metadata": {},
     "output_type": "execute_result"
    }
   ],
   "source": [
    "cat = (\n",
    "    category\n",
    "    .query(\"categorie == 'Autoturism'\") # select only the policies belonging to personal cars\n",
    "    .filter(items = ['idPolita']) # only need the policy id column\n",
    "    .merge(capacity, on = 'idPolita', how = 'left') # merge with capacity, age and type (legal/individual persons)\n",
    "    .merge(age, on = 'idPolita', how = 'left')\n",
    "    .merge(type, on = 'idPolita', how = 'left')\n",
    ")\n",
    "\n",
    "del category, capacity, age, type\n",
    "cat.shape[0]"
   ]
  },
  {
   "attachments": {},
   "cell_type": "markdown",
   "metadata": {},
   "source": [
    "## STEP II - EDA and Cleaning\n",
    "Start by performing a quick EDA on the dataframe to spot any obvious issues."
   ]
  },
  {
   "cell_type": "code",
   "execution_count": 5,
   "metadata": {},
   "outputs": [
    {
     "name": "stdout",
     "output_type": "stream",
     "text": [
      "Total duplicates:  0\n",
      "Policy ID duplicates:  0\n"
     ]
    }
   ],
   "source": [
    "# check for total duplicates and for policy id duplicates\n",
    "print('Total duplicates: ', cat.duplicated().sum())\n",
    "print('Policy ID duplicates: ', cat.duplicated('idPolita').sum())"
   ]
  },
  {
   "cell_type": "code",
   "execution_count": 6,
   "metadata": {},
   "outputs": [
    {
     "data": {
      "text/plain": [
       "idPolita      0\n",
       "capacitate    0\n",
       "varsta        0\n",
       "tip           0\n",
       "dtype: int64"
      ]
     },
     "execution_count": 6,
     "metadata": {},
     "output_type": "execute_result"
    }
   ],
   "source": [
    "# check for nans\n",
    "cat.isnull().sum()"
   ]
  },
  {
   "cell_type": "code",
   "execution_count": 7,
   "metadata": {},
   "outputs": [
    {
     "name": "stdout",
     "output_type": "stream",
     "text": [
      "<class 'pandas.core.frame.DataFrame'>\n",
      "Int64Index: 21731441 entries, 0 to 21731440\n",
      "Data columns (total 4 columns):\n",
      " #   Column      Dtype   \n",
      "---  ------      -----   \n",
      " 0   idPolita    uint32  \n",
      " 1   capacitate  uint16  \n",
      " 2   varsta      int16   \n",
      " 3   tip         category\n",
      "dtypes: category(1), int16(1), uint16(1), uint32(1)\n",
      "memory usage: 352.3 MB\n"
     ]
    }
   ],
   "source": [
    "# check column types\n",
    "cat.info()"
   ]
  },
  {
   "cell_type": "code",
   "execution_count": 8,
   "metadata": {},
   "outputs": [
    {
     "data": {
      "text/html": [
       "<div>\n",
       "<style scoped>\n",
       "    .dataframe tbody tr th:only-of-type {\n",
       "        vertical-align: middle;\n",
       "    }\n",
       "\n",
       "    .dataframe tbody tr th {\n",
       "        vertical-align: top;\n",
       "    }\n",
       "\n",
       "    .dataframe thead th {\n",
       "        text-align: right;\n",
       "    }\n",
       "</style>\n",
       "<table border=\"1\" class=\"dataframe\">\n",
       "  <thead>\n",
       "    <tr style=\"text-align: right;\">\n",
       "      <th></th>\n",
       "      <th>count</th>\n",
       "      <th>mean</th>\n",
       "      <th>std</th>\n",
       "      <th>min</th>\n",
       "      <th>25%</th>\n",
       "      <th>50%</th>\n",
       "      <th>75%</th>\n",
       "      <th>max</th>\n",
       "    </tr>\n",
       "  </thead>\n",
       "  <tbody>\n",
       "    <tr>\n",
       "      <th>idPolita</th>\n",
       "      <td>21731441.0</td>\n",
       "      <td>3.027331e+07</td>\n",
       "      <td>5.252161e+07</td>\n",
       "      <td>2230446.0</td>\n",
       "      <td>8705560.0</td>\n",
       "      <td>15438072.0</td>\n",
       "      <td>22876617.0</td>\n",
       "      <td>203964267.0</td>\n",
       "    </tr>\n",
       "    <tr>\n",
       "      <th>capacitate</th>\n",
       "      <td>21731441.0</td>\n",
       "      <td>1.751406e+03</td>\n",
       "      <td>4.534270e+02</td>\n",
       "      <td>0.0</td>\n",
       "      <td>1461.0</td>\n",
       "      <td>1686.0</td>\n",
       "      <td>1968.0</td>\n",
       "      <td>19000.0</td>\n",
       "    </tr>\n",
       "    <tr>\n",
       "      <th>varsta</th>\n",
       "      <td>21731441.0</td>\n",
       "      <td>7.265910e+01</td>\n",
       "      <td>8.074015e+01</td>\n",
       "      <td>-29.0</td>\n",
       "      <td>37.0</td>\n",
       "      <td>48.0</td>\n",
       "      <td>63.0</td>\n",
       "      <td>321.0</td>\n",
       "    </tr>\n",
       "  </tbody>\n",
       "</table>\n",
       "</div>"
      ],
      "text/plain": [
       "                 count          mean           std        min        25%  \\\n",
       "idPolita    21731441.0  3.027331e+07  5.252161e+07  2230446.0  8705560.0   \n",
       "capacitate  21731441.0  1.751406e+03  4.534270e+02        0.0     1461.0   \n",
       "varsta      21731441.0  7.265910e+01  8.074015e+01      -29.0       37.0   \n",
       "\n",
       "                   50%         75%          max  \n",
       "idPolita    15438072.0  22876617.0  203964267.0  \n",
       "capacitate      1686.0      1968.0      19000.0  \n",
       "varsta            48.0        63.0        321.0  "
      ]
     },
     "execution_count": 8,
     "metadata": {},
     "output_type": "execute_result"
    }
   ],
   "source": [
    "# descriptive stats\n",
    "cat.describe().T"
   ]
  },
  {
   "attachments": {},
   "cell_type": "markdown",
   "metadata": {},
   "source": [
    "Issues:\n",
    "1. Capacity has a minimum of zero, which is not possible;\n",
    "2. Age has negative values."
   ]
  },
  {
   "cell_type": "code",
   "execution_count": 9,
   "metadata": {},
   "outputs": [],
   "source": [
    "# before analysing and cleaning each attribute, \n",
    "# separate (for size management) the legal persons (PJ) from the individual persons (PF)\n",
    "# then delete column Type\n",
    "\n",
    "pj = (\n",
    "    cat\n",
    "    .query(\"tip == 'PJ'\")\n",
    "    .filter(items = ['idPolita', 'capacitate', 'varsta'])\n",
    ")\n",
    "\n",
    "pf = (\n",
    "    cat\n",
    "    .query(\"tip == 'PF'\")\n",
    "    .filter(items = ['idPolita', 'capacitate', 'varsta'])\n",
    ")\n",
    "\n",
    "del cat"
   ]
  },
  {
   "cell_type": "code",
   "execution_count": 10,
   "metadata": {},
   "outputs": [
    {
     "name": "stdout",
     "output_type": "stream",
     "text": [
      "Number of individual persons:  19707765\n",
      "Number of legal persons:  2023676\n"
     ]
    }
   ],
   "source": [
    "print('Number of individual persons: ', pf.shape[0])\n",
    "print('Number of legal persons: ', pj.shape[0])"
   ]
  },
  {
   "attachments": {},
   "cell_type": "markdown",
   "metadata": {},
   "source": [
    "### Cylinder Capacity "
   ]
  },
  {
   "attachments": {},
   "cell_type": "markdown",
   "metadata": {},
   "source": [
    "For personal cars, a cylinder capacity in the 500 - 7500 range is considered 'normal'."
   ]
  },
  {
   "cell_type": "code",
   "execution_count": 11,
   "metadata": {},
   "outputs": [],
   "source": [
    "# select policies with capacity outside the above range\n",
    "outliers_pf = (\n",
    "    pf.query(\"capacitate < 500 or capacitate > 7500\")\n",
    ")\n",
    "\n",
    "outliers_pj = (\n",
    "    pj.query(\"capacitate < 500 or capacitate > 7500\")\n",
    ")\n"
   ]
  },
  {
   "attachments": {},
   "cell_type": "markdown",
   "metadata": {},
   "source": [
    "Before attempting to clean, I will investigate whether these are worth the trouble by calculating:\n",
    "1. The percentage of outliers\n",
    "2. The percentage of events from all personal car events (events = accidents)\n",
    "3. The percentage of claim value from the total claim valu of personal cars"
   ]
  },
  {
   "cell_type": "code",
   "execution_count": 12,
   "metadata": {},
   "outputs": [
    {
     "name": "stdout",
     "output_type": "stream",
     "text": [
      "PF outliers in all policies: 0.01%\n",
      "PJ outliers in all policies: 0.16%\n"
     ]
    }
   ],
   "source": [
    "# percentage of outliers\n",
    "print(f\"PF outliers in all policies: {outliers_pf.shape[0]/pf.shape[0]:.2%}\")\n",
    "print(f\"PJ outliers in all policies: {outliers_pj.shape[0]/pj.shape[0]:.2%}\")"
   ]
  },
  {
   "cell_type": "code",
   "execution_count": 13,
   "metadata": {},
   "outputs": [
    {
     "name": "stdout",
     "output_type": "stream",
     "text": [
      "Percentage for PF: 0.01%\n",
      "Percentage for PJ: 0.19%\n"
     ]
    }
   ],
   "source": [
    "# percentage of events\n",
    "ev = s3con.read('events_no.feather')\n",
    "\n",
    "print(f'Percentage for PF: {ev[ev.idPolita.isin(outliers_pf.idPolita.values)].total_ev.sum()/ev[ev.idPolita.isin(pf.idPolita.values)].total_ev.sum():.2%}')\n",
    "\n",
    "print(f'Percentage for PJ: {ev[ev.idPolita.isin(outliers_pj.idPolita.values)].total_ev.sum()/ev[ev.idPolita.isin(pj.idPolita.values)].total_ev.sum():.2%}')\n",
    "\n",
    "del ev"
   ]
  },
  {
   "cell_type": "code",
   "execution_count": 14,
   "metadata": {},
   "outputs": [
    {
     "name": "stdout",
     "output_type": "stream",
     "text": [
      "Percentage for PF: 0.01%\n",
      "Percentage for PJ: 0.20%\n"
     ]
    }
   ],
   "source": [
    "# percentage of claim value\n",
    "val = s3con.read('claims_vals.feather')\n",
    "\n",
    "print(f'Percentage for PF: {val[val.idPolita.isin(outliers_pf.idPolita.values)].total_val.sum()/val[val.idPolita.isin(pf.idPolita.values)].total_val.sum():.2%}')\n",
    "\n",
    "print(f'Percentage for PJ: {val[val.idPolita.isin(outliers_pj.idPolita.values)].total_val.sum()/val[val.idPolita.isin(pj.idPolita.values)].total_val.sum():.2%}')\n",
    "                                \n",
    "del val"
   ]
  },
  {
   "attachments": {},
   "cell_type": "markdown",
   "metadata": {},
   "source": [
    "CONCLUSION: the outlier policies do not contain significant numbers of events, nor did they cost a sig. value. Therefore, they will be DROPPED."
   ]
  },
  {
   "cell_type": "code",
   "execution_count": 15,
   "metadata": {},
   "outputs": [],
   "source": [
    "pf.drop(pf[pf.idPolita.isin(outliers_pf.idPolita.values)].index, axis = 0, inplace = True)\n",
    "pf.reset_index(drop = True, inplace = True)\n",
    "\n",
    "pj.drop(pj[pj.idPolita.isin(outliers_pj.idPolita.values)].index, axis = 0, inplace = True)\n",
    "pj.reset_index(drop = True, inplace = True)"
   ]
  },
  {
   "attachments": {},
   "cell_type": "markdown",
   "metadata": {},
   "source": [
    "### Age"
   ]
  },
  {
   "attachments": {},
   "cell_type": "markdown",
   "metadata": {},
   "source": [
    "Age only matters for individual persons (persoane fizice), therefore the age column from legal persons df can be dropped."
   ]
  },
  {
   "cell_type": "code",
   "execution_count": 18,
   "metadata": {},
   "outputs": [
    {
     "data": {
      "text/html": [
       "<div>\n",
       "<style scoped>\n",
       "    .dataframe tbody tr th:only-of-type {\n",
       "        vertical-align: middle;\n",
       "    }\n",
       "\n",
       "    .dataframe tbody tr th {\n",
       "        vertical-align: top;\n",
       "    }\n",
       "\n",
       "    .dataframe thead th {\n",
       "        text-align: right;\n",
       "    }\n",
       "</style>\n",
       "<table border=\"1\" class=\"dataframe\">\n",
       "  <thead>\n",
       "    <tr style=\"text-align: right;\">\n",
       "      <th></th>\n",
       "      <th>idPolita</th>\n",
       "      <th>capacitate</th>\n",
       "    </tr>\n",
       "  </thead>\n",
       "  <tbody>\n",
       "    <tr>\n",
       "      <th>0</th>\n",
       "      <td>2232129</td>\n",
       "      <td>1896</td>\n",
       "    </tr>\n",
       "    <tr>\n",
       "      <th>1</th>\n",
       "      <td>2232423</td>\n",
       "      <td>1598</td>\n",
       "    </tr>\n",
       "    <tr>\n",
       "      <th>2</th>\n",
       "      <td>2232475</td>\n",
       "      <td>1598</td>\n",
       "    </tr>\n",
       "    <tr>\n",
       "      <th>3</th>\n",
       "      <td>2232484</td>\n",
       "      <td>1598</td>\n",
       "    </tr>\n",
       "    <tr>\n",
       "      <th>4</th>\n",
       "      <td>2233867</td>\n",
       "      <td>2953</td>\n",
       "    </tr>\n",
       "  </tbody>\n",
       "</table>\n",
       "</div>"
      ],
      "text/plain": [
       "   idPolita  capacitate\n",
       "0   2232129        1896\n",
       "1   2232423        1598\n",
       "2   2232475        1598\n",
       "3   2232484        1598\n",
       "4   2233867        2953"
      ]
     },
     "execution_count": 18,
     "metadata": {},
     "output_type": "execute_result"
    }
   ],
   "source": [
    "pj.drop('varsta', axis = 1, inplace = True)\n",
    "pj.head(5)"
   ]
  },
  {
   "cell_type": "code",
   "execution_count": 19,
   "metadata": {},
   "outputs": [],
   "source": [
    "# this df is done, so it can now be saved to S3\n",
    "pj.to_feather('autoturisme_pj.feather')\n",
    "s3con.write('autoturisme_pj.feather')\n",
    "os.remove('autoturisme_pj.feather')"
   ]
  },
  {
   "attachments": {},
   "cell_type": "markdown",
   "metadata": {},
   "source": [
    "The age range considered normal is 18 to 100 (whilst there is no official upper age restriction, it is very unlike that there are drivers over 100)."
   ]
  },
  {
   "cell_type": "code",
   "execution_count": 16,
   "metadata": {},
   "outputs": [
    {
     "data": {
      "text/html": [
       "<div>\n",
       "<style scoped>\n",
       "    .dataframe tbody tr th:only-of-type {\n",
       "        vertical-align: middle;\n",
       "    }\n",
       "\n",
       "    .dataframe tbody tr th {\n",
       "        vertical-align: top;\n",
       "    }\n",
       "\n",
       "    .dataframe thead th {\n",
       "        text-align: right;\n",
       "    }\n",
       "</style>\n",
       "<table border=\"1\" class=\"dataframe\">\n",
       "  <thead>\n",
       "    <tr style=\"text-align: right;\">\n",
       "      <th></th>\n",
       "      <th>idPolita</th>\n",
       "      <th>capacitate</th>\n",
       "      <th>varsta</th>\n",
       "    </tr>\n",
       "  </thead>\n",
       "  <tbody>\n",
       "    <tr>\n",
       "      <th>12303</th>\n",
       "      <td>2243138</td>\n",
       "      <td>1289</td>\n",
       "      <td>101</td>\n",
       "    </tr>\n",
       "    <tr>\n",
       "      <th>31117</th>\n",
       "      <td>2262349</td>\n",
       "      <td>1997</td>\n",
       "      <td>321</td>\n",
       "    </tr>\n",
       "    <tr>\n",
       "      <th>58383</th>\n",
       "      <td>2290398</td>\n",
       "      <td>3498</td>\n",
       "      <td>321</td>\n",
       "    </tr>\n",
       "    <tr>\n",
       "      <th>99579</th>\n",
       "      <td>2333089</td>\n",
       "      <td>1149</td>\n",
       "      <td>102</td>\n",
       "    </tr>\n",
       "    <tr>\n",
       "      <th>131127</th>\n",
       "      <td>2366402</td>\n",
       "      <td>2986</td>\n",
       "      <td>321</td>\n",
       "    </tr>\n",
       "    <tr>\n",
       "      <th>...</th>\n",
       "      <td>...</td>\n",
       "      <td>...</td>\n",
       "      <td>...</td>\n",
       "    </tr>\n",
       "    <tr>\n",
       "      <th>19634810</th>\n",
       "      <td>203867225</td>\n",
       "      <td>1390</td>\n",
       "      <td>17</td>\n",
       "    </tr>\n",
       "    <tr>\n",
       "      <th>19642229</th>\n",
       "      <td>203877266</td>\n",
       "      <td>1968</td>\n",
       "      <td>16</td>\n",
       "    </tr>\n",
       "    <tr>\n",
       "      <th>19667987</th>\n",
       "      <td>203913351</td>\n",
       "      <td>3222</td>\n",
       "      <td>104</td>\n",
       "    </tr>\n",
       "    <tr>\n",
       "      <th>19671028</th>\n",
       "      <td>203917513</td>\n",
       "      <td>1968</td>\n",
       "      <td>17</td>\n",
       "    </tr>\n",
       "    <tr>\n",
       "      <th>19687202</th>\n",
       "      <td>203940086</td>\n",
       "      <td>1951</td>\n",
       "      <td>17</td>\n",
       "    </tr>\n",
       "  </tbody>\n",
       "</table>\n",
       "<p>1947 rows × 3 columns</p>\n",
       "</div>"
      ],
      "text/plain": [
       "           idPolita  capacitate  varsta\n",
       "12303       2243138        1289     101\n",
       "31117       2262349        1997     321\n",
       "58383       2290398        3498     321\n",
       "99579       2333089        1149     102\n",
       "131127      2366402        2986     321\n",
       "...             ...         ...     ...\n",
       "19634810  203867225        1390      17\n",
       "19642229  203877266        1968      16\n",
       "19667987  203913351        3222     104\n",
       "19671028  203917513        1968      17\n",
       "19687202  203940086        1951      17\n",
       "\n",
       "[1947 rows x 3 columns]"
      ]
     },
     "execution_count": 16,
     "metadata": {},
     "output_type": "execute_result"
    }
   ],
   "source": [
    "pf.query(\"varsta < 18 or varsta > 100\")"
   ]
  },
  {
   "attachments": {},
   "cell_type": "markdown",
   "metadata": {},
   "source": [
    "There appear to values of '321'. These were added by me to the original df containing both legal and individual persons, as a means to represent the legal persons, who are not supposed to have any age value, so that there won't be any nans.\n",
    "\n",
    "Their existence in the individual persons df suggests that there were some true nans before, and as such '321' will be treated as a nan.\n",
    "\n",
    "These will be replace with the mean or median (depending on the distribution) of the 'normal' slice (18-100) of the df. "
   ]
  },
  {
   "cell_type": "code",
   "execution_count": 19,
   "metadata": {},
   "outputs": [
    {
     "data": {
      "text/plain": [
       "<AxesSubplot:ylabel='Frequency'>"
      ]
     },
     "execution_count": 19,
     "metadata": {},
     "output_type": "execute_result"
    },
    {
     "data": {
      "image/png": "[encoded data removed]",
      "text/plain": [
       "<Figure size 640x480 with 1 Axes>"
      ]
     },
     "metadata": {},
     "output_type": "display_data"
    }
   ],
   "source": [
    "pf.query(\"varsta >= 18 and varsta <= 100\").varsta.plot(kind = 'hist', bins = 40)"
   ]
  },
  {
   "attachments": {},
   "cell_type": "markdown",
   "metadata": {},
   "source": [
    "The distribution is not completely normal. The median should be a better measure."
   ]
  },
  {
   "cell_type": "code",
   "execution_count": 27,
   "metadata": {},
   "outputs": [
    {
     "name": "stdout",
     "output_type": "stream",
     "text": [
      "Mean: 47.155578284557954\n",
      "Median: 46.0\n"
     ]
    }
   ],
   "source": [
    "print(f'Mean: {np.mean(pf.query(\"varsta >= 18 and varsta <= 100\").varsta)}')\n",
    "print(f'Median: {np.median(pf.query(\"varsta >= 18 and varsta <= 100\").varsta)}')"
   ]
  },
  {
   "cell_type": "code",
   "execution_count": 28,
   "metadata": {},
   "outputs": [],
   "source": [
    "pf.varsta.replace({321:46}, inplace = True)"
   ]
  },
  {
   "cell_type": "code",
   "execution_count": 33,
   "metadata": {},
   "outputs": [
    {
     "data": {
      "text/plain": [
       "count    1410.000000\n",
       "mean       15.725532\n",
       "std         2.870617\n",
       "min       -29.000000\n",
       "25%        16.000000\n",
       "50%        17.000000\n",
       "75%        17.000000\n",
       "max        17.000000\n",
       "Name: varsta, dtype: float64"
      ]
     },
     "execution_count": 33,
     "metadata": {},
     "output_type": "execute_result"
    }
   ],
   "source": [
    "# how many under 18\n",
    "pf.query(\"varsta < 18\").varsta.describe()"
   ]
  },
  {
   "cell_type": "code",
   "execution_count": 36,
   "metadata": {},
   "outputs": [],
   "source": [
    "# first I will convert all negative values to positives by muliplying with -1\n",
    "pf.varsta = [x*(-1) if x < 0 else x for x in pf.varsta.values]"
   ]
  },
  {
   "cell_type": "code",
   "execution_count": 38,
   "metadata": {},
   "outputs": [],
   "source": [
    "# since most of the under 18 are 16 and 17, which are likey to be errors meant to have been 18, \n",
    "# I will replace 16 and 17 with 18\n",
    "\n",
    "pf.varsta.replace({16:18, 17:18}, inplace = True)"
   ]
  },
  {
   "attachments": {},
   "cell_type": "markdown",
   "metadata": {},
   "source": [
    "The age of the remaining < 18 will be replaced with the median age of the group of drivers associated with the average cylinder capacity of the group < 18. "
   ]
  },
  {
   "cell_type": "code",
   "execution_count": 45,
   "metadata": {},
   "outputs": [
    {
     "data": {
      "text/plain": [
       "count     290.000000\n",
       "mean     1912.800000\n",
       "std       571.664026\n",
       "min       898.000000\n",
       "25%      1595.000000\n",
       "50%      1910.000000\n",
       "75%      1983.000000\n",
       "max      5654.000000\n",
       "Name: capacitate, dtype: float64"
      ]
     },
     "execution_count": 45,
     "metadata": {},
     "output_type": "execute_result"
    }
   ],
   "source": [
    "# find the average cylinder capacity of this group\n",
    "pf.query(\"varsta < 18\").capacitate.describe()"
   ]
  },
  {
   "cell_type": "code",
   "execution_count": 46,
   "metadata": {},
   "outputs": [
    {
     "data": {
      "text/plain": [
       "43.0"
      ]
     },
     "execution_count": 46,
     "metadata": {},
     "output_type": "execute_result"
    }
   ],
   "source": [
    "# then find the median age of this group\n",
    "np.median(pf.query(\"capacitate == 1910\").varsta)"
   ]
  },
  {
   "cell_type": "code",
   "execution_count": 48,
   "metadata": {},
   "outputs": [
    {
     "data": {
      "text/html": [
       "<div>\n",
       "<style scoped>\n",
       "    .dataframe tbody tr th:only-of-type {\n",
       "        vertical-align: middle;\n",
       "    }\n",
       "\n",
       "    .dataframe tbody tr th {\n",
       "        vertical-align: top;\n",
       "    }\n",
       "\n",
       "    .dataframe thead th {\n",
       "        text-align: right;\n",
       "    }\n",
       "</style>\n",
       "<table border=\"1\" class=\"dataframe\">\n",
       "  <thead>\n",
       "    <tr style=\"text-align: right;\">\n",
       "      <th></th>\n",
       "      <th>idPolita</th>\n",
       "      <th>capacitate</th>\n",
       "      <th>varsta</th>\n",
       "    </tr>\n",
       "  </thead>\n",
       "  <tbody>\n",
       "  </tbody>\n",
       "</table>\n",
       "</div>"
      ],
      "text/plain": [
       "Empty DataFrame\n",
       "Columns: [idPolita, capacitate, varsta]\n",
       "Index: []"
      ]
     },
     "execution_count": 48,
     "metadata": {},
     "output_type": "execute_result"
    }
   ],
   "source": [
    "# finally, replace the under 18 age values with the above value\n",
    "pf.varsta = [43 if x < 18 else x for x in pf.varsta.values]\n",
    "pf.query(\"varsta < 18\")\n"
   ]
  },
  {
   "attachments": {},
   "cell_type": "markdown",
   "metadata": {},
   "source": [
    "Check for those above 100."
   ]
  },
  {
   "cell_type": "code",
   "execution_count": 50,
   "metadata": {},
   "outputs": [
    {
     "data": {
      "text/plain": [
       "count     51.000000\n",
       "mean     104.313725\n",
       "std        5.140001\n",
       "min      101.000000\n",
       "25%      101.000000\n",
       "50%      102.000000\n",
       "75%      104.000000\n",
       "max      118.000000\n",
       "Name: varsta, dtype: float64"
      ]
     },
     "execution_count": 50,
     "metadata": {},
     "output_type": "execute_result"
    }
   ],
   "source": [
    "pf.query(\"varsta > 100\").varsta.describe()"
   ]
  },
  {
   "attachments": {},
   "cell_type": "markdown",
   "metadata": {},
   "source": [
    "Given the low numbers, the fact that most are under 104, and that the max value is 118, these do not require modification."
   ]
  },
  {
   "cell_type": "code",
   "execution_count": 51,
   "metadata": {},
   "outputs": [
    {
     "data": {
      "text/html": [
       "<div>\n",
       "<style scoped>\n",
       "    .dataframe tbody tr th:only-of-type {\n",
       "        vertical-align: middle;\n",
       "    }\n",
       "\n",
       "    .dataframe tbody tr th {\n",
       "        vertical-align: top;\n",
       "    }\n",
       "\n",
       "    .dataframe thead th {\n",
       "        text-align: right;\n",
       "    }\n",
       "</style>\n",
       "<table border=\"1\" class=\"dataframe\">\n",
       "  <thead>\n",
       "    <tr style=\"text-align: right;\">\n",
       "      <th></th>\n",
       "      <th>count</th>\n",
       "      <th>mean</th>\n",
       "      <th>std</th>\n",
       "      <th>min</th>\n",
       "      <th>25%</th>\n",
       "      <th>50%</th>\n",
       "      <th>75%</th>\n",
       "      <th>max</th>\n",
       "    </tr>\n",
       "  </thead>\n",
       "  <tbody>\n",
       "    <tr>\n",
       "      <th>idPolita</th>\n",
       "      <td>19705603.0</td>\n",
       "      <td>2.980679e+07</td>\n",
       "      <td>5.232001e+07</td>\n",
       "      <td>2230446.0</td>\n",
       "      <td>8336059.5</td>\n",
       "      <td>14896736.0</td>\n",
       "      <td>22710541.5</td>\n",
       "      <td>203964267.0</td>\n",
       "    </tr>\n",
       "    <tr>\n",
       "      <th>capacitate</th>\n",
       "      <td>19705603.0</td>\n",
       "      <td>1.747487e+03</td>\n",
       "      <td>4.312382e+02</td>\n",
       "      <td>500.0</td>\n",
       "      <td>1461.0</td>\n",
       "      <td>1716.0</td>\n",
       "      <td>1968.0</td>\n",
       "      <td>7500.0</td>\n",
       "    </tr>\n",
       "    <tr>\n",
       "      <th>varsta</th>\n",
       "      <td>19705603.0</td>\n",
       "      <td>4.715398e+01</td>\n",
       "      <td>1.427385e+01</td>\n",
       "      <td>18.0</td>\n",
       "      <td>36.0</td>\n",
       "      <td>46.0</td>\n",
       "      <td>58.0</td>\n",
       "      <td>118.0</td>\n",
       "    </tr>\n",
       "  </tbody>\n",
       "</table>\n",
       "</div>"
      ],
      "text/plain": [
       "                 count          mean           std        min        25%  \\\n",
       "idPolita    19705603.0  2.980679e+07  5.232001e+07  2230446.0  8336059.5   \n",
       "capacitate  19705603.0  1.747487e+03  4.312382e+02      500.0     1461.0   \n",
       "varsta      19705603.0  4.715398e+01  1.427385e+01       18.0       36.0   \n",
       "\n",
       "                   50%         75%          max  \n",
       "idPolita    14896736.0  22710541.5  203964267.0  \n",
       "capacitate      1716.0      1968.0       7500.0  \n",
       "varsta            46.0        58.0        118.0  "
      ]
     },
     "execution_count": 51,
     "metadata": {},
     "output_type": "execute_result"
    }
   ],
   "source": [
    "# final look at the stats of this dataframe\n",
    "pf.describe().T"
   ]
  },
  {
   "cell_type": "code",
   "execution_count": 52,
   "metadata": {},
   "outputs": [],
   "source": [
    "# save the table to S3\n",
    "pf.to_feather('autoturisme_pf.feather')\n",
    "s3con.write('autoturisme_pf.feather')\n",
    "os.remove('autoturisme_pf.feather')"
   ]
  }
 ],
 "metadata": {
  "kernelspec": {
   "display_name": "Python 3",
   "language": "python",
   "name": "python3"
  },
  "language_info": {
   "codemirror_mode": {
    "name": "ipython",
    "version": 3
   },
   "file_extension": ".py",
   "mimetype": "text/x-python",
   "name": "python",
   "nbconvert_exporter": "python",
   "pygments_lexer": "ipython3",
   "version": "3.10.6"
  },
  "orig_nbformat": 4,
  "vscode": {
   "interpreter": {
    "hash": "916dbcbb3f70747c44a77c7bcd40155683ae19c65e1c03b4aa3499c5328201f1"
   }
  }
 },
 "nbformat": 4,
 "nbformat_minor": 2
}
