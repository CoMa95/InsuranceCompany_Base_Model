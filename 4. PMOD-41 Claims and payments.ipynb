{
 "cells": [
  {
   "cell_type": "code",
   "execution_count": 2,
   "metadata": {},
   "outputs": [],
   "source": [
    "import pandas as pd\n",
    "import numpy as np\n",
    "from settings import Config\n",
    "from mysql_db import Database\n",
    "import pdcast as pdc\n",
    "import s3_upload_download as s3con\n",
    "import os\n",
    "from datetime import datetime"
   ]
  },
  {
   "attachments": {},
   "cell_type": "markdown",
   "metadata": {},
   "source": [
    "# NOTEBOOK DESCRIPTION: \n",
    "\n",
    "Investigate the payments, the rezerves and ensure that every event has a monetary value (payment + rezerves) associated with it.\n"
   ]
  },
  {
   "cell_type": "code",
   "execution_count": 5,
   "metadata": {},
   "outputs": [],
   "source": [
    "# initialise the s3_connector object needed to read/write files into an S3 bucket\n",
    "s3con = s3con.s3_connector()"
   ]
  },
  {
   "cell_type": "code",
   "execution_count": 3,
   "metadata": {},
   "outputs": [
    {
     "data": {
      "text/html": [
       "<div>\n",
       "<style scoped>\n",
       "    .dataframe tbody tr th:only-of-type {\n",
       "        vertical-align: middle;\n",
       "    }\n",
       "\n",
       "    .dataframe tbody tr th {\n",
       "        vertical-align: top;\n",
       "    }\n",
       "\n",
       "    .dataframe thead th {\n",
       "        text-align: right;\n",
       "    }\n",
       "</style>\n",
       "<table border=\"1\" class=\"dataframe\">\n",
       "  <thead>\n",
       "    <tr style=\"text-align: right;\">\n",
       "      <th></th>\n",
       "      <th>dosarID</th>\n",
       "      <th>ron_eq</th>\n",
       "      <th>eur_eq</th>\n",
       "    </tr>\n",
       "  </thead>\n",
       "  <tbody>\n",
       "    <tr>\n",
       "      <th>0</th>\n",
       "      <td>53151</td>\n",
       "      <td>51041.0</td>\n",
       "      <td>11349.253623</td>\n",
       "    </tr>\n",
       "    <tr>\n",
       "      <th>1</th>\n",
       "      <td>53156</td>\n",
       "      <td>7759.0</td>\n",
       "      <td>1722.952532</td>\n",
       "    </tr>\n",
       "    <tr>\n",
       "      <th>2</th>\n",
       "      <td>53160</td>\n",
       "      <td>43530.0</td>\n",
       "      <td>9584.089587</td>\n",
       "    </tr>\n",
       "    <tr>\n",
       "      <th>3</th>\n",
       "      <td>53171</td>\n",
       "      <td>25667.0</td>\n",
       "      <td>5730.342896</td>\n",
       "    </tr>\n",
       "    <tr>\n",
       "      <th>4</th>\n",
       "      <td>53177</td>\n",
       "      <td>5663.0</td>\n",
       "      <td>1267.908959</td>\n",
       "    </tr>\n",
       "  </tbody>\n",
       "</table>\n",
       "</div>"
      ],
      "text/plain": [
       "   dosarID   ron_eq        eur_eq\n",
       "0    53151  51041.0  11349.253623\n",
       "1    53156   7759.0   1722.952532\n",
       "2    53160  43530.0   9584.089587\n",
       "3    53171  25667.0   5730.342896\n",
       "4    53177   5663.0   1267.908959"
      ]
     },
     "execution_count": 3,
     "metadata": {},
     "output_type": "execute_result"
    }
   ],
   "source": [
    "df = pd.read_feather('plati_eq_grupat.feather')\n",
    "df.head()"
   ]
  },
  {
   "cell_type": "code",
   "execution_count": 7,
   "metadata": {},
   "outputs": [
    {
     "data": {
      "text/plain": [
       "761531"
      ]
     },
     "execution_count": 7,
     "metadata": {},
     "output_type": "execute_result"
    }
   ],
   "source": [
    "df.shape[0]"
   ]
  },
  {
   "cell_type": "code",
   "execution_count": 4,
   "metadata": {},
   "outputs": [
    {
     "data": {
      "text/html": [
       "<div>\n",
       "<style scoped>\n",
       "    .dataframe tbody tr th:only-of-type {\n",
       "        vertical-align: middle;\n",
       "    }\n",
       "\n",
       "    .dataframe tbody tr th {\n",
       "        vertical-align: top;\n",
       "    }\n",
       "\n",
       "    .dataframe thead th {\n",
       "        text-align: right;\n",
       "    }\n",
       "</style>\n",
       "<table border=\"1\" class=\"dataframe\">\n",
       "  <thead>\n",
       "    <tr style=\"text-align: right;\">\n",
       "      <th></th>\n",
       "      <th>dosarID</th>\n",
       "      <th>ron_eq</th>\n",
       "      <th>eur_eq</th>\n",
       "      <th>plata_finala</th>\n",
       "    </tr>\n",
       "  </thead>\n",
       "  <tbody>\n",
       "    <tr>\n",
       "      <th>0</th>\n",
       "      <td>53151</td>\n",
       "      <td>84604.0</td>\n",
       "      <td>19148.108732</td>\n",
       "      <td>yes</td>\n",
       "    </tr>\n",
       "    <tr>\n",
       "      <th>1</th>\n",
       "      <td>53156</td>\n",
       "      <td>7759.0</td>\n",
       "      <td>1721.238703</td>\n",
       "      <td>yes</td>\n",
       "    </tr>\n",
       "    <tr>\n",
       "      <th>2</th>\n",
       "      <td>53160</td>\n",
       "      <td>21765.0</td>\n",
       "      <td>4869.127745</td>\n",
       "      <td>yes</td>\n",
       "    </tr>\n",
       "    <tr>\n",
       "      <th>3</th>\n",
       "      <td>53171</td>\n",
       "      <td>25667.0</td>\n",
       "      <td>5754.416509</td>\n",
       "      <td>yes</td>\n",
       "    </tr>\n",
       "    <tr>\n",
       "      <th>4</th>\n",
       "      <td>53177</td>\n",
       "      <td>5663.0</td>\n",
       "      <td>1273.041987</td>\n",
       "      <td>yes</td>\n",
       "    </tr>\n",
       "  </tbody>\n",
       "</table>\n",
       "</div>"
      ],
      "text/plain": [
       "   dosarID   ron_eq        eur_eq plata_finala\n",
       "0    53151  84604.0  19148.108732          yes\n",
       "1    53156   7759.0   1721.238703          yes\n",
       "2    53160  21765.0   4869.127745          yes\n",
       "3    53171  25667.0   5754.416509          yes\n",
       "4    53177   5663.0   1273.041987          yes"
      ]
     },
     "execution_count": 4,
     "metadata": {},
     "output_type": "execute_result"
    }
   ],
   "source": [
    "df1 = pd.read_feather('plati_eq_wFinale.feather')\n",
    "df1.head()"
   ]
  },
  {
   "cell_type": "code",
   "execution_count": 16,
   "metadata": {},
   "outputs": [
    {
     "data": {
      "text/plain": [
       "627281"
      ]
     },
     "execution_count": 16,
     "metadata": {},
     "output_type": "execute_result"
    }
   ],
   "source": [
    "df1.shape[0]"
   ]
  },
  {
   "cell_type": "code",
   "execution_count": 6,
   "metadata": {},
   "outputs": [
    {
     "data": {
      "text/html": [
       "<div>\n",
       "<style scoped>\n",
       "    .dataframe tbody tr th:only-of-type {\n",
       "        vertical-align: middle;\n",
       "    }\n",
       "\n",
       "    .dataframe tbody tr th {\n",
       "        vertical-align: top;\n",
       "    }\n",
       "\n",
       "    .dataframe thead th {\n",
       "        text-align: right;\n",
       "    }\n",
       "</style>\n",
       "<table border=\"1\" class=\"dataframe\">\n",
       "  <thead>\n",
       "    <tr style=\"text-align: right;\">\n",
       "      <th></th>\n",
       "      <th>idDosar</th>\n",
       "      <th>idPolita</th>\n",
       "      <th>stare</th>\n",
       "      <th>dataDeschidere</th>\n",
       "      <th>dataAvizare</th>\n",
       "      <th>dataEveniment</th>\n",
       "      <th>tipEveniment</th>\n",
       "      <th>tipDauna</th>\n",
       "      <th>idEvent</th>\n",
       "    </tr>\n",
       "  </thead>\n",
       "  <tbody>\n",
       "    <tr>\n",
       "      <th>0</th>\n",
       "      <td>59897</td>\n",
       "      <td>2231006</td>\n",
       "      <td>inchis - achitat</td>\n",
       "      <td>2015-01-06</td>\n",
       "      <td>2015-01-06</td>\n",
       "      <td>2015-01-05</td>\n",
       "      <td>Pagube materiale</td>\n",
       "      <td>INTERNA</td>\n",
       "      <td>22310062015-01-05</td>\n",
       "    </tr>\n",
       "    <tr>\n",
       "      <th>1</th>\n",
       "      <td>60564</td>\n",
       "      <td>2233977</td>\n",
       "      <td>inchis - achitat</td>\n",
       "      <td>2015-01-12</td>\n",
       "      <td>2015-01-12</td>\n",
       "      <td>2015-01-07</td>\n",
       "      <td>Pagube materiale</td>\n",
       "      <td>INTERNA</td>\n",
       "      <td>22339772015-01-07</td>\n",
       "    </tr>\n",
       "    <tr>\n",
       "      <th>2</th>\n",
       "      <td>60672</td>\n",
       "      <td>2231966</td>\n",
       "      <td>inchis - achitat</td>\n",
       "      <td>2015-01-13</td>\n",
       "      <td>2015-01-13</td>\n",
       "      <td>2015-01-09</td>\n",
       "      <td>Pagube materiale</td>\n",
       "      <td>INTERNA</td>\n",
       "      <td>22319662015-01-09</td>\n",
       "    </tr>\n",
       "    <tr>\n",
       "      <th>3</th>\n",
       "      <td>60732</td>\n",
       "      <td>2232835</td>\n",
       "      <td>inchis - achitat</td>\n",
       "      <td>2015-01-13</td>\n",
       "      <td>2015-01-13</td>\n",
       "      <td>2015-01-08</td>\n",
       "      <td>Pagube materiale</td>\n",
       "      <td>INTERNA</td>\n",
       "      <td>22328352015-01-08</td>\n",
       "    </tr>\n",
       "    <tr>\n",
       "      <th>4</th>\n",
       "      <td>60984</td>\n",
       "      <td>2239842</td>\n",
       "      <td>inchis - achitat</td>\n",
       "      <td>2015-01-14</td>\n",
       "      <td>2015-01-14</td>\n",
       "      <td>2015-01-09</td>\n",
       "      <td>Pagube materiale</td>\n",
       "      <td>INTERNA</td>\n",
       "      <td>22398422015-01-09</td>\n",
       "    </tr>\n",
       "  </tbody>\n",
       "</table>\n",
       "</div>"
      ],
      "text/plain": [
       "   idDosar  idPolita             stare dataDeschidere dataAvizare  \\\n",
       "0    59897   2231006  inchis - achitat     2015-01-06  2015-01-06   \n",
       "1    60564   2233977  inchis - achitat     2015-01-12  2015-01-12   \n",
       "2    60672   2231966  inchis - achitat     2015-01-13  2015-01-13   \n",
       "3    60732   2232835  inchis - achitat     2015-01-13  2015-01-13   \n",
       "4    60984   2239842  inchis - achitat     2015-01-14  2015-01-14   \n",
       "\n",
       "  dataEveniment      tipEveniment tipDauna            idEvent  \n",
       "0    2015-01-05  Pagube materiale  INTERNA  22310062015-01-05  \n",
       "1    2015-01-07  Pagube materiale  INTERNA  22339772015-01-07  \n",
       "2    2015-01-09  Pagube materiale  INTERNA  22319662015-01-09  \n",
       "3    2015-01-08  Pagube materiale  INTERNA  22328352015-01-08  \n",
       "4    2015-01-09  Pagube materiale  INTERNA  22398422015-01-09  "
      ]
     },
     "execution_count": 6,
     "metadata": {},
     "output_type": "execute_result"
    }
   ],
   "source": [
    "df3 = s3con.read('daune.feather')\n",
    "df3.head()"
   ]
  },
  {
   "cell_type": "code",
   "execution_count": 15,
   "metadata": {},
   "outputs": [
    {
     "data": {
      "text/plain": [
       "638826"
      ]
     },
     "execution_count": 15,
     "metadata": {},
     "output_type": "execute_result"
    }
   ],
   "source": [
    "df3.idEvent.nunique()"
   ]
  },
  {
   "cell_type": "code",
   "execution_count": 18,
   "metadata": {},
   "outputs": [
    {
     "data": {
      "text/plain": [
       "49116"
      ]
     },
     "execution_count": 18,
     "metadata": {},
     "output_type": "execute_result"
    }
   ],
   "source": [
    "df3.duplicated('idEvent').sum()"
   ]
  },
  {
   "cell_type": "code",
   "execution_count": null,
   "metadata": {},
   "outputs": [],
   "source": []
  }
 ],
 "metadata": {
  "kernelspec": {
   "display_name": "Python 3",
   "language": "python",
   "name": "python3"
  },
  "language_info": {
   "codemirror_mode": {
    "name": "ipython",
    "version": 3
   },
   "file_extension": ".py",
   "mimetype": "text/x-python",
   "name": "python",
   "nbconvert_exporter": "python",
   "pygments_lexer": "ipython3",
   "version": "3.10.6"
  },
  "orig_nbformat": 4,
  "vscode": {
   "interpreter": {
    "hash": "916dbcbb3f70747c44a77c7bcd40155683ae19c65e1c03b4aa3499c5328201f1"
   }
  }
 },
 "nbformat": 4,
 "nbformat_minor": 2
}
