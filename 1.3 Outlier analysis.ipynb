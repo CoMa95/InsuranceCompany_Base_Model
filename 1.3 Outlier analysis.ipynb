{
 "cells": [
  {
   "cell_type": "code",
   "execution_count": 25,
   "metadata": {},
   "outputs": [
    {
     "name": "stdout",
     "output_type": "stream",
     "text": [
      "INFO: Pandarallel will run on 4 workers.\n",
      "INFO: Pandarallel will use standard multiprocessing data transfer (pipe) to transfer data between the main process and workers.\n",
      "\n",
      "WARNING: You are on Windows. If you detect any issue with pandarallel, be sure you checked out the Troubleshooting page:\n",
      "https://nalepae.github.io/pandarallel/troubleshooting/\n"
     ]
    }
   ],
   "source": [
    "import os\n",
    "import numpy as np\n",
    "import pandas as pd\n",
    "\n",
    "import matplotlib.pyplot as plt\n",
    "import seaborn as sns\n",
    "sns.set_style(\"whitegrid\")\n",
    "\n",
    "from datetime import datetime\n",
    "\n",
    "import pandarallel\n",
    "from pandarallel import pandarallel\n",
    "pandarallel.initialize(progress_bar=True)\n",
    "\n",
    "from sklearn.ensemble import IsolationForest\n",
    "from sklearn.neighbors import LocalOutlierFactor\n",
    "from sklearn.covariance import EllipticEnvelope\n",
    "\n",
    "import scipy\n",
    "from scipy import stats\n",
    "from scipy.stats import gamma, lognorm\n",
    "\n",
    "from patsy import dmatrices\n",
    "\n",
    "import statsmodels.api as sm\n",
    "from statsmodels.formula.api import glm\n",
    "from statsmodels.graphics.api import abline_plot"
   ]
  },
  {
   "cell_type": "code",
   "execution_count": 26,
   "metadata": {},
   "outputs": [],
   "source": [
    "pd.options.display.float_format = '{:,.2f}'.format"
   ]
  },
  {
   "cell_type": "code",
   "execution_count": 27,
   "metadata": {},
   "outputs": [],
   "source": [
    "# load claims values df\n",
    "claims_mat = pd.read_feather('data/rca_autoturisme_valEvMat.feather')"
   ]
  },
  {
   "cell_type": "markdown",
   "metadata": {},
   "source": [
    "First, investigate the goodness of fit of the distribution of our data (WITH OUTLIERS), i.e. how closely it ressembles a gamma distribution. "
   ]
  },
  {
   "cell_type": "code",
   "execution_count": 28,
   "metadata": {},
   "outputs": [
    {
     "data": {
      "text/html": [
       "<table class=\"simpletable\">\n",
       "<caption>Generalized Linear Model Regression Results</caption>\n",
       "<tr>\n",
       "  <th>Dep. Variable:</th>        <td>val_ron</td>     <th>  No. Observations:  </th>   <td>428235</td>   \n",
       "</tr>\n",
       "<tr>\n",
       "  <th>Model:</th>                  <td>GLM</td>       <th>  Df Residuals:      </th>   <td>428234</td>   \n",
       "</tr>\n",
       "<tr>\n",
       "  <th>Model Family:</th>          <td>Gamma</td>      <th>  Df Model:          </th>   <td>     0</td>   \n",
       "</tr>\n",
       "<tr>\n",
       "  <th>Link Function:</th>          <td>log</td>       <th>  Scale:             </th>  <td>  7.9033</td>  \n",
       "</tr>\n",
       "<tr>\n",
       "  <th>Method:</th>                <td>IRLS</td>       <th>  Log-Likelihood:    </th> <td>-4.6050e+06</td>\n",
       "</tr>\n",
       "<tr>\n",
       "  <th>Date:</th>            <td>Thu, 24 Nov 2022</td> <th>  Deviance:          </th> <td>5.3217e+05</td> \n",
       "</tr>\n",
       "<tr>\n",
       "  <th>Time:</th>                <td>11:04:18</td>     <th>  Pearson chi2:      </th>  <td>3.38e+06</td>  \n",
       "</tr>\n",
       "<tr>\n",
       "  <th>No. Iterations:</th>          <td>8</td>        <th>  Pseudo R-squ. (CS):</th>   <td> 0.000</td>   \n",
       "</tr>\n",
       "<tr>\n",
       "  <th>Covariance Type:</th>     <td>nonrobust</td>    <th>                     </th>      <td> </td>     \n",
       "</tr>\n",
       "</table>\n",
       "<table class=\"simpletable\">\n",
       "<tr>\n",
       "      <td></td>         <th>coef</th>     <th>std err</th>      <th>z</th>      <th>P>|z|</th>  <th>[0.025</th>    <th>0.975]</th>  \n",
       "</tr>\n",
       "<tr>\n",
       "  <th>Intercept</th> <td>    8.9015</td> <td>    0.004</td> <td> 2072.038</td> <td> 0.000</td> <td>    8.893</td> <td>    8.910</td>\n",
       "</tr>\n",
       "</table>"
      ],
      "text/plain": [
       "<class 'statsmodels.iolib.summary.Summary'>\n",
       "\"\"\"\n",
       "                 Generalized Linear Model Regression Results                  \n",
       "==============================================================================\n",
       "Dep. Variable:                val_ron   No. Observations:               428235\n",
       "Model:                            GLM   Df Residuals:                   428234\n",
       "Model Family:                   Gamma   Df Model:                            0\n",
       "Link Function:                    log   Scale:                          7.9033\n",
       "Method:                          IRLS   Log-Likelihood:            -4.6050e+06\n",
       "Date:                Thu, 24 Nov 2022   Deviance:                   5.3217e+05\n",
       "Time:                        11:04:18   Pearson chi2:                 3.38e+06\n",
       "No. Iterations:                     8   Pseudo R-squ. (CS):              0.000\n",
       "Covariance Type:            nonrobust                                         \n",
       "==============================================================================\n",
       "                 coef    std err          z      P>|z|      [0.025      0.975]\n",
       "------------------------------------------------------------------------------\n",
       "Intercept      8.9015      0.004   2072.038      0.000       8.893       8.910\n",
       "==============================================================================\n",
       "\"\"\""
      ]
     },
     "execution_count": 28,
     "metadata": {},
     "output_type": "execute_result"
    }
   ],
   "source": [
    "patsy_null = 'val_ron ~ 1'  # fitting the base model, no predictors just the target values\n",
    "model_complete = glm(patsy_null, data = claims_mat[claims_mat.val_ron > 0], family = sm.families.Gamma(link=sm.families.links.log())).fit()\n",
    "prediction = model_complete.predict(claims_mat[claims_mat.val_ron > 0])\n",
    "\n",
    "temp = pd.DataFrame({'val_prd': prediction})\n",
    "temp = pd.concat([claims_mat[claims_mat.val_ron > 0], temp], axis = 1)\n",
    "model_complete.summary()"
   ]
  },
  {
   "cell_type": "code",
   "execution_count": 29,
   "metadata": {},
   "outputs": [
    {
     "data": {
      "text/plain": [
       "9210065.563162439"
      ]
     },
     "execution_count": 29,
     "metadata": {},
     "output_type": "execute_result"
    }
   ],
   "source": [
    "model_complete.aic"
   ]
  },
  {
   "cell_type": "markdown",
   "metadata": {},
   "source": [
    "Method 1 Elliptic Envelop"
   ]
  },
  {
   "cell_type": "code",
   "execution_count": 30,
   "metadata": {},
   "outputs": [],
   "source": [
    "data = claims_mat['val_ron'].array.reshape(-1, 1)\n",
    "predictions = EllipticEnvelope().fit(data).predict(data)\n",
    "claims_mat['ee_pred'] = predictions"
   ]
  },
  {
   "cell_type": "code",
   "execution_count": 31,
   "metadata": {},
   "outputs": [
    {
     "name": "stdout",
     "output_type": "stream",
     "text": [
      "Outlier mean: 33945.22569753489\n",
      "Outlier min: 15963.0\n",
      "Outlier max: 8293198.960377693\n",
      "Outlier total: 1453670345.271234\n"
     ]
    }
   ],
   "source": [
    "print(f'Outlier mean: {claims_mat[claims_mat.ee_pred == -1].val_ron.mean()}')\n",
    "print(f'Outlier min: {claims_mat[claims_mat.ee_pred == -1].val_ron.min()}')\n",
    "print(f'Outlier max: {claims_mat[claims_mat.ee_pred == -1].val_ron.max()}')\n",
    "print(f'Outlier total: {claims_mat[claims_mat.ee_pred == -1].val_ron.sum()}')"
   ]
  },
  {
   "cell_type": "code",
   "execution_count": 32,
   "metadata": {},
   "outputs": [
    {
     "data": {
      "text/plain": [
       "<seaborn.axisgrid.FacetGrid at 0x164db592490>"
      ]
     },
     "execution_count": 32,
     "metadata": {},
     "output_type": "execute_result"
    },
    {
     "data": {
      "image/png": "[encoded data removed]",
      "text/plain": [
       "<Figure size 500x500 with 1 Axes>"
      ]
     },
     "metadata": {},
     "output_type": "display_data"
    }
   ],
   "source": [
    "fig = sns.displot(claims_mat[claims_mat.ee_pred == 1], x = 'val_ron');\n",
    "fig.set(xlim = (0, 100000))\n",
    "fig.set(ylim = (0, 10000))"
   ]
  },
  {
   "cell_type": "code",
   "execution_count": 33,
   "metadata": {},
   "outputs": [
    {
     "data": {
      "text/html": [
       "<table class=\"simpletable\">\n",
       "<caption>Generalized Linear Model Regression Results</caption>\n",
       "<tr>\n",
       "  <th>Dep. Variable:</th>        <td>val_ron</td>     <th>  No. Observations:  </th>   <td>385411</td>   \n",
       "</tr>\n",
       "<tr>\n",
       "  <th>Model:</th>                  <td>GLM</td>       <th>  Df Residuals:      </th>   <td>385410</td>   \n",
       "</tr>\n",
       "<tr>\n",
       "  <th>Model Family:</th>          <td>Gamma</td>      <th>  Df Model:          </th>   <td>     0</td>   \n",
       "</tr>\n",
       "<tr>\n",
       "  <th>Link Function:</th>          <td>log</td>       <th>  Scale:             </th>  <td> 0.62944</td>  \n",
       "</tr>\n",
       "<tr>\n",
       "  <th>Method:</th>                <td>IRLS</td>       <th>  Log-Likelihood:    </th> <td>-3.5905e+06</td>\n",
       "</tr>\n",
       "<tr>\n",
       "  <th>Date:</th>            <td>Thu, 24 Nov 2022</td> <th>  Deviance:          </th> <td>2.4937e+05</td> \n",
       "</tr>\n",
       "<tr>\n",
       "  <th>Time:</th>                <td>11:04:23</td>     <th>  Pearson chi2:      </th>  <td>2.43e+05</td>  \n",
       "</tr>\n",
       "<tr>\n",
       "  <th>No. Iterations:</th>          <td>7</td>        <th>  Pseudo R-squ. (CS):</th>   <td> 0.000</td>   \n",
       "</tr>\n",
       "<tr>\n",
       "  <th>Covariance Type:</th>     <td>nonrobust</td>    <th>                     </th>      <td> </td>     \n",
       "</tr>\n",
       "</table>\n",
       "<table class=\"simpletable\">\n",
       "<tr>\n",
       "      <td></td>         <th>coef</th>     <th>std err</th>      <th>z</th>      <th>P>|z|</th>  <th>[0.025</th>    <th>0.975]</th>  \n",
       "</tr>\n",
       "<tr>\n",
       "  <th>Intercept</th> <td>    8.3864</td> <td>    0.001</td> <td> 6562.370</td> <td> 0.000</td> <td>    8.384</td> <td>    8.389</td>\n",
       "</tr>\n",
       "</table>"
      ],
      "text/plain": [
       "<class 'statsmodels.iolib.summary.Summary'>\n",
       "\"\"\"\n",
       "                 Generalized Linear Model Regression Results                  \n",
       "==============================================================================\n",
       "Dep. Variable:                val_ron   No. Observations:               385411\n",
       "Model:                            GLM   Df Residuals:                   385410\n",
       "Model Family:                   Gamma   Df Model:                            0\n",
       "Link Function:                    log   Scale:                         0.62944\n",
       "Method:                          IRLS   Log-Likelihood:            -3.5905e+06\n",
       "Date:                Thu, 24 Nov 2022   Deviance:                   2.4937e+05\n",
       "Time:                        11:04:23   Pearson chi2:                 2.43e+05\n",
       "No. Iterations:                     7   Pseudo R-squ. (CS):              0.000\n",
       "Covariance Type:            nonrobust                                         \n",
       "==============================================================================\n",
       "                 coef    std err          z      P>|z|      [0.025      0.975]\n",
       "------------------------------------------------------------------------------\n",
       "Intercept      8.3864      0.001   6562.370      0.000       8.384       8.389\n",
       "==============================================================================\n",
       "\"\"\""
      ]
     },
     "execution_count": 33,
     "metadata": {},
     "output_type": "execute_result"
    }
   ],
   "source": [
    "patsy_null = 'val_ron ~ 1'  # fitting the base model, no predictors just the target values\n",
    "model_ee = glm(patsy_null, data = claims_mat[(claims_mat.val_ron > 0) & (claims_mat.ee_pred == 1)], family = sm.families.Gamma(link=sm.families.links.log())).fit()\n",
    "prediction = model_ee.predict(claims_mat[(claims_mat.val_ron > 0) & (claims_mat.ee_pred == 1)])\n",
    "\n",
    "temp = pd.DataFrame({'val_prd': prediction})\n",
    "temp = pd.concat([claims_mat[(claims_mat.val_ron > 0) & (claims_mat.ee_pred == 1)], temp], axis = 1)\n",
    "model_ee.summary()"
   ]
  },
  {
   "cell_type": "code",
   "execution_count": 34,
   "metadata": {},
   "outputs": [
    {
     "data": {
      "text/plain": [
       "7181091.806767869"
      ]
     },
     "execution_count": 34,
     "metadata": {},
     "output_type": "execute_result"
    }
   ],
   "source": [
    "model_ee.aic"
   ]
  },
  {
   "cell_type": "markdown",
   "metadata": {},
   "source": [
    "Method 2 Local outlier factor"
   ]
  },
  {
   "cell_type": "code",
   "execution_count": 35,
   "metadata": {},
   "outputs": [],
   "source": [
    "data = claims_mat['val_ron'].array.reshape(-1, 1)\n",
    "predictions = LocalOutlierFactor(n_neighbors=5, novelty=True).fit(data).predict(data)\n",
    "claims_mat['lof_pred'] = predictions"
   ]
  },
  {
   "cell_type": "code",
   "execution_count": 36,
   "metadata": {},
   "outputs": [
    {
     "data": {
      "text/html": [
       "<table class=\"simpletable\">\n",
       "<caption>Generalized Linear Model Regression Results</caption>\n",
       "<tr>\n",
       "  <th>Dep. Variable:</th>        <td>val_ron</td>     <th>  No. Observations:  </th>   <td>413049</td>   \n",
       "</tr>\n",
       "<tr>\n",
       "  <th>Model:</th>                  <td>GLM</td>       <th>  Df Residuals:      </th>   <td>413048</td>   \n",
       "</tr>\n",
       "<tr>\n",
       "  <th>Model Family:</th>          <td>Gamma</td>      <th>  Df Model:          </th>   <td>     0</td>   \n",
       "</tr>\n",
       "<tr>\n",
       "  <th>Link Function:</th>          <td>log</td>       <th>  Scale:             </th>  <td>  3.8793</td>  \n",
       "</tr>\n",
       "<tr>\n",
       "  <th>Method:</th>                <td>IRLS</td>       <th>  Log-Likelihood:    </th> <td>-4.2473e+06</td>\n",
       "</tr>\n",
       "<tr>\n",
       "  <th>Date:</th>            <td>Thu, 24 Nov 2022</td> <th>  Deviance:          </th> <td>5.1438e+05</td> \n",
       "</tr>\n",
       "<tr>\n",
       "  <th>Time:</th>                <td>11:04:33</td>     <th>  Pearson chi2:      </th>  <td>1.60e+06</td>  \n",
       "</tr>\n",
       "<tr>\n",
       "  <th>No. Iterations:</th>          <td>8</td>        <th>  Pseudo R-squ. (CS):</th> <td>-4.441e-15</td> \n",
       "</tr>\n",
       "<tr>\n",
       "  <th>Covariance Type:</th>     <td>nonrobust</td>    <th>                     </th>      <td> </td>     \n",
       "</tr>\n",
       "</table>\n",
       "<table class=\"simpletable\">\n",
       "<tr>\n",
       "      <td></td>         <th>coef</th>     <th>std err</th>      <th>z</th>      <th>P>|z|</th>  <th>[0.025</th>    <th>0.975]</th>  \n",
       "</tr>\n",
       "<tr>\n",
       "  <th>Intercept</th> <td>    8.8821</td> <td>    0.003</td> <td> 2898.298</td> <td> 0.000</td> <td>    8.876</td> <td>    8.888</td>\n",
       "</tr>\n",
       "</table>"
      ],
      "text/plain": [
       "<class 'statsmodels.iolib.summary.Summary'>\n",
       "\"\"\"\n",
       "                 Generalized Linear Model Regression Results                  \n",
       "==============================================================================\n",
       "Dep. Variable:                val_ron   No. Observations:               413049\n",
       "Model:                            GLM   Df Residuals:                   413048\n",
       "Model Family:                   Gamma   Df Model:                            0\n",
       "Link Function:                    log   Scale:                          3.8793\n",
       "Method:                          IRLS   Log-Likelihood:            -4.2473e+06\n",
       "Date:                Thu, 24 Nov 2022   Deviance:                   5.1438e+05\n",
       "Time:                        11:04:33   Pearson chi2:                 1.60e+06\n",
       "No. Iterations:                     8   Pseudo R-squ. (CS):         -4.441e-15\n",
       "Covariance Type:            nonrobust                                         \n",
       "==============================================================================\n",
       "                 coef    std err          z      P>|z|      [0.025      0.975]\n",
       "------------------------------------------------------------------------------\n",
       "Intercept      8.8821      0.003   2898.298      0.000       8.876       8.888\n",
       "==============================================================================\n",
       "\"\"\""
      ]
     },
     "execution_count": 36,
     "metadata": {},
     "output_type": "execute_result"
    }
   ],
   "source": [
    "patsy_null = 'val_ron ~ 1'  # fitting the base model, no predictors just the target values\n",
    "model_lof = glm(patsy_null, data = claims_mat[(claims_mat.val_ron > 0) & (claims_mat.lof_pred == 1)], family = sm.families.Gamma(link=sm.families.links.log())).fit()\n",
    "prediction = model_lof.predict(claims_mat[(claims_mat.val_ron > 0) & (claims_mat.lof_pred == 1)])\n",
    "\n",
    "temp = pd.DataFrame({'val_prd': prediction})\n",
    "temp = pd.concat([claims_mat[(claims_mat.val_ron > 0) & (claims_mat.lof_pred == 1)], temp], axis = 1)\n",
    "model_lof.summary()"
   ]
  },
  {
   "cell_type": "code",
   "execution_count": 37,
   "metadata": {},
   "outputs": [
    {
     "data": {
      "text/plain": [
       "8494664.781401433"
      ]
     },
     "execution_count": 37,
     "metadata": {},
     "output_type": "execute_result"
    }
   ],
   "source": [
    "model_lof.aic"
   ]
  },
  {
   "cell_type": "markdown",
   "metadata": {},
   "source": [
    "Method 3 Isolation tree"
   ]
  },
  {
   "cell_type": "code",
   "execution_count": 38,
   "metadata": {},
   "outputs": [
    {
     "name": "stderr",
     "output_type": "stream",
     "text": [
      "c:\\Users\\Cosmin\\AppData\\Local\\Programs\\Python\\Python39\\lib\\site-packages\\sklearn\\base.py:450: UserWarning: X does not have valid feature names, but IsolationForest was fitted with feature names\n",
      "  warnings.warn(\n"
     ]
    }
   ],
   "source": [
    "random_state = np.random.RandomState(42)\n",
    "\n",
    "# build IsolationForest model\n",
    "model=IsolationForest(n_estimators=100, max_samples='auto', contamination=float(0.01), random_state=random_state)\n",
    "model.fit(claims_mat[['val_ron']])\n",
    "\n",
    "# create a col with the results of the classification\n",
    "claims_mat['iso_pred'] = model.predict(claims_mat[['val_ron']])"
   ]
  },
  {
   "cell_type": "code",
   "execution_count": 39,
   "metadata": {},
   "outputs": [
    {
     "data": {
      "text/html": [
       "<table class=\"simpletable\">\n",
       "<caption>Generalized Linear Model Regression Results</caption>\n",
       "<tr>\n",
       "  <th>Dep. Variable:</th>        <td>val_ron</td>     <th>  No. Observations:  </th>   <td>423971</td>   \n",
       "</tr>\n",
       "<tr>\n",
       "  <th>Model:</th>                  <td>GLM</td>       <th>  Df Residuals:      </th>   <td>423970</td>   \n",
       "</tr>\n",
       "<tr>\n",
       "  <th>Model Family:</th>          <td>Gamma</td>      <th>  Df Model:          </th>   <td>     0</td>   \n",
       "</tr>\n",
       "<tr>\n",
       "  <th>Link Function:</th>          <td>log</td>       <th>  Scale:             </th>  <td>  1.4423</td>  \n",
       "</tr>\n",
       "<tr>\n",
       "  <th>Method:</th>                <td>IRLS</td>       <th>  Log-Likelihood:    </th> <td>-4.1620e+06</td>\n",
       "</tr>\n",
       "<tr>\n",
       "  <th>Date:</th>            <td>Thu, 24 Nov 2022</td> <th>  Deviance:          </th> <td>4.3034e+05</td> \n",
       "</tr>\n",
       "<tr>\n",
       "  <th>Time:</th>                <td>11:05:08</td>     <th>  Pearson chi2:      </th>  <td>6.11e+05</td>  \n",
       "</tr>\n",
       "<tr>\n",
       "  <th>No. Iterations:</th>          <td>8</td>        <th>  Pseudo R-squ. (CS):</th>   <td> 0.000</td>   \n",
       "</tr>\n",
       "<tr>\n",
       "  <th>Covariance Type:</th>     <td>nonrobust</td>    <th>                     </th>      <td> </td>     \n",
       "</tr>\n",
       "</table>\n",
       "<table class=\"simpletable\">\n",
       "<tr>\n",
       "      <td></td>         <th>coef</th>     <th>std err</th>      <th>z</th>      <th>P>|z|</th>  <th>[0.025</th>    <th>0.975]</th>  \n",
       "</tr>\n",
       "<tr>\n",
       "  <th>Intercept</th> <td>    8.7561</td> <td>    0.002</td> <td> 4747.395</td> <td> 0.000</td> <td>    8.752</td> <td>    8.760</td>\n",
       "</tr>\n",
       "</table>"
      ],
      "text/plain": [
       "<class 'statsmodels.iolib.summary.Summary'>\n",
       "\"\"\"\n",
       "                 Generalized Linear Model Regression Results                  \n",
       "==============================================================================\n",
       "Dep. Variable:                val_ron   No. Observations:               423971\n",
       "Model:                            GLM   Df Residuals:                   423970\n",
       "Model Family:                   Gamma   Df Model:                            0\n",
       "Link Function:                    log   Scale:                          1.4423\n",
       "Method:                          IRLS   Log-Likelihood:            -4.1620e+06\n",
       "Date:                Thu, 24 Nov 2022   Deviance:                   4.3034e+05\n",
       "Time:                        11:05:08   Pearson chi2:                 6.11e+05\n",
       "No. Iterations:                     8   Pseudo R-squ. (CS):              0.000\n",
       "Covariance Type:            nonrobust                                         \n",
       "==============================================================================\n",
       "                 coef    std err          z      P>|z|      [0.025      0.975]\n",
       "------------------------------------------------------------------------------\n",
       "Intercept      8.7561      0.002   4747.395      0.000       8.752       8.760\n",
       "==============================================================================\n",
       "\"\"\""
      ]
     },
     "execution_count": 39,
     "metadata": {},
     "output_type": "execute_result"
    }
   ],
   "source": [
    "patsy_null = 'val_ron ~ 1'  # fitting the base model, no predictors just the target values\n",
    "model_iso = glm(patsy_null, data = claims_mat[(claims_mat.val_ron > 0) & (claims_mat.iso_pred == 1)], family = sm.families.Gamma(link=sm.families.links.log())).fit()\n",
    "prediction = model_iso.predict(claims_mat[(claims_mat.val_ron > 0) & (claims_mat.iso_pred == 1)])\n",
    "\n",
    "temp = pd.DataFrame({'val_prd': prediction})\n",
    "temp = pd.concat([claims_mat[(claims_mat.val_ron > 0) & (claims_mat.iso_pred == 1)], temp], axis = 1)\n",
    "model_iso.summary()"
   ]
  },
  {
   "cell_type": "code",
   "execution_count": 40,
   "metadata": {},
   "outputs": [
    {
     "data": {
      "text/plain": [
       "8324049.077256074"
      ]
     },
     "execution_count": 40,
     "metadata": {},
     "output_type": "execute_result"
    }
   ],
   "source": [
    "model_iso.aic"
   ]
  },
  {
   "cell_type": "markdown",
   "metadata": {},
   "source": [
    "All three together."
   ]
  },
  {
   "cell_type": "code",
   "execution_count": 41,
   "metadata": {},
   "outputs": [
    {
     "name": "stdout",
     "output_type": "stream",
     "text": [
      "Number of outliers identified by elliptic envelope: 42824\n",
      "Number of outliers identified by local outlier factor: 15188\n",
      "Number of outliers identified by isolation tree: 4264\n",
      "**************************************************\n",
      "Number of outliers commonly identified by all three methods: 92\n"
     ]
    }
   ],
   "source": [
    "print(f'Number of outliers identified by elliptic envelope: {claims_mat[claims_mat.ee_pred == -1].shape[0]}')\n",
    "print(f'Number of outliers identified by local outlier factor: {claims_mat[claims_mat.lof_pred == -1].shape[0]}')\n",
    "print(f'Number of outliers identified by isolation tree: {claims_mat[claims_mat.iso_pred == -1].shape[0]}')\n",
    "print('*'*50)\n",
    "print(f'Number of outliers commonly identified by all three methods: {claims_mat[(claims_mat.ee_pred == -1) & (claims_mat.lof_pred == -1) & (claims_mat.iso_pred == -1)].shape[0]}')"
   ]
  },
  {
   "cell_type": "code",
   "execution_count": 42,
   "metadata": {},
   "outputs": [
    {
     "data": {
      "text/plain": [
       "62276"
      ]
     },
     "execution_count": 42,
     "metadata": {},
     "output_type": "execute_result"
    }
   ],
   "source": [
    "42824+15188+4264"
   ]
  },
  {
   "cell_type": "code",
   "execution_count": 43,
   "metadata": {},
   "outputs": [
    {
     "data": {
      "text/html": [
       "<div>\n",
       "<style scoped>\n",
       "    .dataframe tbody tr th:only-of-type {\n",
       "        vertical-align: middle;\n",
       "    }\n",
       "\n",
       "    .dataframe tbody tr th {\n",
       "        vertical-align: top;\n",
       "    }\n",
       "\n",
       "    .dataframe thead th {\n",
       "        text-align: right;\n",
       "    }\n",
       "</style>\n",
       "<table border=\"1\" class=\"dataframe\">\n",
       "  <thead>\n",
       "    <tr style=\"text-align: right;\">\n",
       "      <th></th>\n",
       "      <th>idEvent</th>\n",
       "      <th>acc_year</th>\n",
       "      <th>idPolita</th>\n",
       "      <th>plati_ron</th>\n",
       "      <th>plati_eur</th>\n",
       "      <th>res_ron</th>\n",
       "      <th>res_eur</th>\n",
       "      <th>val_ron</th>\n",
       "      <th>val_eur</th>\n",
       "      <th>tip</th>\n",
       "      <th>ee_pred</th>\n",
       "      <th>lof_pred</th>\n",
       "      <th>iso_pred</th>\n",
       "    </tr>\n",
       "  </thead>\n",
       "  <tbody>\n",
       "    <tr>\n",
       "      <th>293786</th>\n",
       "      <td>407902</td>\n",
       "      <td>2020</td>\n",
       "      <td>17610884</td>\n",
       "      <td>83,930.00</td>\n",
       "      <td>17,044.22</td>\n",
       "      <td>0.00</td>\n",
       "      <td>0.00</td>\n",
       "      <td>83,930.00</td>\n",
       "      <td>17,044.22</td>\n",
       "      <td>MAT</td>\n",
       "      <td>-1</td>\n",
       "      <td>-1</td>\n",
       "      <td>-1</td>\n",
       "    </tr>\n",
       "    <tr>\n",
       "      <th>242758</th>\n",
       "      <td>325117</td>\n",
       "      <td>2019</td>\n",
       "      <td>14832087</td>\n",
       "      <td>26,789.00</td>\n",
       "      <td>5,413.98</td>\n",
       "      <td>37,487.91</td>\n",
       "      <td>7,642.95</td>\n",
       "      <td>64,276.91</td>\n",
       "      <td>13,056.92</td>\n",
       "      <td>MAT</td>\n",
       "      <td>-1</td>\n",
       "      <td>-1</td>\n",
       "      <td>-1</td>\n",
       "    </tr>\n",
       "    <tr>\n",
       "      <th>9504</th>\n",
       "      <td>9593</td>\n",
       "      <td>2015</td>\n",
       "      <td>2576595</td>\n",
       "      <td>680,183.63</td>\n",
       "      <td>140,677.31</td>\n",
       "      <td>705,334.66</td>\n",
       "      <td>147,643.20</td>\n",
       "      <td>1,385,518.30</td>\n",
       "      <td>288,320.51</td>\n",
       "      <td>MAT</td>\n",
       "      <td>-1</td>\n",
       "      <td>-1</td>\n",
       "      <td>-1</td>\n",
       "    </tr>\n",
       "    <tr>\n",
       "      <th>60651</th>\n",
       "      <td>65294</td>\n",
       "      <td>2017</td>\n",
       "      <td>3805532</td>\n",
       "      <td>83,460.00</td>\n",
       "      <td>18,319.88</td>\n",
       "      <td>0.00</td>\n",
       "      <td>0.00</td>\n",
       "      <td>83,460.00</td>\n",
       "      <td>18,319.88</td>\n",
       "      <td>MAT</td>\n",
       "      <td>-1</td>\n",
       "      <td>-1</td>\n",
       "      <td>-1</td>\n",
       "    </tr>\n",
       "    <tr>\n",
       "      <th>122286</th>\n",
       "      <td>148416</td>\n",
       "      <td>2017</td>\n",
       "      <td>7928424</td>\n",
       "      <td>64,356.00</td>\n",
       "      <td>13,819.49</td>\n",
       "      <td>0.00</td>\n",
       "      <td>0.00</td>\n",
       "      <td>64,356.00</td>\n",
       "      <td>13,819.49</td>\n",
       "      <td>MAT</td>\n",
       "      <td>-1</td>\n",
       "      <td>-1</td>\n",
       "      <td>-1</td>\n",
       "    </tr>\n",
       "  </tbody>\n",
       "</table>\n",
       "</div>"
      ],
      "text/plain": [
       "        idEvent  acc_year  idPolita  plati_ron  plati_eur    res_ron  \\\n",
       "293786   407902      2020  17610884  83,930.00  17,044.22       0.00   \n",
       "242758   325117      2019  14832087  26,789.00   5,413.98  37,487.91   \n",
       "9504       9593      2015   2576595 680,183.63 140,677.31 705,334.66   \n",
       "60651     65294      2017   3805532  83,460.00  18,319.88       0.00   \n",
       "122286   148416      2017   7928424  64,356.00  13,819.49       0.00   \n",
       "\n",
       "          res_eur      val_ron    val_eur  tip  ee_pred  lof_pred  iso_pred  \n",
       "293786       0.00    83,930.00  17,044.22  MAT       -1        -1        -1  \n",
       "242758   7,642.95    64,276.91  13,056.92  MAT       -1        -1        -1  \n",
       "9504   147,643.20 1,385,518.30 288,320.51  MAT       -1        -1        -1  \n",
       "60651        0.00    83,460.00  18,319.88  MAT       -1        -1        -1  \n",
       "122286       0.00    64,356.00  13,819.49  MAT       -1        -1        -1  "
      ]
     },
     "execution_count": 43,
     "metadata": {},
     "output_type": "execute_result"
    }
   ],
   "source": [
    "df = claims_mat[(claims_mat.ee_pred == -1) & (claims_mat.lof_pred == -1) & (claims_mat.iso_pred == -1)].copy()\n",
    "df.sample(5)"
   ]
  },
  {
   "cell_type": "code",
   "execution_count": 44,
   "metadata": {},
   "outputs": [
    {
     "data": {
      "text/html": [
       "<table class=\"simpletable\">\n",
       "<caption>Generalized Linear Model Regression Results</caption>\n",
       "<tr>\n",
       "  <th>Dep. Variable:</th>        <td>val_ron</td>     <th>  No. Observations:  </th>   <td>428143</td>   \n",
       "</tr>\n",
       "<tr>\n",
       "  <th>Model:</th>                  <td>GLM</td>       <th>  Df Residuals:      </th>   <td>428142</td>   \n",
       "</tr>\n",
       "<tr>\n",
       "  <th>Model Family:</th>          <td>Gamma</td>      <th>  Df Model:          </th>   <td>     0</td>   \n",
       "</tr>\n",
       "<tr>\n",
       "  <th>Link Function:</th>          <td>log</td>       <th>  Scale:             </th>  <td>  3.7034</td>  \n",
       "</tr>\n",
       "<tr>\n",
       "  <th>Method:</th>                <td>IRLS</td>       <th>  Log-Likelihood:    </th> <td>-4.3992e+06</td>\n",
       "</tr>\n",
       "<tr>\n",
       "  <th>Date:</th>            <td>Thu, 24 Nov 2022</td> <th>  Deviance:          </th> <td>5.2491e+05</td> \n",
       "</tr>\n",
       "<tr>\n",
       "  <th>Time:</th>                <td>11:05:11</td>     <th>  Pearson chi2:      </th>  <td>1.59e+06</td>  \n",
       "</tr>\n",
       "<tr>\n",
       "  <th>No. Iterations:</th>          <td>8</td>        <th>  Pseudo R-squ. (CS):</th>   <td> 0.000</td>   \n",
       "</tr>\n",
       "<tr>\n",
       "  <th>Covariance Type:</th>     <td>nonrobust</td>    <th>                     </th>      <td> </td>     \n",
       "</tr>\n",
       "</table>\n",
       "<table class=\"simpletable\">\n",
       "<tr>\n",
       "      <td></td>         <th>coef</th>     <th>std err</th>      <th>z</th>      <th>P>|z|</th>  <th>[0.025</th>    <th>0.975]</th>  \n",
       "</tr>\n",
       "<tr>\n",
       "  <th>Intercept</th> <td>    8.8924</td> <td>    0.003</td> <td> 3023.539</td> <td> 0.000</td> <td>    8.887</td> <td>    8.898</td>\n",
       "</tr>\n",
       "</table>"
      ],
      "text/plain": [
       "<class 'statsmodels.iolib.summary.Summary'>\n",
       "\"\"\"\n",
       "                 Generalized Linear Model Regression Results                  \n",
       "==============================================================================\n",
       "Dep. Variable:                val_ron   No. Observations:               428143\n",
       "Model:                            GLM   Df Residuals:                   428142\n",
       "Model Family:                   Gamma   Df Model:                            0\n",
       "Link Function:                    log   Scale:                          3.7034\n",
       "Method:                          IRLS   Log-Likelihood:            -4.3992e+06\n",
       "Date:                Thu, 24 Nov 2022   Deviance:                   5.2491e+05\n",
       "Time:                        11:05:11   Pearson chi2:                 1.59e+06\n",
       "No. Iterations:                     8   Pseudo R-squ. (CS):              0.000\n",
       "Covariance Type:            nonrobust                                         \n",
       "==============================================================================\n",
       "                 coef    std err          z      P>|z|      [0.025      0.975]\n",
       "------------------------------------------------------------------------------\n",
       "Intercept      8.8924      0.003   3023.539      0.000       8.887       8.898\n",
       "==============================================================================\n",
       "\"\"\""
      ]
     },
     "execution_count": 44,
     "metadata": {},
     "output_type": "execute_result"
    }
   ],
   "source": [
    "patsy_null = 'val_ron ~ 1'  # fitting the base model, no predictors just the target values\n",
    "\n",
    "df = claims_mat[claims_mat.val_ron > 0].copy()\n",
    "df = df[~((df.ee_pred == -1) & (df.lof_pred == -1) & (df.iso_pred == -1))]\n",
    "\n",
    "model_three = glm(patsy_null, data = df, family = sm.families.Gamma(link=sm.families.links.log())).fit()\n",
    "prediction = model_three.predict(df)\n",
    "\n",
    "temp = pd.DataFrame({'val_prd': prediction})\n",
    "temp = pd.concat([df, temp], axis = 1)\n",
    "model_three.summary()"
   ]
  },
  {
   "cell_type": "code",
   "execution_count": 45,
   "metadata": {},
   "outputs": [
    {
     "data": {
      "text/plain": [
       "8798455.702319823"
      ]
     },
     "execution_count": 45,
     "metadata": {},
     "output_type": "execute_result"
    }
   ],
   "source": [
    "model_three.aic"
   ]
  },
  {
   "cell_type": "markdown",
   "metadata": {},
   "source": [
    "Outlier model comparison."
   ]
  },
  {
   "cell_type": "code",
   "execution_count": 46,
   "metadata": {},
   "outputs": [
    {
     "data": {
      "text/html": [
       "<div>\n",
       "<style scoped>\n",
       "    .dataframe tbody tr th:only-of-type {\n",
       "        vertical-align: middle;\n",
       "    }\n",
       "\n",
       "    .dataframe tbody tr th {\n",
       "        vertical-align: top;\n",
       "    }\n",
       "\n",
       "    .dataframe thead th {\n",
       "        text-align: right;\n",
       "    }\n",
       "</style>\n",
       "<table border=\"1\" class=\"dataframe\">\n",
       "  <thead>\n",
       "    <tr style=\"text-align: right;\">\n",
       "      <th></th>\n",
       "      <th>complete</th>\n",
       "      <th>elliptic_env</th>\n",
       "      <th>local_outlier</th>\n",
       "      <th>iso_tree</th>\n",
       "      <th>all_three</th>\n",
       "    </tr>\n",
       "  </thead>\n",
       "  <tbody>\n",
       "    <tr>\n",
       "      <th>aic</th>\n",
       "      <td>9,210,065.56</td>\n",
       "      <td>7,181,091.81</td>\n",
       "      <td>8,494,664.78</td>\n",
       "      <td>8,324,049.08</td>\n",
       "      <td>8,798,455.70</td>\n",
       "    </tr>\n",
       "    <tr>\n",
       "      <th>log-likelyhood</th>\n",
       "      <td>-4,605,031.78</td>\n",
       "      <td>-3,590,544.90</td>\n",
       "      <td>-4,247,331.39</td>\n",
       "      <td>-4,162,023.54</td>\n",
       "      <td>-4,399,226.85</td>\n",
       "    </tr>\n",
       "  </tbody>\n",
       "</table>\n",
       "</div>"
      ],
      "text/plain": [
       "                    complete  elliptic_env  local_outlier      iso_tree  \\\n",
       "aic             9,210,065.56  7,181,091.81   8,494,664.78  8,324,049.08   \n",
       "log-likelyhood -4,605,031.78 -3,590,544.90  -4,247,331.39 -4,162,023.54   \n",
       "\n",
       "                   all_three  \n",
       "aic             8,798,455.70  \n",
       "log-likelyhood -4,399,226.85  "
      ]
     },
     "execution_count": 46,
     "metadata": {},
     "output_type": "execute_result"
    }
   ],
   "source": [
    "aics = [model_complete.aic, model_ee.aic, model_lof.aic, model_iso.aic, model_three.aic]\n",
    "loglikes = [model_complete.llf, model_ee.llf, model_lof.llf, model_iso.llf, model_three.llf] \n",
    "\n",
    "model_df = pd.DataFrame([aics, loglikes], columns = ['complete', 'elliptic_env', 'local_outlier', 'iso_tree', 'all_three'], index =['aic', 'log-likelyhood'])\n",
    "model_df.head()"
   ]
  },
  {
   "cell_type": "markdown",
   "metadata": {},
   "source": [
    "LOCAL OUTLIER FACTOR appears to have yielded the best results. I will now further investigate the outliers identified by this method."
   ]
  },
  {
   "cell_type": "code",
   "execution_count": 47,
   "metadata": {},
   "outputs": [
    {
     "data": {
      "text/plain": [
       "count      15,186.00\n",
       "mean       11,165.85\n",
       "std        80,798.38\n",
       "min            10.00\n",
       "25%         4,215.34\n",
       "50%         7,783.57\n",
       "75%        13,165.33\n",
       "max     8,293,198.96\n",
       "Name: val_ron, dtype: float64"
      ]
     },
     "execution_count": 47,
     "metadata": {},
     "output_type": "execute_result"
    }
   ],
   "source": [
    "# overview of the outliers identified\n",
    "claims_mat[(claims_mat.val_ron > 0) & (claims_mat.lof_pred == -1)]['val_ron'].describe()"
   ]
  },
  {
   "cell_type": "markdown",
   "metadata": {},
   "source": [
    "Outliers on the small side have also been identified, but these are valid values and will not be removed."
   ]
  },
  {
   "cell_type": "code",
   "execution_count": 48,
   "metadata": {},
   "outputs": [
    {
     "data": {
      "text/html": [
       "<div>\n",
       "<style scoped>\n",
       "    .dataframe tbody tr th:only-of-type {\n",
       "        vertical-align: middle;\n",
       "    }\n",
       "\n",
       "    .dataframe tbody tr th {\n",
       "        vertical-align: top;\n",
       "    }\n",
       "\n",
       "    .dataframe thead th {\n",
       "        text-align: right;\n",
       "    }\n",
       "</style>\n",
       "<table border=\"1\" class=\"dataframe\">\n",
       "  <thead>\n",
       "    <tr style=\"text-align: right;\">\n",
       "      <th></th>\n",
       "      <th>2.5mil</th>\n",
       "      <th>2mil</th>\n",
       "      <th>1.5mil</th>\n",
       "      <th>1mil</th>\n",
       "      <th>500k</th>\n",
       "      <th>100k</th>\n",
       "      <th>50k</th>\n",
       "      <th>15k</th>\n",
       "    </tr>\n",
       "  </thead>\n",
       "  <tbody>\n",
       "    <tr>\n",
       "      <th>aic</th>\n",
       "      <td>8,862,463.53</td>\n",
       "      <td>8,832,611.17</td>\n",
       "      <td>8,832,611.17</td>\n",
       "      <td>8,803,924.37</td>\n",
       "      <td>8,803,924.37</td>\n",
       "      <td>8,800,646.44</td>\n",
       "      <td>8,797,282.92</td>\n",
       "      <td>8,748,448.62</td>\n",
       "    </tr>\n",
       "    <tr>\n",
       "      <th>nr_drop</th>\n",
       "      <td>3.00</td>\n",
       "      <td>4.00</td>\n",
       "      <td>4.00</td>\n",
       "      <td>7.00</td>\n",
       "      <td>7.00</td>\n",
       "      <td>28.00</td>\n",
       "      <td>139.00</td>\n",
       "      <td>2,573.00</td>\n",
       "    </tr>\n",
       "  </tbody>\n",
       "</table>\n",
       "</div>"
      ],
      "text/plain": [
       "              2.5mil         2mil       1.5mil         1mil         500k  \\\n",
       "aic     8,862,463.53 8,832,611.17 8,832,611.17 8,803,924.37 8,803,924.37   \n",
       "nr_drop         3.00         4.00         4.00         7.00         7.00   \n",
       "\n",
       "                100k          50k          15k  \n",
       "aic     8,800,646.44 8,797,282.92 8,748,448.62  \n",
       "nr_drop        28.00       139.00     2,573.00  "
      ]
     },
     "execution_count": 48,
     "metadata": {},
     "output_type": "execute_result"
    }
   ],
   "source": [
    "# I will investigate the effects of removing outliers passed several thresholds on the aic score\n",
    "thresholds = [2500000, 2000000, 1500000, 1000000, 500000, 100000, 50000, 15000]\n",
    "aic = []\n",
    "nr_drop = []\n",
    "\n",
    "for thresh in thresholds:\n",
    "    patsy_null = 'val_ron ~ 1' \n",
    "    temp = claims_mat[claims_mat.val_ron > 0].copy()\n",
    "    temp.drop(claims_mat[(claims_mat.lof_pred == -1) & (claims_mat.val_ron > thresh)].index, axis = 0, inplace = True)\n",
    "\n",
    "    model = glm(patsy_null, data = temp, family = sm.families.Gamma(link=sm.families.links.log())).fit()\n",
    "    prediction = model.predict(temp)\n",
    "\n",
    "    aic.append(model.aic)\n",
    "    nr_drop.append(claims_mat[(claims_mat.lof_pred == -1) & (claims_mat.val_ron > thresh)].shape[0])\n",
    "\n",
    "thresh_df = pd.DataFrame([aic, nr_drop], columns = ['2.5mil', '2mil', '1.5mil', '1mil', '500k', '100k', '50k', '15k'], index =['aic', 'nr_drop'])\n",
    "thresh_df.head()\n"
   ]
  },
  {
   "cell_type": "code",
   "execution_count": 49,
   "metadata": {},
   "outputs": [
    {
     "data": {
      "text/plain": [
       "63074    8,293,198.96\n",
       "237071   3,340,832.81\n",
       "75281    2,532,157.30\n",
       "777      2,436,672.48\n",
       "22366    1,450,328.04\n",
       "9504     1,385,518.30\n",
       "80111    1,255,772.38\n",
       "168162     334,354.00\n",
       "85181      252,226.32\n",
       "313777     251,579.00\n",
       "Name: val_ron, dtype: float64"
      ]
     },
     "execution_count": 49,
     "metadata": {},
     "output_type": "execute_result"
    }
   ],
   "source": [
    "claims_mat[(claims_mat.val_ron > 0) & (claims_mat.lof_pred == -1)]['val_ron'].sort_values(ascending = False).head(10)"
   ]
  },
  {
   "cell_type": "markdown",
   "metadata": {},
   "source": [
    "Big claims are those over 1 million RON. "
   ]
  },
  {
   "cell_type": "markdown",
   "metadata": {},
   "source": [
    "We will now remove all claims suggested by the LOF algorithm to be outliers."
   ]
  },
  {
   "cell_type": "code",
   "execution_count": 57,
   "metadata": {},
   "outputs": [],
   "source": [
    "# save lof outlier indices\n",
    "lof_outlier_ind = np.array(claims_mat[(claims_mat.val_ron > 0) & (claims_mat.lof_pred == -1)].index)\n",
    "np.save('data/autoturisme_mat_outliers_lof', lof_outlier_ind)"
   ]
  }
 ],
 "metadata": {
  "kernelspec": {
   "display_name": "Python 3.9.7 64-bit",
   "language": "python",
   "name": "python3"
  },
  "language_info": {
   "codemirror_mode": {
    "name": "ipython",
    "version": 3
   },
   "file_extension": ".py",
   "mimetype": "text/x-python",
   "name": "python",
   "nbconvert_exporter": "python",
   "pygments_lexer": "ipython3",
   "version": "3.9.7"
  },
  "orig_nbformat": 4,
  "vscode": {
   "interpreter": {
    "hash": "fea6285dc85dc598e45933db2eefb8fc97d6be303f784144309c577fb28ff0b0"
   }
  }
 },
 "nbformat": 4,
 "nbformat_minor": 2
}
