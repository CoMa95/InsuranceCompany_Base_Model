{
 "cells": [
  {
   "cell_type": "code",
   "execution_count": 1,
   "metadata": {},
   "outputs": [],
   "source": [
    "import pandas as pd\n",
    "import numpy as np\n",
    "from settings import Config\n",
    "from mysql_db import Database\n",
    "import pdcast as pdc\n",
    "import s3_upload_download as s3con\n",
    "import os"
   ]
  },
  {
   "attachments": {},
   "cell_type": "markdown",
   "metadata": {},
   "source": [
    "# NOTEBOOK DESCRIPTION: \n",
    "\n",
    "Perform different checks on the transferred tables:\n",
    "1. Same number of rows as in the originals?\n",
    "2. Duplicates or nans?\n",
    "3. Does the data only contain policies signed after 2015?\n",
    "\n",
    "The POLICIES table (polite_rca) only contains policies signed after 2015. Performing a MIN() operation of the policy id column indicates 2230446 to be the earlierst policy. "
   ]
  },
  {
   "cell_type": "code",
   "execution_count": 2,
   "metadata": {},
   "outputs": [],
   "source": [
    "# initialise the s3_connector object needed to read/write files into an S3 bucket\n",
    "s3con = s3con.s3_connector()"
   ]
  },
  {
   "attachments": {},
   "cell_type": "markdown",
   "metadata": {},
   "source": [
    "## a. Attributes"
   ]
  },
  {
   "attachments": {},
   "cell_type": "markdown",
   "metadata": {},
   "source": [
    "### Attributes 1 to 5 were created from the CLIENTS table (clienti), with an original count of 55564938.\n",
    "However, this must be halved to account for the insured/user duplicates, thus 27782469."
   ]
  },
  {
   "cell_type": "code",
   "execution_count": 3,
   "metadata": {},
   "outputs": [
    {
     "name": "stdout",
     "output_type": "stream",
     "text": [
      "Number of rows is 27782469\n",
      "Number of complete duplicates is 0\n",
      "Number of POLICY ID (idPolita) duplicates is 0\n",
      "Number of nans is \n",
      " idPolita    0\n",
      "tip         0\n",
      "dtype: int64\n"
     ]
    }
   ],
   "source": [
    "# check att1_type\n",
    "df = s3con.read('att1_type.feather')\n",
    "print('Number of rows is', df.shape[0])\n",
    "print('Number of complete duplicates is', df.duplicated().sum())\n",
    "print('Number of POLICY ID (idPolita) duplicates is', df.duplicated('idPolita').sum())\n",
    "print('Number of nans is \\n', df.isnull().sum())"
   ]
  },
  {
   "cell_type": "code",
   "execution_count": 35,
   "metadata": {},
   "outputs": [
    {
     "data": {
      "text/html": [
       "<div>\n",
       "<style scoped>\n",
       "    .dataframe tbody tr th:only-of-type {\n",
       "        vertical-align: middle;\n",
       "    }\n",
       "\n",
       "    .dataframe tbody tr th {\n",
       "        vertical-align: top;\n",
       "    }\n",
       "\n",
       "    .dataframe thead th {\n",
       "        text-align: right;\n",
       "    }\n",
       "</style>\n",
       "<table border=\"1\" class=\"dataframe\">\n",
       "  <thead>\n",
       "    <tr style=\"text-align: right;\">\n",
       "      <th></th>\n",
       "      <th>idPolita</th>\n",
       "      <th>tip</th>\n",
       "    </tr>\n",
       "  </thead>\n",
       "  <tbody>\n",
       "  </tbody>\n",
       "</table>\n",
       "</div>"
      ],
      "text/plain": [
       "Empty DataFrame\n",
       "Columns: [idPolita, tip]\n",
       "Index: []"
      ]
     },
     "execution_count": 35,
     "metadata": {},
     "output_type": "execute_result"
    }
   ],
   "source": [
    "df[df.idPolita < 2230446]"
   ]
  },
  {
   "attachments": {},
   "cell_type": "markdown",
   "metadata": {},
   "source": [
    "Since attributes 1 to 5 all come from the same original table, there is no need to check whether each attribute table contains policies from 2015 onwards."
   ]
  },
  {
   "cell_type": "code",
   "execution_count": 36,
   "metadata": {},
   "outputs": [
    {
     "name": "stdout",
     "output_type": "stream",
     "text": [
      "Number of rows is 27782469\n",
      "Number of duplicates is 0\n",
      "Number of nans is \n",
      " idPolita    0\n",
      "varsta      0\n",
      "dtype: int64\n"
     ]
    }
   ],
   "source": [
    "# check att2_age\n",
    "df = s3con.read('att2_age.feather')\n",
    "print('Number of rows is', df.shape[0])\n",
    "print('Number of duplicates is', df.duplicated().sum())\n",
    "print('Number of nans is \\n', df.isnull().sum())"
   ]
  },
  {
   "cell_type": "code",
   "execution_count": 37,
   "metadata": {},
   "outputs": [
    {
     "name": "stdout",
     "output_type": "stream",
     "text": [
      "Number of rows is 27782469\n",
      "Number of duplicates is 0\n",
      "Number of nans is \n",
      " idPolita    0\n",
      "judet       0\n",
      "dtype: int64\n"
     ]
    }
   ],
   "source": [
    "# check att3_judet\n",
    "df = s3con.read('att3_judet.feather')\n",
    "print('Number of rows is', df.shape[0])\n",
    "print('Number of duplicates is', df.duplicated().sum())\n",
    "print('Number of nans is \\n', df.isnull().sum())"
   ]
  },
  {
   "cell_type": "code",
   "execution_count": 40,
   "metadata": {},
   "outputs": [
    {
     "name": "stdout",
     "output_type": "stream",
     "text": [
      "Number of rows is 27782469\n",
      "Number of duplicates is 0\n",
      "Number of nans is \n",
      " idPolita      0\n",
      "localitate    0\n",
      "dtype: int64\n"
     ]
    }
   ],
   "source": [
    "# check att4_localitate\n",
    "df = s3con.read('att4_localitate.feather')\n",
    "print('Number of rows is', df.shape[0])\n",
    "print('Number of duplicates is', df.duplicated().sum())\n",
    "print('Number of nans is \\n', df.isnull().sum())"
   ]
  },
  {
   "cell_type": "code",
   "execution_count": 41,
   "metadata": {},
   "outputs": [
    {
     "name": "stdout",
     "output_type": "stream",
     "text": [
      "Number of rows is 27782469\n",
      "Number of duplicates is 0\n",
      "Number of nans is \n",
      " idPolita    0\n",
      "sex         0\n",
      "dtype: int64\n"
     ]
    }
   ],
   "source": [
    "# check att5_sex\n",
    "df = s3con.read('att5_sex.feather')\n",
    "print('Number of rows is', df.shape[0])\n",
    "print('Number of duplicates is', df.duplicated().sum())\n",
    "print('Number of nans is \\n', df.isnull().sum())"
   ]
  },
  {
   "attachments": {},
   "cell_type": "markdown",
   "metadata": {},
   "source": [
    "Attributes 1 to 5 do not appear to have obvious issues."
   ]
  },
  {
   "attachments": {},
   "cell_type": "markdown",
   "metadata": {},
   "source": [
    "### Attributes 6 to 12 were created from the OBJECTS table (obiecte), with a count of 27598519."
   ]
  },
  {
   "cell_type": "code",
   "execution_count": 19,
   "metadata": {},
   "outputs": [
    {
     "data": {
      "text/plain": [
       "27598520"
      ]
     },
     "execution_count": 19,
     "metadata": {},
     "output_type": "execute_result"
    }
   ],
   "source": [
    "# check att6_category_type.feather\n",
    "df = s3con.read('att6_category_type_a.feather')\n",
    "df2 = s3con.read('att6_category_type_b.feather')\n",
    "\n",
    "con = pd.concat([df, df2], axis= 0, ignore_index= True)\n",
    "con.shape[0]"
   ]
  },
  {
   "cell_type": "code",
   "execution_count": 20,
   "metadata": {},
   "outputs": [
    {
     "data": {
      "text/plain": [
       "1"
      ]
     },
     "execution_count": 20,
     "metadata": {},
     "output_type": "execute_result"
    }
   ],
   "source": [
    "con.duplicated().sum()"
   ]
  },
  {
   "cell_type": "code",
   "execution_count": 21,
   "metadata": {},
   "outputs": [],
   "source": [
    "con.drop_duplicates(inplace = True, ignore_index = True)"
   ]
  },
  {
   "cell_type": "code",
   "execution_count": 23,
   "metadata": {},
   "outputs": [
    {
     "data": {
      "text/plain": [
       "idPolita      0\n",
       "categorie     0\n",
       "tipVehicul    0\n",
       "dtype: int64"
      ]
     },
     "execution_count": 23,
     "metadata": {},
     "output_type": "execute_result"
    }
   ],
   "source": [
    "con.isnull().sum()"
   ]
  },
  {
   "cell_type": "code",
   "execution_count": 24,
   "metadata": {},
   "outputs": [],
   "source": [
    "# save to S3\n",
    "con.to_feather('att6_category_type.feather')\n",
    "s3con.write('att6_category_type.feather')\n",
    "os.remove('att6_category_type.feather')"
   ]
  },
  {
   "cell_type": "code",
   "execution_count": 43,
   "metadata": {},
   "outputs": [
    {
     "data": {
      "text/html": [
       "<div>\n",
       "<style scoped>\n",
       "    .dataframe tbody tr th:only-of-type {\n",
       "        vertical-align: middle;\n",
       "    }\n",
       "\n",
       "    .dataframe tbody tr th {\n",
       "        vertical-align: top;\n",
       "    }\n",
       "\n",
       "    .dataframe thead th {\n",
       "        text-align: right;\n",
       "    }\n",
       "</style>\n",
       "<table border=\"1\" class=\"dataframe\">\n",
       "  <thead>\n",
       "    <tr style=\"text-align: right;\">\n",
       "      <th></th>\n",
       "      <th>idPolita</th>\n",
       "      <th>categorie</th>\n",
       "      <th>tipVehicul</th>\n",
       "    </tr>\n",
       "  </thead>\n",
       "  <tbody>\n",
       "  </tbody>\n",
       "</table>\n",
       "</div>"
      ],
      "text/plain": [
       "Empty DataFrame\n",
       "Columns: [idPolita, categorie, tipVehicul]\n",
       "Index: []"
      ]
     },
     "execution_count": 43,
     "metadata": {},
     "output_type": "execute_result"
    }
   ],
   "source": [
    "df = s3con.read('att6_category_type.feather')\n",
    "df[df.idPolita < 2230446]"
   ]
  },
  {
   "attachments": {},
   "cell_type": "markdown",
   "metadata": {},
   "source": [
    "Again, since attributes 6 to 12 come from the same table, no need to continue checking whether all policies are 2015 onwards."
   ]
  },
  {
   "cell_type": "code",
   "execution_count": 31,
   "metadata": {},
   "outputs": [
    {
     "data": {
      "text/plain": [
       "27598520"
      ]
     },
     "execution_count": 31,
     "metadata": {},
     "output_type": "execute_result"
    }
   ],
   "source": [
    "# check att7_category_type.feather\n",
    "df = s3con.read('att7_make_a.feather')\n",
    "df2 = s3con.read('att7_make_b.feather')\n",
    "\n",
    "con = pd.concat([df, df2], axis= 0, ignore_index= True)\n",
    "con.shape[0]"
   ]
  },
  {
   "cell_type": "code",
   "execution_count": 34,
   "metadata": {},
   "outputs": [
    {
     "name": "stdout",
     "output_type": "stream",
     "text": [
      "<class 'pandas.core.frame.DataFrame'>\n",
      "RangeIndex: 27598520 entries, 0 to 27598519\n",
      "Data columns (total 3 columns):\n",
      " #   Column    Dtype \n",
      "---  ------    ----- \n",
      " 0   idPolita  uint32\n",
      " 1   marca     object\n",
      " 2   model     object\n",
      "dtypes: object(2), uint32(1)\n",
      "memory usage: 526.4+ MB\n"
     ]
    }
   ],
   "source": [
    "con.info()"
   ]
  },
  {
   "cell_type": "code",
   "execution_count": 35,
   "metadata": {},
   "outputs": [
    {
     "name": "stdout",
     "output_type": "stream",
     "text": [
      "<class 'pandas.core.frame.DataFrame'>\n",
      "RangeIndex: 27598520 entries, 0 to 27598519\n",
      "Data columns (total 3 columns):\n",
      " #   Column    Dtype   \n",
      "---  ------    -----   \n",
      " 0   idPolita  uint32  \n",
      " 1   marca     category\n",
      " 2   model     category\n",
      "dtypes: category(2), uint32(1)\n",
      "memory usage: 274.9 MB\n"
     ]
    }
   ],
   "source": [
    "con = pdc.downcast(con)\n",
    "con.info()"
   ]
  },
  {
   "cell_type": "code",
   "execution_count": 36,
   "metadata": {},
   "outputs": [],
   "source": [
    "con.drop_duplicates(inplace = True, ignore_index = True)"
   ]
  },
  {
   "cell_type": "code",
   "execution_count": 37,
   "metadata": {},
   "outputs": [
    {
     "data": {
      "text/plain": [
       "idPolita    0\n",
       "marca       0\n",
       "model       0\n",
       "dtype: int64"
      ]
     },
     "execution_count": 37,
     "metadata": {},
     "output_type": "execute_result"
    }
   ],
   "source": [
    "con.isnull().sum()"
   ]
  },
  {
   "cell_type": "code",
   "execution_count": 38,
   "metadata": {},
   "outputs": [],
   "source": [
    "# save to S3\n",
    "con.to_feather('att7_make.feather')\n",
    "s3con.write('att7_make.feather')\n",
    "os.remove('att7_make.feather')"
   ]
  },
  {
   "cell_type": "code",
   "execution_count": 5,
   "metadata": {},
   "outputs": [
    {
     "name": "stdout",
     "output_type": "stream",
     "text": [
      "Number of rows is 27598519\n",
      "Number of duplicates is 0\n",
      "Number of POLICY ID (idPolita) duplicates is 0\n",
      "Number of nans is \n",
      " idPolita      0\n",
      "capacitate    0\n",
      "dtype: int64\n"
     ]
    }
   ],
   "source": [
    "# check att8_capacity\n",
    "df = s3con.read('att8_capacity.feather')\n",
    "print('Number of rows is', df.shape[0])\n",
    "print('Number of duplicates is', df.duplicated().sum())\n",
    "print('Number of POLICY ID (idPolita) duplicates is', df.duplicated('idPolita').sum())\n",
    "print('Number of nans is \\n', df.isnull().sum())"
   ]
  },
  {
   "cell_type": "code",
   "execution_count": 45,
   "metadata": {},
   "outputs": [
    {
     "name": "stdout",
     "output_type": "stream",
     "text": [
      "Number of rows is 27598519\n",
      "Number of duplicates is 0\n",
      "Number of nans is \n",
      " idPolita    0\n",
      "putere      0\n",
      "dtype: int64\n"
     ]
    }
   ],
   "source": [
    "# check att9_power\n",
    "df = s3con.read('att9_power.feather')\n",
    "print('Number of rows is', df.shape[0])\n",
    "print('Number of duplicates is', df.duplicated().sum())\n",
    "print('Number of nans is \\n', df.isnull().sum())"
   ]
  },
  {
   "cell_type": "code",
   "execution_count": 47,
   "metadata": {},
   "outputs": [
    {
     "name": "stdout",
     "output_type": "stream",
     "text": [
      "Number of rows is 27598519\n",
      "Number of duplicates is 0\n",
      "Number of nans is \n",
      " idPolita    0\n",
      "locuri      0\n",
      "dtype: int64\n"
     ]
    }
   ],
   "source": [
    "# check att10_seats\n",
    "df = s3con.read('att10_seats.feather')\n",
    "print('Number of rows is', df.shape[0])\n",
    "print('Number of duplicates is', df.duplicated().sum())\n",
    "print('Number of nans is \\n', df.isnull().sum())"
   ]
  },
  {
   "cell_type": "code",
   "execution_count": 48,
   "metadata": {},
   "outputs": [
    {
     "name": "stdout",
     "output_type": "stream",
     "text": [
      "Number of rows is 27598519\n",
      "Number of duplicates is 0\n",
      "Number of nans is \n",
      " idPolita        0\n",
      "anFabricatie    0\n",
      "dtype: int64\n"
     ]
    }
   ],
   "source": [
    "# check att11_year\n",
    "df = s3con.read('att11_year.feather')\n",
    "print('Number of rows is', df.shape[0])\n",
    "print('Number of duplicates is', df.duplicated().sum())\n",
    "print('Number of nans is \\n', df.isnull().sum())"
   ]
  },
  {
   "cell_type": "code",
   "execution_count": 49,
   "metadata": {},
   "outputs": [
    {
     "name": "stdout",
     "output_type": "stream",
     "text": [
      "Number of rows is 27598519\n",
      "Number of duplicates is 0\n",
      "Number of nans is \n",
      " idPolita       0\n",
      "masaTehnica    0\n",
      "dtype: int64\n"
     ]
    }
   ],
   "source": [
    "# check att12_weight\n",
    "df = s3con.read('att12_weight.feather')\n",
    "print('Number of rows is', df.shape[0])\n",
    "print('Number of duplicates is', df.duplicated().sum())\n",
    "print('Number of nans is \\n', df.isnull().sum())"
   ]
  },
  {
   "attachments": {},
   "cell_type": "markdown",
   "metadata": {},
   "source": [
    "### Attributes 13 and 14 were created from the POLICIES table (polite), with a count of 27598532."
   ]
  },
  {
   "cell_type": "code",
   "execution_count": 6,
   "metadata": {},
   "outputs": [
    {
     "name": "stdout",
     "output_type": "stream",
     "text": [
      "Number of rows is 27598532\n",
      "Number of complete duplicates is 0\n",
      "Number of POLICY ID (idPolita) duplicates is 0\n",
      "Number of nans is \n",
      " idPolita    0\n",
      "clasaBM     0\n",
      "dtype: int64\n"
     ]
    }
   ],
   "source": [
    "# check att13_bonus_malus\n",
    "df = s3con.read('att13_bonus_malus.feather')\n",
    "print('Number of rows is', df.shape[0])\n",
    "print('Number of complete duplicates is', df.duplicated().sum())\n",
    "print('Number of POLICY ID (idPolita) duplicates is', df.duplicated('idPolita').sum())\n",
    "print('Number of nans is \\n', df.isnull().sum())"
   ]
  },
  {
   "cell_type": "code",
   "execution_count": 51,
   "metadata": {},
   "outputs": [
    {
     "data": {
      "text/html": [
       "<div>\n",
       "<style scoped>\n",
       "    .dataframe tbody tr th:only-of-type {\n",
       "        vertical-align: middle;\n",
       "    }\n",
       "\n",
       "    .dataframe tbody tr th {\n",
       "        vertical-align: top;\n",
       "    }\n",
       "\n",
       "    .dataframe thead th {\n",
       "        text-align: right;\n",
       "    }\n",
       "</style>\n",
       "<table border=\"1\" class=\"dataframe\">\n",
       "  <thead>\n",
       "    <tr style=\"text-align: right;\">\n",
       "      <th></th>\n",
       "      <th>idPolita</th>\n",
       "      <th>clasaBM</th>\n",
       "    </tr>\n",
       "  </thead>\n",
       "  <tbody>\n",
       "  </tbody>\n",
       "</table>\n",
       "</div>"
      ],
      "text/plain": [
       "Empty DataFrame\n",
       "Columns: [idPolita, clasaBM]\n",
       "Index: []"
      ]
     },
     "execution_count": 51,
     "metadata": {},
     "output_type": "execute_result"
    }
   ],
   "source": [
    "df[df.idPolita < 2230446]"
   ]
  },
  {
   "cell_type": "code",
   "execution_count": 52,
   "metadata": {},
   "outputs": [
    {
     "name": "stdout",
     "output_type": "stream",
     "text": [
      "Number of rows is 27598532\n",
      "Number of duplicates is 0\n",
      "Number of nans is \n",
      " idPolita    0\n",
      "nrRate      0\n",
      "dtype: int64\n"
     ]
    }
   ],
   "source": [
    "# check att14_no_rates\n",
    "df = s3con.read('att14_no_rates.feather')\n",
    "print('Number of rows is', df.shape[0])\n",
    "print('Number of duplicates is', df.duplicated().sum())\n",
    "print('Number of nans is \\n', df.isnull().sum())"
   ]
  },
  {
   "cell_type": "code",
   "execution_count": 53,
   "metadata": {},
   "outputs": [
    {
     "data": {
      "text/html": [
       "<div>\n",
       "<style scoped>\n",
       "    .dataframe tbody tr th:only-of-type {\n",
       "        vertical-align: middle;\n",
       "    }\n",
       "\n",
       "    .dataframe tbody tr th {\n",
       "        vertical-align: top;\n",
       "    }\n",
       "\n",
       "    .dataframe thead th {\n",
       "        text-align: right;\n",
       "    }\n",
       "</style>\n",
       "<table border=\"1\" class=\"dataframe\">\n",
       "  <thead>\n",
       "    <tr style=\"text-align: right;\">\n",
       "      <th></th>\n",
       "      <th>idPolita</th>\n",
       "      <th>nrRate</th>\n",
       "    </tr>\n",
       "  </thead>\n",
       "  <tbody>\n",
       "  </tbody>\n",
       "</table>\n",
       "</div>"
      ],
      "text/plain": [
       "Empty DataFrame\n",
       "Columns: [idPolita, nrRate]\n",
       "Index: []"
      ]
     },
     "execution_count": 53,
     "metadata": {},
     "output_type": "execute_result"
    }
   ],
   "source": [
    "df[df.idPolita < 2230446]"
   ]
  },
  {
   "attachments": {},
   "cell_type": "markdown",
   "metadata": {},
   "source": [
    "## b. Exposures and number of events"
   ]
  },
  {
   "attachments": {},
   "cell_type": "markdown",
   "metadata": {},
   "source": [
    "#### Events_no was created from the CLAIMS table (daune), where the count of distinct policies was 624963."
   ]
  },
  {
   "cell_type": "code",
   "execution_count": 7,
   "metadata": {},
   "outputs": [
    {
     "data": {
      "text/html": [
       "<div>\n",
       "<style scoped>\n",
       "    .dataframe tbody tr th:only-of-type {\n",
       "        vertical-align: middle;\n",
       "    }\n",
       "\n",
       "    .dataframe tbody tr th {\n",
       "        vertical-align: top;\n",
       "    }\n",
       "\n",
       "    .dataframe thead th {\n",
       "        text-align: right;\n",
       "    }\n",
       "</style>\n",
       "<table border=\"1\" class=\"dataframe\">\n",
       "  <thead>\n",
       "    <tr style=\"text-align: right;\">\n",
       "      <th></th>\n",
       "      <th>idPolita</th>\n",
       "      <th>total_ev</th>\n",
       "      <th>ev_2015</th>\n",
       "      <th>ev_2016</th>\n",
       "      <th>ev_2017</th>\n",
       "      <th>ev_2018</th>\n",
       "      <th>ev_2019</th>\n",
       "      <th>ev_2020</th>\n",
       "      <th>ev_2021</th>\n",
       "    </tr>\n",
       "  </thead>\n",
       "  <tbody>\n",
       "    <tr>\n",
       "      <th>0</th>\n",
       "      <td>2230466</td>\n",
       "      <td>1</td>\n",
       "      <td>1</td>\n",
       "      <td>0</td>\n",
       "      <td>0</td>\n",
       "      <td>0</td>\n",
       "      <td>0</td>\n",
       "      <td>0</td>\n",
       "      <td>0</td>\n",
       "    </tr>\n",
       "    <tr>\n",
       "      <th>1</th>\n",
       "      <td>2230478</td>\n",
       "      <td>1</td>\n",
       "      <td>1</td>\n",
       "      <td>0</td>\n",
       "      <td>0</td>\n",
       "      <td>0</td>\n",
       "      <td>0</td>\n",
       "      <td>0</td>\n",
       "      <td>0</td>\n",
       "    </tr>\n",
       "    <tr>\n",
       "      <th>2</th>\n",
       "      <td>2230529</td>\n",
       "      <td>1</td>\n",
       "      <td>1</td>\n",
       "      <td>0</td>\n",
       "      <td>0</td>\n",
       "      <td>0</td>\n",
       "      <td>0</td>\n",
       "      <td>0</td>\n",
       "      <td>0</td>\n",
       "    </tr>\n",
       "    <tr>\n",
       "      <th>3</th>\n",
       "      <td>2230537</td>\n",
       "      <td>1</td>\n",
       "      <td>1</td>\n",
       "      <td>0</td>\n",
       "      <td>0</td>\n",
       "      <td>0</td>\n",
       "      <td>0</td>\n",
       "      <td>0</td>\n",
       "      <td>0</td>\n",
       "    </tr>\n",
       "    <tr>\n",
       "      <th>4</th>\n",
       "      <td>2230579</td>\n",
       "      <td>1</td>\n",
       "      <td>1</td>\n",
       "      <td>0</td>\n",
       "      <td>0</td>\n",
       "      <td>0</td>\n",
       "      <td>0</td>\n",
       "      <td>0</td>\n",
       "      <td>0</td>\n",
       "    </tr>\n",
       "  </tbody>\n",
       "</table>\n",
       "</div>"
      ],
      "text/plain": [
       "   idPolita  total_ev  ev_2015  ev_2016  ev_2017  ev_2018  ev_2019  ev_2020  \\\n",
       "0   2230466         1        1        0        0        0        0        0   \n",
       "1   2230478         1        1        0        0        0        0        0   \n",
       "2   2230529         1        1        0        0        0        0        0   \n",
       "3   2230537         1        1        0        0        0        0        0   \n",
       "4   2230579         1        1        0        0        0        0        0   \n",
       "\n",
       "   ev_2021  \n",
       "0        0  \n",
       "1        0  \n",
       "2        0  \n",
       "3        0  \n",
       "4        0  "
      ]
     },
     "execution_count": 7,
     "metadata": {},
     "output_type": "execute_result"
    }
   ],
   "source": [
    "df = s3con.read('events_no.feather')\n",
    "df.head()"
   ]
  },
  {
   "cell_type": "code",
   "execution_count": 5,
   "metadata": {},
   "outputs": [
    {
     "name": "stdout",
     "output_type": "stream",
     "text": [
      "<class 'pandas.core.frame.DataFrame'>\n",
      "RangeIndex: 624963 entries, 0 to 624962\n",
      "Data columns (total 9 columns):\n",
      " #   Column    Non-Null Count   Dtype \n",
      "---  ------    --------------   ----- \n",
      " 0   idPolita  624963 non-null  uint32\n",
      " 1   total_ev  624963 non-null  uint8 \n",
      " 2   ev_2015   624963 non-null  uint8 \n",
      " 3   ev_2016   624963 non-null  uint8 \n",
      " 4   ev_2017   624963 non-null  bool  \n",
      " 5   ev_2018   624963 non-null  bool  \n",
      " 6   ev_2019   624963 non-null  bool  \n",
      " 7   ev_2020   624963 non-null  uint8 \n",
      " 8   ev_2021   624963 non-null  uint8 \n",
      "dtypes: bool(3), uint32(1), uint8(5)\n",
      "memory usage: 7.2 MB\n"
     ]
    }
   ],
   "source": [
    "df.info()"
   ]
  },
  {
   "attachments": {},
   "cell_type": "markdown",
   "metadata": {},
   "source": [
    "Three years were automatically converted into boolean values, and must be converted back to numerical."
   ]
  },
  {
   "cell_type": "code",
   "execution_count": 6,
   "metadata": {},
   "outputs": [],
   "source": [
    "df.ev_2017 = df.ev_2017.astype(np.uint8)\n",
    "df.ev_2018 = df.ev_2018.astype(np.uint8)\n",
    "df.ev_2019 = df.ev_2019.astype(np.uint8)"
   ]
  },
  {
   "cell_type": "code",
   "execution_count": 7,
   "metadata": {},
   "outputs": [
    {
     "data": {
      "text/plain": [
       "624963"
      ]
     },
     "execution_count": 7,
     "metadata": {},
     "output_type": "execute_result"
    }
   ],
   "source": [
    "df.shape[0]"
   ]
  },
  {
   "cell_type": "code",
   "execution_count": 8,
   "metadata": {},
   "outputs": [
    {
     "data": {
      "text/plain": [
       "21647"
      ]
     },
     "execution_count": 8,
     "metadata": {},
     "output_type": "execute_result"
    }
   ],
   "source": [
    "# check whether the sum of the exposure years equals the column with the total number of events\n",
    "\n",
    "df[df.total_ev != (df.ev_2015 + df.ev_2016 + df.ev_2017\t+ df.ev_2018 + df.ev_2019 + df.ev_2020 + df.ev_2021)].shape[0]"
   ]
  },
  {
   "cell_type": "code",
   "execution_count": 9,
   "metadata": {},
   "outputs": [
    {
     "data": {
      "text/html": [
       "<div>\n",
       "<style scoped>\n",
       "    .dataframe tbody tr th:only-of-type {\n",
       "        vertical-align: middle;\n",
       "    }\n",
       "\n",
       "    .dataframe tbody tr th {\n",
       "        vertical-align: top;\n",
       "    }\n",
       "\n",
       "    .dataframe thead th {\n",
       "        text-align: right;\n",
       "    }\n",
       "</style>\n",
       "<table border=\"1\" class=\"dataframe\">\n",
       "  <thead>\n",
       "    <tr style=\"text-align: right;\">\n",
       "      <th></th>\n",
       "      <th>idPolita</th>\n",
       "      <th>total_ev</th>\n",
       "      <th>ev_2015</th>\n",
       "      <th>ev_2016</th>\n",
       "      <th>ev_2017</th>\n",
       "      <th>ev_2018</th>\n",
       "      <th>ev_2019</th>\n",
       "      <th>ev_2020</th>\n",
       "      <th>ev_2021</th>\n",
       "    </tr>\n",
       "  </thead>\n",
       "  <tbody>\n",
       "    <tr>\n",
       "      <th>1</th>\n",
       "      <td>137</td>\n",
       "      <td>1</td>\n",
       "      <td>0</td>\n",
       "      <td>0</td>\n",
       "      <td>0</td>\n",
       "      <td>0</td>\n",
       "      <td>0</td>\n",
       "      <td>0</td>\n",
       "      <td>0</td>\n",
       "    </tr>\n",
       "    <tr>\n",
       "      <th>2</th>\n",
       "      <td>4570</td>\n",
       "      <td>1</td>\n",
       "      <td>0</td>\n",
       "      <td>0</td>\n",
       "      <td>0</td>\n",
       "      <td>0</td>\n",
       "      <td>0</td>\n",
       "      <td>0</td>\n",
       "      <td>0</td>\n",
       "    </tr>\n",
       "    <tr>\n",
       "      <th>4</th>\n",
       "      <td>11415</td>\n",
       "      <td>1</td>\n",
       "      <td>0</td>\n",
       "      <td>0</td>\n",
       "      <td>0</td>\n",
       "      <td>0</td>\n",
       "      <td>0</td>\n",
       "      <td>0</td>\n",
       "      <td>0</td>\n",
       "    </tr>\n",
       "    <tr>\n",
       "      <th>5</th>\n",
       "      <td>14739</td>\n",
       "      <td>1</td>\n",
       "      <td>0</td>\n",
       "      <td>0</td>\n",
       "      <td>0</td>\n",
       "      <td>0</td>\n",
       "      <td>0</td>\n",
       "      <td>0</td>\n",
       "      <td>0</td>\n",
       "    </tr>\n",
       "    <tr>\n",
       "      <th>6</th>\n",
       "      <td>17011</td>\n",
       "      <td>1</td>\n",
       "      <td>0</td>\n",
       "      <td>0</td>\n",
       "      <td>0</td>\n",
       "      <td>0</td>\n",
       "      <td>0</td>\n",
       "      <td>0</td>\n",
       "      <td>0</td>\n",
       "    </tr>\n",
       "    <tr>\n",
       "      <th>...</th>\n",
       "      <td>...</td>\n",
       "      <td>...</td>\n",
       "      <td>...</td>\n",
       "      <td>...</td>\n",
       "      <td>...</td>\n",
       "      <td>...</td>\n",
       "      <td>...</td>\n",
       "      <td>...</td>\n",
       "      <td>...</td>\n",
       "    </tr>\n",
       "    <tr>\n",
       "      <th>430241</th>\n",
       "      <td>19057448</td>\n",
       "      <td>2</td>\n",
       "      <td>0</td>\n",
       "      <td>0</td>\n",
       "      <td>0</td>\n",
       "      <td>0</td>\n",
       "      <td>1</td>\n",
       "      <td>0</td>\n",
       "      <td>0</td>\n",
       "    </tr>\n",
       "    <tr>\n",
       "      <th>430832</th>\n",
       "      <td>19086749</td>\n",
       "      <td>2</td>\n",
       "      <td>0</td>\n",
       "      <td>0</td>\n",
       "      <td>0</td>\n",
       "      <td>0</td>\n",
       "      <td>1</td>\n",
       "      <td>0</td>\n",
       "      <td>0</td>\n",
       "    </tr>\n",
       "    <tr>\n",
       "      <th>431062</th>\n",
       "      <td>19098173</td>\n",
       "      <td>2</td>\n",
       "      <td>0</td>\n",
       "      <td>0</td>\n",
       "      <td>0</td>\n",
       "      <td>0</td>\n",
       "      <td>1</td>\n",
       "      <td>0</td>\n",
       "      <td>0</td>\n",
       "    </tr>\n",
       "    <tr>\n",
       "      <th>431070</th>\n",
       "      <td>19098805</td>\n",
       "      <td>2</td>\n",
       "      <td>0</td>\n",
       "      <td>0</td>\n",
       "      <td>0</td>\n",
       "      <td>0</td>\n",
       "      <td>1</td>\n",
       "      <td>0</td>\n",
       "      <td>0</td>\n",
       "    </tr>\n",
       "    <tr>\n",
       "      <th>432031</th>\n",
       "      <td>19146604</td>\n",
       "      <td>2</td>\n",
       "      <td>0</td>\n",
       "      <td>0</td>\n",
       "      <td>0</td>\n",
       "      <td>0</td>\n",
       "      <td>1</td>\n",
       "      <td>0</td>\n",
       "      <td>0</td>\n",
       "    </tr>\n",
       "  </tbody>\n",
       "</table>\n",
       "<p>21647 rows × 9 columns</p>\n",
       "</div>"
      ],
      "text/plain": [
       "        idPolita  total_ev  ev_2015  ev_2016  ev_2017  ev_2018  ev_2019  \\\n",
       "1            137         1        0        0        0        0        0   \n",
       "2           4570         1        0        0        0        0        0   \n",
       "4          11415         1        0        0        0        0        0   \n",
       "5          14739         1        0        0        0        0        0   \n",
       "6          17011         1        0        0        0        0        0   \n",
       "...          ...       ...      ...      ...      ...      ...      ...   \n",
       "430241  19057448         2        0        0        0        0        1   \n",
       "430832  19086749         2        0        0        0        0        1   \n",
       "431062  19098173         2        0        0        0        0        1   \n",
       "431070  19098805         2        0        0        0        0        1   \n",
       "432031  19146604         2        0        0        0        0        1   \n",
       "\n",
       "        ev_2020  ev_2021  \n",
       "1             0        0  \n",
       "2             0        0  \n",
       "4             0        0  \n",
       "5             0        0  \n",
       "6             0        0  \n",
       "...         ...      ...  \n",
       "430241        0        0  \n",
       "430832        0        0  \n",
       "431062        0        0  \n",
       "431070        0        0  \n",
       "432031        0        0  \n",
       "\n",
       "[21647 rows x 9 columns]"
      ]
     },
     "execution_count": 9,
     "metadata": {},
     "output_type": "execute_result"
    }
   ],
   "source": [
    "df[df.total_ev != (df.ev_2015 + df.ev_2016 + df.ev_2017\t+ df.ev_2018 + df.ev_2019 + df.ev_2020 + df.ev_2021)]"
   ]
  },
  {
   "attachments": {},
   "cell_type": "markdown",
   "metadata": {},
   "source": [
    "Some of these cells (e.g. idPolita 19146604) actually have the right number of events over the years, in the table's original version on MySQL. Therefore, it is possible that the automated downcasting, which converted 3 columns into boolean values, reduced values >1 to 1. \n",
    "\n",
    "Solution: reload the table from MySQL and do not perform downcasting."
   ]
  },
  {
   "cell_type": "code",
   "execution_count": 13,
   "metadata": {},
   "outputs": [
    {
     "data": {
      "text/html": [
       "<div>\n",
       "<style scoped>\n",
       "    .dataframe tbody tr th:only-of-type {\n",
       "        vertical-align: middle;\n",
       "    }\n",
       "\n",
       "    .dataframe tbody tr th {\n",
       "        vertical-align: top;\n",
       "    }\n",
       "\n",
       "    .dataframe thead th {\n",
       "        text-align: right;\n",
       "    }\n",
       "</style>\n",
       "<table border=\"1\" class=\"dataframe\">\n",
       "  <thead>\n",
       "    <tr style=\"text-align: right;\">\n",
       "      <th></th>\n",
       "      <th>idPolita</th>\n",
       "      <th>total_ev</th>\n",
       "      <th>ev_2015</th>\n",
       "      <th>ev_2016</th>\n",
       "      <th>ev_2017</th>\n",
       "      <th>ev_2018</th>\n",
       "      <th>ev_2019</th>\n",
       "      <th>ev_2020</th>\n",
       "      <th>ev_2021</th>\n",
       "    </tr>\n",
       "  </thead>\n",
       "  <tbody>\n",
       "    <tr>\n",
       "      <th>1</th>\n",
       "      <td>137</td>\n",
       "      <td>1</td>\n",
       "      <td>0</td>\n",
       "      <td>0</td>\n",
       "      <td>0</td>\n",
       "      <td>0</td>\n",
       "      <td>0</td>\n",
       "      <td>0</td>\n",
       "      <td>0</td>\n",
       "    </tr>\n",
       "    <tr>\n",
       "      <th>2</th>\n",
       "      <td>4570</td>\n",
       "      <td>1</td>\n",
       "      <td>0</td>\n",
       "      <td>0</td>\n",
       "      <td>0</td>\n",
       "      <td>0</td>\n",
       "      <td>0</td>\n",
       "      <td>0</td>\n",
       "      <td>0</td>\n",
       "    </tr>\n",
       "    <tr>\n",
       "      <th>4</th>\n",
       "      <td>11415</td>\n",
       "      <td>1</td>\n",
       "      <td>0</td>\n",
       "      <td>0</td>\n",
       "      <td>0</td>\n",
       "      <td>0</td>\n",
       "      <td>0</td>\n",
       "      <td>0</td>\n",
       "      <td>0</td>\n",
       "    </tr>\n",
       "    <tr>\n",
       "      <th>5</th>\n",
       "      <td>14739</td>\n",
       "      <td>1</td>\n",
       "      <td>0</td>\n",
       "      <td>0</td>\n",
       "      <td>0</td>\n",
       "      <td>0</td>\n",
       "      <td>0</td>\n",
       "      <td>0</td>\n",
       "      <td>0</td>\n",
       "    </tr>\n",
       "    <tr>\n",
       "      <th>6</th>\n",
       "      <td>17011</td>\n",
       "      <td>1</td>\n",
       "      <td>0</td>\n",
       "      <td>0</td>\n",
       "      <td>0</td>\n",
       "      <td>0</td>\n",
       "      <td>0</td>\n",
       "      <td>0</td>\n",
       "      <td>0</td>\n",
       "    </tr>\n",
       "    <tr>\n",
       "      <th>...</th>\n",
       "      <td>...</td>\n",
       "      <td>...</td>\n",
       "      <td>...</td>\n",
       "      <td>...</td>\n",
       "      <td>...</td>\n",
       "      <td>...</td>\n",
       "      <td>...</td>\n",
       "      <td>...</td>\n",
       "      <td>...</td>\n",
       "    </tr>\n",
       "    <tr>\n",
       "      <th>17719</th>\n",
       "      <td>2215694</td>\n",
       "      <td>1</td>\n",
       "      <td>0</td>\n",
       "      <td>0</td>\n",
       "      <td>0</td>\n",
       "      <td>0</td>\n",
       "      <td>0</td>\n",
       "      <td>0</td>\n",
       "      <td>0</td>\n",
       "    </tr>\n",
       "    <tr>\n",
       "      <th>17796</th>\n",
       "      <td>2218254</td>\n",
       "      <td>1</td>\n",
       "      <td>0</td>\n",
       "      <td>0</td>\n",
       "      <td>0</td>\n",
       "      <td>0</td>\n",
       "      <td>0</td>\n",
       "      <td>0</td>\n",
       "      <td>0</td>\n",
       "    </tr>\n",
       "    <tr>\n",
       "      <th>17799</th>\n",
       "      <td>2218475</td>\n",
       "      <td>1</td>\n",
       "      <td>0</td>\n",
       "      <td>0</td>\n",
       "      <td>0</td>\n",
       "      <td>0</td>\n",
       "      <td>0</td>\n",
       "      <td>0</td>\n",
       "      <td>0</td>\n",
       "    </tr>\n",
       "    <tr>\n",
       "      <th>17859</th>\n",
       "      <td>2220741</td>\n",
       "      <td>1</td>\n",
       "      <td>0</td>\n",
       "      <td>0</td>\n",
       "      <td>0</td>\n",
       "      <td>0</td>\n",
       "      <td>0</td>\n",
       "      <td>0</td>\n",
       "      <td>0</td>\n",
       "    </tr>\n",
       "    <tr>\n",
       "      <th>18030</th>\n",
       "      <td>2227038</td>\n",
       "      <td>1</td>\n",
       "      <td>0</td>\n",
       "      <td>0</td>\n",
       "      <td>0</td>\n",
       "      <td>0</td>\n",
       "      <td>0</td>\n",
       "      <td>0</td>\n",
       "      <td>0</td>\n",
       "    </tr>\n",
       "  </tbody>\n",
       "</table>\n",
       "<p>5492 rows × 9 columns</p>\n",
       "</div>"
      ],
      "text/plain": [
       "       idPolita  total_ev  ev_2015  ev_2016  ev_2017  ev_2018  ev_2019  \\\n",
       "1           137         1        0        0        0        0        0   \n",
       "2          4570         1        0        0        0        0        0   \n",
       "4         11415         1        0        0        0        0        0   \n",
       "5         14739         1        0        0        0        0        0   \n",
       "6         17011         1        0        0        0        0        0   \n",
       "...         ...       ...      ...      ...      ...      ...      ...   \n",
       "17719   2215694         1        0        0        0        0        0   \n",
       "17796   2218254         1        0        0        0        0        0   \n",
       "17799   2218475         1        0        0        0        0        0   \n",
       "17859   2220741         1        0        0        0        0        0   \n",
       "18030   2227038         1        0        0        0        0        0   \n",
       "\n",
       "       ev_2020  ev_2021  \n",
       "1            0        0  \n",
       "2            0        0  \n",
       "4            0        0  \n",
       "5            0        0  \n",
       "6            0        0  \n",
       "...        ...      ...  \n",
       "17719        0        0  \n",
       "17796        0        0  \n",
       "17799        0        0  \n",
       "17859        0        0  \n",
       "18030        0        0  \n",
       "\n",
       "[5492 rows x 9 columns]"
      ]
     },
     "execution_count": 13,
     "metadata": {},
     "output_type": "execute_result"
    }
   ],
   "source": [
    "original = db.run_view('SELECT * FROM events_no')\n",
    "original[original.total_ev != (original.ev_2015 + original.ev_2016 + original.ev_2017\t+ original.ev_2018 + original.ev_2019 + original.ev_2020 + original.ev_2021)]"
   ]
  },
  {
   "cell_type": "code",
   "execution_count": 14,
   "metadata": {},
   "outputs": [
    {
     "data": {
      "text/html": [
       "<div>\n",
       "<style scoped>\n",
       "    .dataframe tbody tr th:only-of-type {\n",
       "        vertical-align: middle;\n",
       "    }\n",
       "\n",
       "    .dataframe tbody tr th {\n",
       "        vertical-align: top;\n",
       "    }\n",
       "\n",
       "    .dataframe thead th {\n",
       "        text-align: right;\n",
       "    }\n",
       "</style>\n",
       "<table border=\"1\" class=\"dataframe\">\n",
       "  <thead>\n",
       "    <tr style=\"text-align: right;\">\n",
       "      <th></th>\n",
       "      <th>idPolita</th>\n",
       "      <th>total_ev</th>\n",
       "      <th>ev_2015</th>\n",
       "      <th>ev_2016</th>\n",
       "      <th>ev_2017</th>\n",
       "      <th>ev_2018</th>\n",
       "      <th>ev_2019</th>\n",
       "      <th>ev_2020</th>\n",
       "      <th>ev_2021</th>\n",
       "    </tr>\n",
       "  </thead>\n",
       "  <tbody>\n",
       "    <tr>\n",
       "      <th>432031</th>\n",
       "      <td>19146604</td>\n",
       "      <td>2</td>\n",
       "      <td>0</td>\n",
       "      <td>0</td>\n",
       "      <td>0</td>\n",
       "      <td>0</td>\n",
       "      <td>2</td>\n",
       "      <td>0</td>\n",
       "      <td>0</td>\n",
       "    </tr>\n",
       "  </tbody>\n",
       "</table>\n",
       "</div>"
      ],
      "text/plain": [
       "        idPolita  total_ev  ev_2015  ev_2016  ev_2017  ev_2018  ev_2019  \\\n",
       "432031  19146604         2        0        0        0        0        2   \n",
       "\n",
       "        ev_2020  ev_2021  \n",
       "432031        0        0  "
      ]
     },
     "execution_count": 14,
     "metadata": {},
     "output_type": "execute_result"
    }
   ],
   "source": [
    "original[original.idPolita == 19146604]"
   ]
  },
  {
   "attachments": {},
   "cell_type": "markdown",
   "metadata": {},
   "source": [
    "Now there are far fewer policies with issues. The example policy (19146604) is now correct.\n",
    "\n",
    "However, there are still 5492 incorrect rows, which may be those that were signed before the year 2015. \n",
    "\n",
    "The POLICIES table (polite_rca) only contains policies signed 2015 and later, where the first policy id is 2230446. I will drop all policies with ids under this number.\n"
   ]
  },
  {
   "cell_type": "code",
   "execution_count": 18,
   "metadata": {},
   "outputs": [
    {
     "data": {
      "text/html": [
       "<div>\n",
       "<style scoped>\n",
       "    .dataframe tbody tr th:only-of-type {\n",
       "        vertical-align: middle;\n",
       "    }\n",
       "\n",
       "    .dataframe tbody tr th {\n",
       "        vertical-align: top;\n",
       "    }\n",
       "\n",
       "    .dataframe thead th {\n",
       "        text-align: right;\n",
       "    }\n",
       "</style>\n",
       "<table border=\"1\" class=\"dataframe\">\n",
       "  <thead>\n",
       "    <tr style=\"text-align: right;\">\n",
       "      <th></th>\n",
       "      <th>idPolita</th>\n",
       "      <th>total_ev</th>\n",
       "      <th>ev_2015</th>\n",
       "      <th>ev_2016</th>\n",
       "      <th>ev_2017</th>\n",
       "      <th>ev_2018</th>\n",
       "      <th>ev_2019</th>\n",
       "      <th>ev_2020</th>\n",
       "      <th>ev_2021</th>\n",
       "    </tr>\n",
       "  </thead>\n",
       "  <tbody>\n",
       "    <tr>\n",
       "      <th>0</th>\n",
       "      <td>0</td>\n",
       "      <td>1</td>\n",
       "      <td>0</td>\n",
       "      <td>0</td>\n",
       "      <td>0</td>\n",
       "      <td>1</td>\n",
       "      <td>0</td>\n",
       "      <td>0</td>\n",
       "      <td>0</td>\n",
       "    </tr>\n",
       "    <tr>\n",
       "      <th>1</th>\n",
       "      <td>137</td>\n",
       "      <td>1</td>\n",
       "      <td>0</td>\n",
       "      <td>0</td>\n",
       "      <td>0</td>\n",
       "      <td>0</td>\n",
       "      <td>0</td>\n",
       "      <td>0</td>\n",
       "      <td>0</td>\n",
       "    </tr>\n",
       "    <tr>\n",
       "      <th>2</th>\n",
       "      <td>4570</td>\n",
       "      <td>1</td>\n",
       "      <td>0</td>\n",
       "      <td>0</td>\n",
       "      <td>0</td>\n",
       "      <td>0</td>\n",
       "      <td>0</td>\n",
       "      <td>0</td>\n",
       "      <td>0</td>\n",
       "    </tr>\n",
       "    <tr>\n",
       "      <th>3</th>\n",
       "      <td>10662</td>\n",
       "      <td>1</td>\n",
       "      <td>0</td>\n",
       "      <td>0</td>\n",
       "      <td>1</td>\n",
       "      <td>0</td>\n",
       "      <td>0</td>\n",
       "      <td>0</td>\n",
       "      <td>0</td>\n",
       "    </tr>\n",
       "    <tr>\n",
       "      <th>4</th>\n",
       "      <td>11415</td>\n",
       "      <td>1</td>\n",
       "      <td>0</td>\n",
       "      <td>0</td>\n",
       "      <td>0</td>\n",
       "      <td>0</td>\n",
       "      <td>0</td>\n",
       "      <td>0</td>\n",
       "      <td>0</td>\n",
       "    </tr>\n",
       "    <tr>\n",
       "      <th>...</th>\n",
       "      <td>...</td>\n",
       "      <td>...</td>\n",
       "      <td>...</td>\n",
       "      <td>...</td>\n",
       "      <td>...</td>\n",
       "      <td>...</td>\n",
       "      <td>...</td>\n",
       "      <td>...</td>\n",
       "      <td>...</td>\n",
       "    </tr>\n",
       "    <tr>\n",
       "      <th>18170</th>\n",
       "      <td>2230354</td>\n",
       "      <td>2</td>\n",
       "      <td>2</td>\n",
       "      <td>0</td>\n",
       "      <td>0</td>\n",
       "      <td>0</td>\n",
       "      <td>0</td>\n",
       "      <td>0</td>\n",
       "      <td>0</td>\n",
       "    </tr>\n",
       "    <tr>\n",
       "      <th>18171</th>\n",
       "      <td>2230385</td>\n",
       "      <td>1</td>\n",
       "      <td>1</td>\n",
       "      <td>0</td>\n",
       "      <td>0</td>\n",
       "      <td>0</td>\n",
       "      <td>0</td>\n",
       "      <td>0</td>\n",
       "      <td>0</td>\n",
       "    </tr>\n",
       "    <tr>\n",
       "      <th>18172</th>\n",
       "      <td>2230389</td>\n",
       "      <td>1</td>\n",
       "      <td>1</td>\n",
       "      <td>0</td>\n",
       "      <td>0</td>\n",
       "      <td>0</td>\n",
       "      <td>0</td>\n",
       "      <td>0</td>\n",
       "      <td>0</td>\n",
       "    </tr>\n",
       "    <tr>\n",
       "      <th>18173</th>\n",
       "      <td>2230424</td>\n",
       "      <td>1</td>\n",
       "      <td>1</td>\n",
       "      <td>0</td>\n",
       "      <td>0</td>\n",
       "      <td>0</td>\n",
       "      <td>0</td>\n",
       "      <td>0</td>\n",
       "      <td>0</td>\n",
       "    </tr>\n",
       "    <tr>\n",
       "      <th>18174</th>\n",
       "      <td>2230443</td>\n",
       "      <td>2</td>\n",
       "      <td>0</td>\n",
       "      <td>2</td>\n",
       "      <td>0</td>\n",
       "      <td>0</td>\n",
       "      <td>0</td>\n",
       "      <td>0</td>\n",
       "      <td>0</td>\n",
       "    </tr>\n",
       "  </tbody>\n",
       "</table>\n",
       "<p>18175 rows × 9 columns</p>\n",
       "</div>"
      ],
      "text/plain": [
       "       idPolita  total_ev  ev_2015  ev_2016  ev_2017  ev_2018  ev_2019  \\\n",
       "0             0         1        0        0        0        1        0   \n",
       "1           137         1        0        0        0        0        0   \n",
       "2          4570         1        0        0        0        0        0   \n",
       "3         10662         1        0        0        1        0        0   \n",
       "4         11415         1        0        0        0        0        0   \n",
       "...         ...       ...      ...      ...      ...      ...      ...   \n",
       "18170   2230354         2        2        0        0        0        0   \n",
       "18171   2230385         1        1        0        0        0        0   \n",
       "18172   2230389         1        1        0        0        0        0   \n",
       "18173   2230424         1        1        0        0        0        0   \n",
       "18174   2230443         2        0        2        0        0        0   \n",
       "\n",
       "       ev_2020  ev_2021  \n",
       "0            0        0  \n",
       "1            0        0  \n",
       "2            0        0  \n",
       "3            0        0  \n",
       "4            0        0  \n",
       "...        ...      ...  \n",
       "18170        0        0  \n",
       "18171        0        0  \n",
       "18172        0        0  \n",
       "18173        0        0  \n",
       "18174        0        0  \n",
       "\n",
       "[18175 rows x 9 columns]"
      ]
     },
     "execution_count": 18,
     "metadata": {},
     "output_type": "execute_result"
    }
   ],
   "source": [
    "# select one such policy\n",
    "original[original.idPolita < 2230446]"
   ]
  },
  {
   "cell_type": "code",
   "execution_count": 20,
   "metadata": {},
   "outputs": [],
   "source": [
    "original.drop(original[original.idPolita < 2230446].index, axis = 0, inplace = True)\n",
    "original.reset_index(drop = True, inplace = True)"
   ]
  },
  {
   "cell_type": "code",
   "execution_count": 21,
   "metadata": {},
   "outputs": [
    {
     "data": {
      "text/html": [
       "<div>\n",
       "<style scoped>\n",
       "    .dataframe tbody tr th:only-of-type {\n",
       "        vertical-align: middle;\n",
       "    }\n",
       "\n",
       "    .dataframe tbody tr th {\n",
       "        vertical-align: top;\n",
       "    }\n",
       "\n",
       "    .dataframe thead th {\n",
       "        text-align: right;\n",
       "    }\n",
       "</style>\n",
       "<table border=\"1\" class=\"dataframe\">\n",
       "  <thead>\n",
       "    <tr style=\"text-align: right;\">\n",
       "      <th></th>\n",
       "      <th>idPolita</th>\n",
       "      <th>total_ev</th>\n",
       "      <th>ev_2015</th>\n",
       "      <th>ev_2016</th>\n",
       "      <th>ev_2017</th>\n",
       "      <th>ev_2018</th>\n",
       "      <th>ev_2019</th>\n",
       "      <th>ev_2020</th>\n",
       "      <th>ev_2021</th>\n",
       "    </tr>\n",
       "  </thead>\n",
       "  <tbody>\n",
       "  </tbody>\n",
       "</table>\n",
       "</div>"
      ],
      "text/plain": [
       "Empty DataFrame\n",
       "Columns: [idPolita, total_ev, ev_2015, ev_2016, ev_2017, ev_2018, ev_2019, ev_2020, ev_2021]\n",
       "Index: []"
      ]
     },
     "execution_count": 21,
     "metadata": {},
     "output_type": "execute_result"
    }
   ],
   "source": [
    "# check the sums again\n",
    "original[original.total_ev != (original.ev_2015 + original.ev_2016 + original.ev_2017\t+ original.ev_2018 + original.ev_2019 + original.ev_2020 + original.ev_2021)]"
   ]
  },
  {
   "cell_type": "code",
   "execution_count": 22,
   "metadata": {},
   "outputs": [],
   "source": [
    "# save this file to S3, overwriting the previous one\n",
    "original.to_feather('events_no.feather')\n",
    "s3con.write('events_no.feather')\n",
    "os.remove('events_no.feather')"
   ]
  },
  {
   "attachments": {},
   "cell_type": "markdown",
   "metadata": {},
   "source": [
    "Check whether the number of unique events from the CLAIMS table (daune) is the same as the total number of unique events from the events_no table."
   ]
  },
  {
   "cell_type": "code",
   "execution_count": 8,
   "metadata": {},
   "outputs": [],
   "source": [
    "events = s3con.read('events_no.feather')\n",
    "daune = s3con.read('daune.feather')"
   ]
  },
  {
   "cell_type": "code",
   "execution_count": 14,
   "metadata": {},
   "outputs": [],
   "source": [
    "# first, remove the policies from before 2015\n",
    "daune.drop(daune[daune.idPolita < 2230446].index, axis = 0, inplace = True)\n",
    "daune.reset_index(drop = True, inplace = True)\n",
    "\n",
    "daune.to_feather('daune.feather')\n",
    "s3con.write('daune.feather')\n",
    "os.remove('daune.feather')"
   ]
  },
  {
   "cell_type": "code",
   "execution_count": 15,
   "metadata": {},
   "outputs": [
    {
     "name": "stdout",
     "output_type": "stream",
     "text": [
      "Number of unique events from daune: 638826\n",
      "Sum of all events from events_no: 638826\n"
     ]
    }
   ],
   "source": [
    "print('Number of unique events from daune:',daune.idEvent.nunique())\n",
    "print('Sum of all events from events_no:', events.total_ev.sum())"
   ]
  },
  {
   "cell_type": "code",
   "execution_count": 13,
   "metadata": {},
   "outputs": [
    {
     "data": {
      "text/html": [
       "<div>\n",
       "<style scoped>\n",
       "    .dataframe tbody tr th:only-of-type {\n",
       "        vertical-align: middle;\n",
       "    }\n",
       "\n",
       "    .dataframe tbody tr th {\n",
       "        vertical-align: top;\n",
       "    }\n",
       "\n",
       "    .dataframe thead th {\n",
       "        text-align: right;\n",
       "    }\n",
       "</style>\n",
       "<table border=\"1\" class=\"dataframe\">\n",
       "  <thead>\n",
       "    <tr style=\"text-align: right;\">\n",
       "      <th></th>\n",
       "      <th>idDosar</th>\n",
       "      <th>idPolita</th>\n",
       "      <th>stare</th>\n",
       "      <th>dataDeschidere</th>\n",
       "      <th>dataAvizare</th>\n",
       "      <th>dataEveniment</th>\n",
       "      <th>tipEveniment</th>\n",
       "      <th>tipDauna</th>\n",
       "      <th>idEvent</th>\n",
       "    </tr>\n",
       "  </thead>\n",
       "  <tbody>\n",
       "    <tr>\n",
       "      <th>0</th>\n",
       "      <td>53151</td>\n",
       "      <td>812068</td>\n",
       "      <td>inchis - achitat</td>\n",
       "      <td>2015-01-05</td>\n",
       "      <td>2015-01-05</td>\n",
       "      <td>2014-03-08</td>\n",
       "      <td>Pagube materiale</td>\n",
       "      <td>INTERNA</td>\n",
       "      <td>8120682014-03-08</td>\n",
       "    </tr>\n",
       "    <tr>\n",
       "      <th>1</th>\n",
       "      <td>53156</td>\n",
       "      <td>709184</td>\n",
       "      <td>inchis - achitat</td>\n",
       "      <td>2015-01-05</td>\n",
       "      <td>2015-01-05</td>\n",
       "      <td>2014-05-10</td>\n",
       "      <td>Pagube materiale</td>\n",
       "      <td>INTERNA</td>\n",
       "      <td>7091842014-05-10</td>\n",
       "    </tr>\n",
       "    <tr>\n",
       "      <th>2</th>\n",
       "      <td>53160</td>\n",
       "      <td>851329</td>\n",
       "      <td>inchis - achitat</td>\n",
       "      <td>2015-01-05</td>\n",
       "      <td>2015-01-05</td>\n",
       "      <td>2014-04-21</td>\n",
       "      <td>Pagube materiale</td>\n",
       "      <td>INTERNA</td>\n",
       "      <td>8513292014-04-21</td>\n",
       "    </tr>\n",
       "    <tr>\n",
       "      <th>3</th>\n",
       "      <td>53171</td>\n",
       "      <td>1529460</td>\n",
       "      <td>inchis - achitat</td>\n",
       "      <td>2015-01-05</td>\n",
       "      <td>2015-01-05</td>\n",
       "      <td>2014-07-03</td>\n",
       "      <td>Pagube materiale</td>\n",
       "      <td>INTERNA</td>\n",
       "      <td>15294602014-07-03</td>\n",
       "    </tr>\n",
       "    <tr>\n",
       "      <th>4</th>\n",
       "      <td>53177</td>\n",
       "      <td>1279418</td>\n",
       "      <td>inchis - achitat</td>\n",
       "      <td>2015-01-05</td>\n",
       "      <td>2015-01-05</td>\n",
       "      <td>2014-06-24</td>\n",
       "      <td>Pagube materiale</td>\n",
       "      <td>INTERNA</td>\n",
       "      <td>12794182014-06-24</td>\n",
       "    </tr>\n",
       "    <tr>\n",
       "      <th>...</th>\n",
       "      <td>...</td>\n",
       "      <td>...</td>\n",
       "      <td>...</td>\n",
       "      <td>...</td>\n",
       "      <td>...</td>\n",
       "      <td>...</td>\n",
       "      <td>...</td>\n",
       "      <td>...</td>\n",
       "      <td>...</td>\n",
       "    </tr>\n",
       "    <tr>\n",
       "      <th>704219</th>\n",
       "      <td>815819</td>\n",
       "      <td>718341</td>\n",
       "      <td>in lucru</td>\n",
       "      <td>2021-09-08</td>\n",
       "      <td>2021-09-08</td>\n",
       "      <td>2021-06-22</td>\n",
       "      <td>Pagube materiale</td>\n",
       "      <td>INTERNA</td>\n",
       "      <td>7183412021-06-22</td>\n",
       "    </tr>\n",
       "    <tr>\n",
       "      <th>705861</th>\n",
       "      <td>817722</td>\n",
       "      <td>725130</td>\n",
       "      <td>in lucru</td>\n",
       "      <td>2021-09-13</td>\n",
       "      <td>2021-09-13</td>\n",
       "      <td>2021-06-16</td>\n",
       "      <td>Pagube materiale</td>\n",
       "      <td>INTERNA</td>\n",
       "      <td>7251302021-06-16</td>\n",
       "    </tr>\n",
       "    <tr>\n",
       "      <th>706910</th>\n",
       "      <td>818925</td>\n",
       "      <td>1441335</td>\n",
       "      <td>in lucru</td>\n",
       "      <td>2021-09-15</td>\n",
       "      <td>2021-09-15</td>\n",
       "      <td>2014-09-27</td>\n",
       "      <td>Vatamari corporale/deces, inclusive pentru pre...</td>\n",
       "      <td>INTERNA</td>\n",
       "      <td>14413352014-09-27</td>\n",
       "    </tr>\n",
       "    <tr>\n",
       "      <th>709003</th>\n",
       "      <td>856852</td>\n",
       "      <td>1690542</td>\n",
       "      <td>in lucru</td>\n",
       "      <td>2021-09-10</td>\n",
       "      <td>2021-09-10</td>\n",
       "      <td>2014-08-26</td>\n",
       "      <td>Vatamari corporale/deces, inclusive pentru pre...</td>\n",
       "      <td>INTERNA</td>\n",
       "      <td>16905422014-08-26</td>\n",
       "    </tr>\n",
       "    <tr>\n",
       "      <th>709004</th>\n",
       "      <td>856853</td>\n",
       "      <td>1690542</td>\n",
       "      <td>in lucru</td>\n",
       "      <td>2021-09-10</td>\n",
       "      <td>2021-09-10</td>\n",
       "      <td>2014-08-26</td>\n",
       "      <td>Vatamari corporale/deces, inclusive pentru pre...</td>\n",
       "      <td>INTERNA</td>\n",
       "      <td>16905422014-08-26</td>\n",
       "    </tr>\n",
       "  </tbody>\n",
       "</table>\n",
       "<p>21118 rows × 9 columns</p>\n",
       "</div>"
      ],
      "text/plain": [
       "        idDosar  idPolita             stare dataDeschidere dataAvizare  \\\n",
       "0         53151    812068  inchis - achitat     2015-01-05  2015-01-05   \n",
       "1         53156    709184  inchis - achitat     2015-01-05  2015-01-05   \n",
       "2         53160    851329  inchis - achitat     2015-01-05  2015-01-05   \n",
       "3         53171   1529460  inchis - achitat     2015-01-05  2015-01-05   \n",
       "4         53177   1279418  inchis - achitat     2015-01-05  2015-01-05   \n",
       "...         ...       ...               ...            ...         ...   \n",
       "704219   815819    718341          in lucru     2021-09-08  2021-09-08   \n",
       "705861   817722    725130          in lucru     2021-09-13  2021-09-13   \n",
       "706910   818925   1441335          in lucru     2021-09-15  2021-09-15   \n",
       "709003   856852   1690542          in lucru     2021-09-10  2021-09-10   \n",
       "709004   856853   1690542          in lucru     2021-09-10  2021-09-10   \n",
       "\n",
       "       dataEveniment                                       tipEveniment  \\\n",
       "0         2014-03-08                                   Pagube materiale   \n",
       "1         2014-05-10                                   Pagube materiale   \n",
       "2         2014-04-21                                   Pagube materiale   \n",
       "3         2014-07-03                                   Pagube materiale   \n",
       "4         2014-06-24                                   Pagube materiale   \n",
       "...              ...                                                ...   \n",
       "704219    2021-06-22                                   Pagube materiale   \n",
       "705861    2021-06-16                                   Pagube materiale   \n",
       "706910    2014-09-27  Vatamari corporale/deces, inclusive pentru pre...   \n",
       "709003    2014-08-26  Vatamari corporale/deces, inclusive pentru pre...   \n",
       "709004    2014-08-26  Vatamari corporale/deces, inclusive pentru pre...   \n",
       "\n",
       "       tipDauna            idEvent  \n",
       "0       INTERNA   8120682014-03-08  \n",
       "1       INTERNA   7091842014-05-10  \n",
       "2       INTERNA   8513292014-04-21  \n",
       "3       INTERNA  15294602014-07-03  \n",
       "4       INTERNA  12794182014-06-24  \n",
       "...         ...                ...  \n",
       "704219  INTERNA   7183412021-06-22  \n",
       "705861  INTERNA   7251302021-06-16  \n",
       "706910  INTERNA  14413352014-09-27  \n",
       "709003  INTERNA  16905422014-08-26  \n",
       "709004  INTERNA  16905422014-08-26  \n",
       "\n",
       "[21118 rows x 9 columns]"
      ]
     },
     "execution_count": 13,
     "metadata": {},
     "output_type": "execute_result"
    }
   ],
   "source": [
    "daune[daune.idPolita < 2230446]"
   ]
  },
  {
   "attachments": {},
   "cell_type": "markdown",
   "metadata": {},
   "source": [
    "#### Polite_exp (Exposures) was created from the CLAIMS table (daune), where the count of distinct policies was 624963."
   ]
  },
  {
   "cell_type": "code",
   "execution_count": 3,
   "metadata": {},
   "outputs": [
    {
     "name": "stdout",
     "output_type": "stream",
     "text": [
      "<class 'pandas.core.frame.DataFrame'>\n",
      "RangeIndex: 27598537 entries, 0 to 27598536\n",
      "Data columns (total 12 columns):\n",
      " #   Column     Dtype   \n",
      "---  ------     -----   \n",
      " 0   idPolita   uint32  \n",
      " 1   dataStart  category\n",
      " 2   dataEnd    category\n",
      " 3   maturity   uint8   \n",
      " 4   exp_2015   category\n",
      " 5   exp_2016   category\n",
      " 6   exp_2017   category\n",
      " 7   exp_2018   category\n",
      " 8   exp_2019   category\n",
      " 9   exp_2020   category\n",
      " 10  exp_2021   category\n",
      " 11  exp_2022   category\n",
      "dtypes: category(10), uint32(1), uint8(1)\n",
      "memory usage: 631.9 MB\n"
     ]
    }
   ],
   "source": [
    "exp = s3con.read('polite_exp.feather')\n",
    "exp.info()"
   ]
  },
  {
   "attachments": {},
   "cell_type": "markdown",
   "metadata": {},
   "source": [
    "Total number of policies here is 27,598,537 which is below the total number of policies from the attributes tables \n",
    "(27,782,469)"
   ]
  },
  {
   "cell_type": "code",
   "execution_count": 4,
   "metadata": {},
   "outputs": [
    {
     "data": {
      "text/html": [
       "<div>\n",
       "<style scoped>\n",
       "    .dataframe tbody tr th:only-of-type {\n",
       "        vertical-align: middle;\n",
       "    }\n",
       "\n",
       "    .dataframe tbody tr th {\n",
       "        vertical-align: top;\n",
       "    }\n",
       "\n",
       "    .dataframe thead th {\n",
       "        text-align: right;\n",
       "    }\n",
       "</style>\n",
       "<table border=\"1\" class=\"dataframe\">\n",
       "  <thead>\n",
       "    <tr style=\"text-align: right;\">\n",
       "      <th></th>\n",
       "      <th>idPolita</th>\n",
       "      <th>dataStart</th>\n",
       "      <th>dataEnd</th>\n",
       "      <th>maturity</th>\n",
       "      <th>exp_2015</th>\n",
       "      <th>exp_2016</th>\n",
       "      <th>exp_2017</th>\n",
       "      <th>exp_2018</th>\n",
       "      <th>exp_2019</th>\n",
       "      <th>exp_2020</th>\n",
       "      <th>exp_2021</th>\n",
       "      <th>exp_2022</th>\n",
       "    </tr>\n",
       "  </thead>\n",
       "  <tbody>\n",
       "    <tr>\n",
       "      <th>0</th>\n",
       "      <td>2230446</td>\n",
       "      <td>2015-01-04</td>\n",
       "      <td>2015-07-03</td>\n",
       "      <td>6</td>\n",
       "      <td>0.4932</td>\n",
       "      <td>0.0000</td>\n",
       "      <td>0.0000</td>\n",
       "      <td>0.0000</td>\n",
       "      <td>0.0000</td>\n",
       "      <td>0.0000</td>\n",
       "      <td>0.0000</td>\n",
       "      <td>0.0000</td>\n",
       "    </tr>\n",
       "    <tr>\n",
       "      <th>1</th>\n",
       "      <td>2230447</td>\n",
       "      <td>2015-01-02</td>\n",
       "      <td>2015-07-01</td>\n",
       "      <td>6</td>\n",
       "      <td>0.4932</td>\n",
       "      <td>0.0000</td>\n",
       "      <td>0.0000</td>\n",
       "      <td>0.0000</td>\n",
       "      <td>0.0000</td>\n",
       "      <td>0.0000</td>\n",
       "      <td>0.0000</td>\n",
       "      <td>0.0000</td>\n",
       "    </tr>\n",
       "    <tr>\n",
       "      <th>2</th>\n",
       "      <td>2230448</td>\n",
       "      <td>2015-01-04</td>\n",
       "      <td>2016-01-03</td>\n",
       "      <td>12</td>\n",
       "      <td>0.9890</td>\n",
       "      <td>0.0000</td>\n",
       "      <td>0.0000</td>\n",
       "      <td>0.0000</td>\n",
       "      <td>0.0000</td>\n",
       "      <td>0.0000</td>\n",
       "      <td>0.0000</td>\n",
       "      <td>0.0000</td>\n",
       "    </tr>\n",
       "    <tr>\n",
       "      <th>3</th>\n",
       "      <td>2230449</td>\n",
       "      <td>2015-01-19</td>\n",
       "      <td>2016-01-18</td>\n",
       "      <td>12</td>\n",
       "      <td>0.9479</td>\n",
       "      <td>0.0000</td>\n",
       "      <td>0.0000</td>\n",
       "      <td>0.0000</td>\n",
       "      <td>0.0000</td>\n",
       "      <td>0.0000</td>\n",
       "      <td>0.0000</td>\n",
       "      <td>0.0000</td>\n",
       "    </tr>\n",
       "    <tr>\n",
       "      <th>4</th>\n",
       "      <td>2230450</td>\n",
       "      <td>2015-01-02</td>\n",
       "      <td>2016-01-01</td>\n",
       "      <td>12</td>\n",
       "      <td>0.9945</td>\n",
       "      <td>0.0000</td>\n",
       "      <td>0.0000</td>\n",
       "      <td>0.0000</td>\n",
       "      <td>0.0000</td>\n",
       "      <td>0.0000</td>\n",
       "      <td>0.0000</td>\n",
       "      <td>0.0000</td>\n",
       "    </tr>\n",
       "  </tbody>\n",
       "</table>\n",
       "</div>"
      ],
      "text/plain": [
       "   idPolita   dataStart     dataEnd  maturity exp_2015 exp_2016 exp_2017  \\\n",
       "0   2230446  2015-01-04  2015-07-03         6   0.4932   0.0000   0.0000   \n",
       "1   2230447  2015-01-02  2015-07-01         6   0.4932   0.0000   0.0000   \n",
       "2   2230448  2015-01-04  2016-01-03        12   0.9890   0.0000   0.0000   \n",
       "3   2230449  2015-01-19  2016-01-18        12   0.9479   0.0000   0.0000   \n",
       "4   2230450  2015-01-02  2016-01-01        12   0.9945   0.0000   0.0000   \n",
       "\n",
       "  exp_2018 exp_2019 exp_2020 exp_2021 exp_2022  \n",
       "0   0.0000   0.0000   0.0000   0.0000   0.0000  \n",
       "1   0.0000   0.0000   0.0000   0.0000   0.0000  \n",
       "2   0.0000   0.0000   0.0000   0.0000   0.0000  \n",
       "3   0.0000   0.0000   0.0000   0.0000   0.0000  \n",
       "4   0.0000   0.0000   0.0000   0.0000   0.0000  "
      ]
     },
     "execution_count": 4,
     "metadata": {},
     "output_type": "execute_result"
    }
   ],
   "source": [
    "exp.head()"
   ]
  },
  {
   "cell_type": "code",
   "execution_count": 5,
   "metadata": {},
   "outputs": [
    {
     "data": {
      "text/html": [
       "<div>\n",
       "<style scoped>\n",
       "    .dataframe tbody tr th:only-of-type {\n",
       "        vertical-align: middle;\n",
       "    }\n",
       "\n",
       "    .dataframe tbody tr th {\n",
       "        vertical-align: top;\n",
       "    }\n",
       "\n",
       "    .dataframe thead th {\n",
       "        text-align: right;\n",
       "    }\n",
       "</style>\n",
       "<table border=\"1\" class=\"dataframe\">\n",
       "  <thead>\n",
       "    <tr style=\"text-align: right;\">\n",
       "      <th></th>\n",
       "      <th>idPolita</th>\n",
       "      <th>dataStart</th>\n",
       "      <th>dataEnd</th>\n",
       "      <th>maturity</th>\n",
       "      <th>exp_2015</th>\n",
       "      <th>exp_2016</th>\n",
       "      <th>exp_2017</th>\n",
       "      <th>exp_2018</th>\n",
       "      <th>exp_2019</th>\n",
       "      <th>exp_2020</th>\n",
       "      <th>exp_2021</th>\n",
       "      <th>exp_2022</th>\n",
       "    </tr>\n",
       "  </thead>\n",
       "  <tbody>\n",
       "  </tbody>\n",
       "</table>\n",
       "</div>"
      ],
      "text/plain": [
       "Empty DataFrame\n",
       "Columns: [idPolita, dataStart, dataEnd, maturity, exp_2015, exp_2016, exp_2017, exp_2018, exp_2019, exp_2020, exp_2021, exp_2022]\n",
       "Index: []"
      ]
     },
     "execution_count": 5,
     "metadata": {},
     "output_type": "execute_result"
    }
   ],
   "source": [
    "# check whether there are only policies from 2015 onwards\n",
    "exp[exp.idPolita < 2230446]"
   ]
  },
  {
   "cell_type": "code",
   "execution_count": 6,
   "metadata": {},
   "outputs": [
    {
     "name": "stdout",
     "output_type": "stream",
     "text": [
      "Number of duplicates 5\n",
      "Number of nans \n",
      " idPolita     0\n",
      "dataStart    0\n",
      "dataEnd      0\n",
      "maturity     0\n",
      "exp_2015     0\n",
      "exp_2016     0\n",
      "exp_2017     0\n",
      "exp_2018     0\n",
      "exp_2019     0\n",
      "exp_2020     0\n",
      "exp_2021     0\n",
      "exp_2022     0\n",
      "dtype: int64\n"
     ]
    }
   ],
   "source": [
    "print('Number of duplicates',exp.duplicated().sum())\n",
    "print('Number of nans \\n', exp.isnull().sum())"
   ]
  }
 ],
 "metadata": {
  "kernelspec": {
   "display_name": "Python 3",
   "language": "python",
   "name": "python3"
  },
  "language_info": {
   "codemirror_mode": {
    "name": "ipython",
    "version": 3
   },
   "file_extension": ".py",
   "mimetype": "text/x-python",
   "name": "python",
   "nbconvert_exporter": "python",
   "pygments_lexer": "ipython3",
   "version": "3.10.6"
  },
  "orig_nbformat": 4,
  "vscode": {
   "interpreter": {
    "hash": "916dbcbb3f70747c44a77c7bcd40155683ae19c65e1c03b4aa3499c5328201f1"
   }
  }
 },
 "nbformat": 4,
 "nbformat_minor": 2
}
