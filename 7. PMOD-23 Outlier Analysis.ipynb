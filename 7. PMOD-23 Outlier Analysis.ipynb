{
 "cells": [
  {
   "cell_type": "code",
   "execution_count": 1,
   "metadata": {},
   "outputs": [],
   "source": [
    "import pandas as pd\n",
    "import numpy as np\n",
    "\n",
    "import matplotlib.pyplot as plt\n",
    "import seaborn as sns\n",
    "\n",
    "import random \n",
    "from fitter import Fitter\n",
    "\n",
    "from settings import Config\n",
    "from mysql_db import Database\n",
    "import pdcast as pdc\n",
    "import s3_upload_download as s3con\n",
    "\n",
    "from sklearn.ensemble import IsolationForest\n",
    "from sklearn.neighbors import LocalOutlierFactor\n",
    "from sklearn.covariance import EllipticEnvelope\n",
    "\n",
    "import scipy\n",
    "from scipy import stats\n",
    "from scipy.stats import gamma, lognorm\n",
    "\n",
    "from patsy import dmatrices\n",
    "\n",
    "import statsmodels.api as sm\n",
    "from statsmodels.formula.api import glm\n",
    "from statsmodels.graphics.api import abline_plot\n",
    "\n",
    "import os\n"
   ]
  },
  {
   "attachments": {},
   "cell_type": "markdown",
   "metadata": {},
   "source": [
    "# NOTEBOOK DESCRIPTION: \n",
    "\n",
    "During the EDA process, it was revealed that claim severity (i.e. claim values in RON) may have a substantial number of outliers. The aim of this notebook is to investigate these outliers and, if deemed necessary, remove them.\n",
    "\n",
    "Steps:\n",
    "1. For both PF (individual persons) and PJ (legal persons) separate the claims with material damage from those with bodily harm, as the latter are noticeably higher and should be investigated separately.\n",
    "2. Identify which distribution fist the data best, for each of the above. Type of distribution affects how outliers are identified and removed.\n",
    "3. Identify and remove outliers using multiple methods."
   ]
  },
  {
   "cell_type": "code",
   "execution_count": 2,
   "metadata": {},
   "outputs": [],
   "source": [
    "# initialise the s3_connector object needed to read/write files into an S3 bucket\n",
    "s3con = s3con.s3_connector()"
   ]
  },
  {
   "cell_type": "code",
   "execution_count": 3,
   "metadata": {},
   "outputs": [],
   "source": [
    "# to prevent displaying results in scientific notation\n",
    "pd.options.display.float_format = '{:.2f}'.format"
   ]
  },
  {
   "attachments": {},
   "cell_type": "markdown",
   "metadata": {},
   "source": [
    "## Separate material damage from bodily harm"
   ]
  },
  {
   "attachments": {},
   "cell_type": "markdown",
   "metadata": {},
   "source": [
    "First create the 2 complete tables, one for PF and one for PJ, with all the data needed for the modeling."
   ]
  },
  {
   "cell_type": "code",
   "execution_count": 4,
   "metadata": {},
   "outputs": [],
   "source": [
    "# load tables\n",
    "cars_pf = s3con.read('autoturisme_pf.feather')\n",
    "cars_pj = s3con.read('autoturisme_pj.feather')\n",
    "\n",
    "sev = s3con.read('claims_vals.feather')\n",
    "sev = (sev\n",
    "        .filter(items = ['idPolita', 'tipEveniment', 'idEvent', 'total_val'])\n",
    "        .replace({'Pagube materiale':'mat', 'Vatamari corporale/deces, inclusive pentru prejudi':'vat'})\n",
    "        )"
   ]
  },
  {
   "cell_type": "code",
   "execution_count": 5,
   "metadata": {},
   "outputs": [],
   "source": [
    "# PHASE 1, select only those belonging to personal cars\n",
    "sev_pf = sev[sev.idPolita.isin(cars_pf.idPolita.values)].copy()\n",
    "sev_pj = sev[sev.idPolita.isin(cars_pj.idPolita.values)].copy()\n",
    "del cars_pf, cars_pj\n",
    "\n",
    "# calculate total sums at this point, to make sure that values won't be lost during the table wrangling\n",
    "P1_pf_total = sev_pf.total_val.sum()\n",
    "P1_pj_total = sev_pj.total_val.sum()"
   ]
  },
  {
   "cell_type": "code",
   "execution_count": 6,
   "metadata": {},
   "outputs": [
    {
     "data": {
      "text/html": [
       "<div>\n",
       "<style scoped>\n",
       "    .dataframe tbody tr th:only-of-type {\n",
       "        vertical-align: middle;\n",
       "    }\n",
       "\n",
       "    .dataframe tbody tr th {\n",
       "        vertical-align: top;\n",
       "    }\n",
       "\n",
       "    .dataframe thead th {\n",
       "        text-align: right;\n",
       "    }\n",
       "</style>\n",
       "<table border=\"1\" class=\"dataframe\">\n",
       "  <thead>\n",
       "    <tr style=\"text-align: right;\">\n",
       "      <th></th>\n",
       "      <th></th>\n",
       "      <th>total_val</th>\n",
       "    </tr>\n",
       "    <tr>\n",
       "      <th>idEvent</th>\n",
       "      <th>tipEveniment</th>\n",
       "      <th></th>\n",
       "    </tr>\n",
       "  </thead>\n",
       "  <tbody>\n",
       "    <tr>\n",
       "      <th rowspan=\"2\" valign=\"top\">100001972018-12-02</th>\n",
       "      <th>mat</th>\n",
       "      <td>10815.00</td>\n",
       "    </tr>\n",
       "    <tr>\n",
       "      <th>vat</th>\n",
       "      <td>0.00</td>\n",
       "    </tr>\n",
       "    <tr>\n",
       "      <th rowspan=\"2\" valign=\"top\">100004462018-10-08</th>\n",
       "      <th>mat</th>\n",
       "      <td>2635.00</td>\n",
       "    </tr>\n",
       "    <tr>\n",
       "      <th>vat</th>\n",
       "      <td>0.00</td>\n",
       "    </tr>\n",
       "    <tr>\n",
       "      <th>100005852018-07-07</th>\n",
       "      <th>mat</th>\n",
       "      <td>9255.00</td>\n",
       "    </tr>\n",
       "  </tbody>\n",
       "</table>\n",
       "</div>"
      ],
      "text/plain": [
       "                                 total_val\n",
       "idEvent            tipEveniment           \n",
       "100001972018-12-02 mat            10815.00\n",
       "                   vat                0.00\n",
       "100004462018-10-08 mat             2635.00\n",
       "                   vat                0.00\n",
       "100005852018-07-07 mat             9255.00"
      ]
     },
     "execution_count": 6,
     "metadata": {},
     "output_type": "execute_result"
    }
   ],
   "source": [
    "# PHASE 2, aggregate data based on idEvent and event type\n",
    "agg_pf = sev_pf.groupby(['idEvent', 'tipEveniment']).agg({'total_val': 'sum'})\n",
    "agg_pj = sev_pj.groupby(['idEvent', 'tipEveniment']).agg({'total_val': 'sum'})\n",
    "del sev_pf, sev_pj\n",
    "\n",
    "# calculate total sums at this point\n",
    "P2_pf_total = agg_pf.total_val.sum()\n",
    "P2_pj_total = agg_pj.total_val.sum()\n",
    "\n",
    "agg_pf.head()"
   ]
  },
  {
   "cell_type": "code",
   "execution_count": 7,
   "metadata": {},
   "outputs": [],
   "source": [
    "7# PHASE 3, aggregating on both columns creates vat rows with 0 value (where there were no vat values), and vice versa\n",
    "# these 0 values can be dropped\n",
    "# I will reset the index so that I may use the idEvent as a column\n",
    "\n",
    "agg_pf.drop(agg_pf.query(\"total_val == 0\").index, axis = 0 , inplace = True)\n",
    "agg_pf.reset_index(inplace = True, drop = False)\n",
    "\n",
    "agg_pj.drop(agg_pj.query(\"total_val == 0\").index, axis = 0 , inplace = True)\n",
    "agg_pj.reset_index(inplace = True, drop = False)"
   ]
  },
  {
   "cell_type": "code",
   "execution_count": 8,
   "metadata": {},
   "outputs": [
    {
     "data": {
      "text/html": [
       "<div>\n",
       "<style scoped>\n",
       "    .dataframe tbody tr th:only-of-type {\n",
       "        vertical-align: middle;\n",
       "    }\n",
       "\n",
       "    .dataframe tbody tr th {\n",
       "        vertical-align: top;\n",
       "    }\n",
       "\n",
       "    .dataframe thead th {\n",
       "        text-align: right;\n",
       "    }\n",
       "</style>\n",
       "<table border=\"1\" class=\"dataframe\">\n",
       "  <thead>\n",
       "    <tr style=\"text-align: right;\">\n",
       "      <th></th>\n",
       "      <th>idEvent</th>\n",
       "      <th>tipEveniment</th>\n",
       "      <th>total_val</th>\n",
       "    </tr>\n",
       "  </thead>\n",
       "  <tbody>\n",
       "    <tr>\n",
       "      <th>75</th>\n",
       "      <td>100056992018-09-05</td>\n",
       "      <td>mat</td>\n",
       "      <td>13650.00</td>\n",
       "    </tr>\n",
       "    <tr>\n",
       "      <th>76</th>\n",
       "      <td>100056992018-09-05</td>\n",
       "      <td>vat</td>\n",
       "      <td>15000.00</td>\n",
       "    </tr>\n",
       "  </tbody>\n",
       "</table>\n",
       "</div>"
      ],
      "text/plain": [
       "               idEvent tipEveniment  total_val\n",
       "75  100056992018-09-05          mat   13650.00\n",
       "76  100056992018-09-05          vat   15000.00"
      ]
     },
     "execution_count": 8,
     "metadata": {},
     "output_type": "execute_result"
    }
   ],
   "source": [
    "# example of event ID known to have both vat and mat claims\n",
    "agg_pf.query(\"idEvent == '100056992018-09-05'\")"
   ]
  },
  {
   "cell_type": "code",
   "execution_count": 9,
   "metadata": {},
   "outputs": [],
   "source": [
    "# PHASE 4, identify the events with both vat and mat claims, and create and index for them to be used later on\n",
    "ind_df_pf = agg_pf[agg_pf.idEvent.isin(agg_pf[agg_pf['idEvent'].duplicated()].idEvent.to_list())].copy()\n",
    "index_pf = ind_df_pf.index\n",
    "\n",
    "ind_df_pj = agg_pj[agg_pj.idEvent.isin(agg_pj[agg_pj['idEvent'].duplicated()].idEvent.to_list())].copy()\n",
    "index_pj = ind_df_pj.index"
   ]
  },
  {
   "cell_type": "code",
   "execution_count": 10,
   "metadata": {},
   "outputs": [],
   "source": [
    "# PHASE 5, using these indices, replace all values in the tipEveniment with vat\n",
    "# NOTE: The severity modeling is done on unique events, which means different claims for the same event must be\n",
    "# summed together; for events with both type of claims, the team has agreed that all such claims will be treated as VAT\n",
    "\n",
    "agg_pf.loc[index_pf,'tipEveniment'] = 'vat'\n",
    "agg_pf.loc[index_pj,'tipEveniment'] = 'vat'\n",
    "\n",
    "# calculate total sums at this point\n",
    "P5_pf_total = agg_pf.total_val.sum()\n",
    "P5_pj_total = agg_pj.total_val.sum()\n"
   ]
  },
  {
   "cell_type": "code",
   "execution_count": 11,
   "metadata": {},
   "outputs": [
    {
     "data": {
      "text/html": [
       "<div>\n",
       "<style scoped>\n",
       "    .dataframe tbody tr th:only-of-type {\n",
       "        vertical-align: middle;\n",
       "    }\n",
       "\n",
       "    .dataframe tbody tr th {\n",
       "        vertical-align: top;\n",
       "    }\n",
       "\n",
       "    .dataframe thead th {\n",
       "        text-align: right;\n",
       "    }\n",
       "</style>\n",
       "<table border=\"1\" class=\"dataframe\">\n",
       "  <thead>\n",
       "    <tr style=\"text-align: right;\">\n",
       "      <th></th>\n",
       "      <th>idEvent</th>\n",
       "      <th>tipEveniment</th>\n",
       "      <th>total_val</th>\n",
       "    </tr>\n",
       "  </thead>\n",
       "  <tbody>\n",
       "    <tr>\n",
       "      <th>75</th>\n",
       "      <td>100056992018-09-05</td>\n",
       "      <td>vat</td>\n",
       "      <td>13650.00</td>\n",
       "    </tr>\n",
       "    <tr>\n",
       "      <th>76</th>\n",
       "      <td>100056992018-09-05</td>\n",
       "      <td>vat</td>\n",
       "      <td>15000.00</td>\n",
       "    </tr>\n",
       "  </tbody>\n",
       "</table>\n",
       "</div>"
      ],
      "text/plain": [
       "               idEvent tipEveniment  total_val\n",
       "75  100056992018-09-05          vat   13650.00\n",
       "76  100056992018-09-05          vat   15000.00"
      ]
     },
     "execution_count": 11,
     "metadata": {},
     "output_type": "execute_result"
    }
   ],
   "source": [
    "# example of event ID known to have previously included both vat and mat\n",
    "agg_pf.query(\"idEvent == '100056992018-09-05'\")"
   ]
  },
  {
   "cell_type": "code",
   "execution_count": 12,
   "metadata": {},
   "outputs": [
    {
     "name": "stdout",
     "output_type": "stream",
     "text": [
      "PF Duplicates in MAT:  0\n",
      "PF Duplicates in VAT:  3589\n",
      "******************************\n",
      "PJ Duplicates in MAT:  0\n",
      "PJ Duplicates in VAT:  0\n"
     ]
    }
   ],
   "source": [
    "# MAT / VAT split\n",
    "pf_mat = agg_pf.query(\"tipEveniment == 'mat'\").filter(items = ['idEvent', 'total_val'])\n",
    "pf_vat = agg_pf.query(\"tipEveniment == 'vat'\").filter(items = ['idEvent', 'total_val'])\n",
    "\n",
    "pj_mat = agg_pj.query(\"tipEveniment == 'mat'\").filter(items = ['idEvent', 'total_val'])\n",
    "pj_vat = agg_pj.query(\"tipEveniment == 'vat'\").filter(items = ['idEvent', 'total_val'])\n",
    "\n",
    "del agg_pf, agg_pj\n",
    "\n",
    "print('PF Duplicates in MAT: ', pf_mat.idEvent.duplicated().sum())\n",
    "print('PF Duplicates in VAT: ', pf_vat.idEvent.duplicated().sum())\n",
    "print('*'*30)\n",
    "print('PJ Duplicates in MAT: ', pj_mat.idEvent.duplicated().sum())\n",
    "print('PJ Duplicates in VAT: ', pj_vat.idEvent.duplicated().sum())"
   ]
  },
  {
   "cell_type": "code",
   "execution_count": 13,
   "metadata": {},
   "outputs": [
    {
     "name": "stdout",
     "output_type": "stream",
     "text": [
      "PF VAT duplicates:  0\n",
      "PJ VAT duplicates:  0\n"
     ]
    }
   ],
   "source": [
    "# VAT has duplicates as expected, due to events with both VAT and MAT having had their MAT claims converted to VAT\n",
    "# group by on idEvent and sum up the values\n",
    "\n",
    "pf_vat = pf_vat.groupby('idEvent')['total_val'].sum().to_frame()\n",
    "pf_vat.reset_index(drop = False, inplace = True)\n",
    "\n",
    "pj_vat = pj_vat.groupby('idEvent')['total_val'].sum().to_frame()\n",
    "pj_vat.reset_index(drop = False, inplace = True)\n",
    "\n",
    "# calculate final sums\n",
    "FINAL_pf_total = pf_mat.total_val.sum() + pf_vat.total_val.sum()\n",
    "FINAL_pj_total = pj_mat.total_val.sum() + pj_vat.total_val.sum()\n",
    "\n",
    "print('PF VAT duplicates: ', pf_vat.idEvent.duplicated().sum())\n",
    "print('PJ VAT duplicates: ', pj_vat.idEvent.duplicated().sum())"
   ]
  },
  {
   "cell_type": "code",
   "execution_count": 14,
   "metadata": {},
   "outputs": [
    {
     "name": "stdout",
     "output_type": "stream",
     "text": [
      "PF progression: 3857980200.2519183 -> 3857980200.2519183 -> 3857980200.2519183 -> 3857980200.2519183\n",
      "PJ progression: 489909388.6033907 -> 489909388.6033907 -> 489909388.6033907 -> 489909388.6033907\n"
     ]
    }
   ],
   "source": [
    "# check if the total value of the claims has remained unchanged\n",
    "print(f'PF progression: {P1_pf_total} -> {P2_pf_total} -> {P5_pf_total} -> {FINAL_pf_total}')\n",
    "print(f'PJ progression: {P1_pj_total} -> {P2_pj_total} -> {P5_pj_total} -> {FINAL_pj_total}')"
   ]
  },
  {
   "attachments": {},
   "cell_type": "markdown",
   "metadata": {},
   "source": [
    "The amounts have remained unchanged!"
   ]
  },
  {
   "cell_type": "code",
   "execution_count": 15,
   "metadata": {},
   "outputs": [],
   "source": [
    "# finally, add the policy IDs (idPolita) from the original tables\n",
    "pf_mat = pf_mat.merge(sev[['idPolita', 'idEvent']], on = 'idEvent', how = 'left')\n",
    "pf_mat.drop_duplicates(inplace = True, ignore_index = True)\n",
    "pf_vat = pf_vat.merge(sev[['idPolita', 'idEvent']], on = 'idEvent', how = 'left')\n",
    "pf_vat.drop_duplicates(inplace = True, ignore_index = True)\n",
    "\n",
    "pj_mat = pj_mat.merge(sev[['idPolita', 'idEvent']], on = 'idEvent', how = 'left')\n",
    "pj_mat.drop_duplicates(inplace = True, ignore_index = True)\n",
    "pj_vat = pj_vat.merge(sev[['idPolita', 'idEvent']], on = 'idEvent', how = 'left')\n",
    "pj_vat.drop_duplicates(inplace = True, ignore_index = True)\n"
   ]
  },
  {
   "attachments": {},
   "cell_type": "markdown",
   "metadata": {},
   "source": [
    "NOTE: negative claim values are possible, representing a claim being initially allocated bigger rezerves than necessary. If the allocated sum, after subttracting the the actual costs of the claims, is still bigger than the actual cost, then the final value will be negative. \n",
    "\n",
    "Although theoretically possible, these negative values are mathematically problematic when fiting a distribution. As such, NEGATIVE VALUES WILL BE DROPPED."
   ]
  },
  {
   "cell_type": "code",
   "execution_count": 16,
   "metadata": {},
   "outputs": [],
   "source": [
    "pf_mat = pf_mat.query(\"total_val > 0\")\n",
    "pf_vat = pf_vat.query(\"total_val > 0\")\n",
    "\n",
    "pj_mat = pj_mat.query(\"total_val > 0\")\n",
    "pj_mat = pj_vat.query(\"total_val > 0\")"
   ]
  },
  {
   "attachments": {},
   "cell_type": "markdown",
   "metadata": {},
   "source": [
    "## Identify the distribution of the data\n",
    "\n",
    "Outliers will be identified and removed based on how much their removal improves the goodness of fit. Therefore, identifying the best distribution is a crucial first step."
   ]
  },
  {
   "cell_type": "code",
   "execution_count": 17,
   "metadata": {},
   "outputs": [
    {
     "data": {
      "image/png": "[encoded data removed]",
      "text/plain": [
       "<Figure size 500x500 with 1 Axes>"
      ]
     },
     "metadata": {},
     "output_type": "display_data"
    }
   ],
   "source": [
    "# quick plot of the distribution of material claims\n",
    "\n",
    "fig = sns.displot(pf_mat, x = 'total_val')\n",
    "fig.set(xlim = (0, 100000))\n",
    "fig.set(ylim = (0, 10000))\n",
    "plt.title('Distribution of Material Claim values for Individual Persons');"
   ]
  },
  {
   "attachments": {},
   "cell_type": "markdown",
   "metadata": {},
   "source": [
    "The shape is suggestive of the exponential distribution. This is in line with the expectations regarding the distribution of claim severity.\n",
    "\n",
    "There are several subtypes of the exponential distribution that are used in actuarial investigations of severity:\n",
    "1. Gamma\n",
    "2. Log-normal \n",
    "3. Weibull\n",
    "4. Inverse Gaussian "
   ]
  },
  {
   "attachments": {},
   "cell_type": "markdown",
   "metadata": {},
   "source": [
    "### PF Mat"
   ]
  },
  {
   "cell_type": "code",
   "execution_count": 18,
   "metadata": {},
   "outputs": [
    {
     "name": "stderr",
     "output_type": "stream",
     "text": [
      "Fitting 4 distributions:   0%|          | 0/4 [00:00<?, ?it/s]WARNING:root:SKIPPED weibull distribution (taking more than 30 seconds)\n",
      "Fitting 4 distributions: 100%|██████████| 4/4 [00:08<00:00,  2.01s/it]\n",
      "WARNING:fitter.fitter:weibull was not fitted. no parameters available\n"
     ]
    },
    {
     "data": {
      "text/html": [
       "<div>\n",
       "<style scoped>\n",
       "    .dataframe tbody tr th:only-of-type {\n",
       "        vertical-align: middle;\n",
       "    }\n",
       "\n",
       "    .dataframe tbody tr th {\n",
       "        vertical-align: top;\n",
       "    }\n",
       "\n",
       "    .dataframe thead th {\n",
       "        text-align: right;\n",
       "    }\n",
       "</style>\n",
       "<table border=\"1\" class=\"dataframe\">\n",
       "  <thead>\n",
       "    <tr style=\"text-align: right;\">\n",
       "      <th></th>\n",
       "      <th>sumsquare_error</th>\n",
       "      <th>aic</th>\n",
       "      <th>bic</th>\n",
       "      <th>kl_div</th>\n",
       "      <th>ks_statistic</th>\n",
       "      <th>ks_pvalue</th>\n",
       "    </tr>\n",
       "  </thead>\n",
       "  <tbody>\n",
       "    <tr>\n",
       "      <th>invgauss</th>\n",
       "      <td>0.00</td>\n",
       "      <td>34063.04</td>\n",
       "      <td>-14949994.86</td>\n",
       "      <td>inf</td>\n",
       "      <td>0.03</td>\n",
       "      <td>0.00</td>\n",
       "    </tr>\n",
       "    <tr>\n",
       "      <th>lognorm</th>\n",
       "      <td>0.00</td>\n",
       "      <td>7291.29</td>\n",
       "      <td>-14925275.85</td>\n",
       "      <td>inf</td>\n",
       "      <td>0.03</td>\n",
       "      <td>0.00</td>\n",
       "    </tr>\n",
       "    <tr>\n",
       "      <th>gamma</th>\n",
       "      <td>0.00</td>\n",
       "      <td>inf</td>\n",
       "      <td>-14872433.08</td>\n",
       "      <td>NaN</td>\n",
       "      <td>1.00</td>\n",
       "      <td>0.00</td>\n",
       "    </tr>\n",
       "    <tr>\n",
       "      <th>weibull</th>\n",
       "      <td>inf</td>\n",
       "      <td>inf</td>\n",
       "      <td>inf</td>\n",
       "      <td>inf</td>\n",
       "      <td>NaN</td>\n",
       "      <td>NaN</td>\n",
       "    </tr>\n",
       "  </tbody>\n",
       "</table>\n",
       "</div>"
      ],
      "text/plain": [
       "          sumsquare_error      aic          bic  kl_div  ks_statistic  \\\n",
       "invgauss             0.00 34063.04 -14949994.86     inf          0.03   \n",
       "lognorm              0.00  7291.29 -14925275.85     inf          0.03   \n",
       "gamma                0.00      inf -14872433.08     NaN          1.00   \n",
       "weibull               inf      inf          inf     inf           NaN   \n",
       "\n",
       "          ks_pvalue  \n",
       "invgauss       0.00  \n",
       "lognorm        0.00  \n",
       "gamma          0.00  \n",
       "weibull         NaN  "
      ]
     },
     "execution_count": 18,
     "metadata": {},
     "output_type": "execute_result"
    },
    {
     "data": {
      "image/png": "[encoded data removed]",
      "text/plain": [
       "<Figure size 640x480 with 1 Axes>"
      ]
     },
     "metadata": {},
     "output_type": "display_data"
    }
   ],
   "source": [
    "# use the Fitter (library) to identify which of the above 4 is the best\n",
    "f = Fitter(pf_mat.total_val, distributions = ['gamma', 'lognorm', 'weibull', 'invgauss']) \n",
    "f.fit()\n",
    "f.summary()"
   ]
  },
  {
   "attachments": {},
   "cell_type": "markdown",
   "metadata": {},
   "source": [
    "Log-normal appears to be the best fit, having a small sum of squared errors, the smallest AIC (Akaike Information Criterion) value, and the highest Kolmogorov-Smirnov statistic. "
   ]
  },
  {
   "attachments": {},
   "cell_type": "markdown",
   "metadata": {},
   "source": [
    "First, a mored in depth investigation of the goodness of fit of the data (WITH OUTLIERS), i.e. how closely it ressembles the log-normal. "
   ]
  },
  {
   "cell_type": "code",
   "execution_count": 19,
   "metadata": {},
   "outputs": [
    {
     "data": {
      "text/html": [
       "<table class=\"simpletable\">\n",
       "<caption>Generalized Linear Model Regression Results</caption>\n",
       "<tr>\n",
       "  <th>Dep. Variable:</th>     <td>log_total_val</td>  <th>  No. Observations:  </th>   <td>417730</td>   \n",
       "</tr>\n",
       "<tr>\n",
       "  <th>Model:</th>                  <td>GLM</td>       <th>  Df Residuals:      </th>   <td>417729</td>   \n",
       "</tr>\n",
       "<tr>\n",
       "  <th>Model Family:</th>        <td>Gaussian</td>     <th>  Df Model:          </th>   <td>     0</td>   \n",
       "</tr>\n",
       "<tr>\n",
       "  <th>Link Function:</th>       <td>identity</td>     <th>  Scale:             </th>  <td>  1.1057</td>  \n",
       "</tr>\n",
       "<tr>\n",
       "  <th>Method:</th>                <td>IRLS</td>       <th>  Log-Likelihood:    </th> <td>-6.1371e+05</td>\n",
       "</tr>\n",
       "<tr>\n",
       "  <th>Date:</th>            <td>Wed, 08 Feb 2023</td> <th>  Deviance:          </th> <td>4.6187e+05</td> \n",
       "</tr>\n",
       "<tr>\n",
       "  <th>Time:</th>                <td>09:52:27</td>     <th>  Pearson chi2:      </th>  <td>4.62e+05</td>  \n",
       "</tr>\n",
       "<tr>\n",
       "  <th>No. Iterations:</th>          <td>3</td>        <th>  Pseudo R-squ. (CS):</th>  <td>2.864e-12</td> \n",
       "</tr>\n",
       "<tr>\n",
       "  <th>Covariance Type:</th>     <td>nonrobust</td>    <th>                     </th>      <td> </td>     \n",
       "</tr>\n",
       "</table>\n",
       "<table class=\"simpletable\">\n",
       "<tr>\n",
       "      <td></td>         <th>coef</th>     <th>std err</th>      <th>z</th>      <th>P>|z|</th>  <th>[0.025</th>    <th>0.975]</th>  \n",
       "</tr>\n",
       "<tr>\n",
       "  <th>Intercept</th> <td>    8.2723</td> <td>    0.002</td> <td> 5084.627</td> <td> 0.000</td> <td>    8.269</td> <td>    8.275</td>\n",
       "</tr>\n",
       "</table>"
      ],
      "text/plain": [
       "<class 'statsmodels.iolib.summary.Summary'>\n",
       "\"\"\"\n",
       "                 Generalized Linear Model Regression Results                  \n",
       "==============================================================================\n",
       "Dep. Variable:          log_total_val   No. Observations:               417730\n",
       "Model:                            GLM   Df Residuals:                   417729\n",
       "Model Family:                Gaussian   Df Model:                            0\n",
       "Link Function:               identity   Scale:                          1.1057\n",
       "Method:                          IRLS   Log-Likelihood:            -6.1371e+05\n",
       "Date:                Wed, 08 Feb 2023   Deviance:                   4.6187e+05\n",
       "Time:                        09:52:27   Pearson chi2:                 4.62e+05\n",
       "No. Iterations:                     3   Pseudo R-squ. (CS):          2.864e-12\n",
       "Covariance Type:            nonrobust                                         \n",
       "==============================================================================\n",
       "                 coef    std err          z      P>|z|      [0.025      0.975]\n",
       "------------------------------------------------------------------------------\n",
       "Intercept      8.2723      0.002   5084.627      0.000       8.269       8.275\n",
       "==============================================================================\n",
       "\"\"\""
      ]
     },
     "execution_count": 19,
     "metadata": {},
     "output_type": "execute_result"
    }
   ],
   "source": [
    "# Statsmodels does not have Log-normal as a family, as such I will use the Gaussian family and\n",
    "# will log transform the claim values column\n",
    "\n",
    "pf_mat = pf_mat.assign(log_total_val = np.log(pf_mat.total_val))\n",
    "\n",
    "patsy_null = 'log_total_val ~ 1'  # fitting the base model, no predictors just the target values\n",
    "model_with_outliers = glm(patsy_null, data = pf_mat, family = sm.families.Gaussian()).fit()\n",
    "\n",
    "model_with_outliers.summary()"
   ]
  },
  {
   "cell_type": "code",
   "execution_count": 20,
   "metadata": {},
   "outputs": [
    {
     "data": {
      "text/plain": [
       "1227430.0419695666"
      ]
     },
     "execution_count": 20,
     "metadata": {},
     "output_type": "execute_result"
    }
   ],
   "source": [
    "model_with_outliers.aic"
   ]
  },
  {
   "attachments": {},
   "cell_type": "markdown",
   "metadata": {},
   "source": [
    "Now that there is a BASELINE goodness of fit with all data, I can begin to remove outliers and consider whether their removal makes improvements.\n",
    "\n",
    "I will first manually remove some 'obvious' outliers, by this I mean values with a probability of happening less than 0.5% (this is a benchmark used by actuaries).\n",
    "\n"
   ]
  },
  {
   "cell_type": "code",
   "execution_count": 21,
   "metadata": {},
   "outputs": [
    {
     "data": {
      "text/plain": [
       "count    417730.00\n",
       "mean       7286.88\n",
       "std       20498.76\n",
       "min           1.00\n",
       "25%        1849.00\n",
       "50%        3743.00\n",
       "75%        7745.00\n",
       "max     8293198.96\n",
       "Name: total_val, dtype: float64"
      ]
     },
     "execution_count": 21,
     "metadata": {},
     "output_type": "execute_result"
    }
   ],
   "source": [
    "pf_mat.total_val.describe()"
   ]
  },
  {
   "cell_type": "code",
   "execution_count": 52,
   "metadata": {},
   "outputs": [],
   "source": [
    "# bin claim values into multiple categories\n",
    "bins = list(range(0, 100000, 10000)) \n",
    "labels = [str(bins[i])+'_'+ str(bins[i+1]) for i in range(0, len(bins)-1)]\n",
    "pf_mat['val_cat'] = pd.cut(x = pf_mat.total_val, bins = bins, labels = labels, include_lowest = True)"
   ]
  },
  {
   "cell_type": "code",
   "execution_count": 53,
   "metadata": {},
   "outputs": [
    {
     "data": {
      "text/html": [
       "<div>\n",
       "<style scoped>\n",
       "    .dataframe tbody tr th:only-of-type {\n",
       "        vertical-align: middle;\n",
       "    }\n",
       "\n",
       "    .dataframe tbody tr th {\n",
       "        vertical-align: top;\n",
       "    }\n",
       "\n",
       "    .dataframe thead th {\n",
       "        text-align: right;\n",
       "    }\n",
       "</style>\n",
       "<table border=\"1\" class=\"dataframe\">\n",
       "  <thead>\n",
       "    <tr style=\"text-align: right;\">\n",
       "      <th></th>\n",
       "      <th>total_val</th>\n",
       "      <th>freq</th>\n",
       "    </tr>\n",
       "    <tr>\n",
       "      <th>val_cat</th>\n",
       "      <th></th>\n",
       "      <th></th>\n",
       "    </tr>\n",
       "  </thead>\n",
       "  <tbody>\n",
       "    <tr>\n",
       "      <th>0_10000</th>\n",
       "      <td>341883</td>\n",
       "      <td>81.84</td>\n",
       "    </tr>\n",
       "    <tr>\n",
       "      <th>10000_20000</th>\n",
       "      <td>48930</td>\n",
       "      <td>11.71</td>\n",
       "    </tr>\n",
       "    <tr>\n",
       "      <th>20000_30000</th>\n",
       "      <td>13037</td>\n",
       "      <td>3.12</td>\n",
       "    </tr>\n",
       "    <tr>\n",
       "      <th>30000_40000</th>\n",
       "      <td>5749</td>\n",
       "      <td>1.38</td>\n",
       "    </tr>\n",
       "    <tr>\n",
       "      <th>40000_50000</th>\n",
       "      <td>2813</td>\n",
       "      <td>0.67</td>\n",
       "    </tr>\n",
       "    <tr>\n",
       "      <th>50000_60000</th>\n",
       "      <td>1625</td>\n",
       "      <td>0.39</td>\n",
       "    </tr>\n",
       "    <tr>\n",
       "      <th>60000_70000</th>\n",
       "      <td>1038</td>\n",
       "      <td>0.25</td>\n",
       "    </tr>\n",
       "    <tr>\n",
       "      <th>70000_80000</th>\n",
       "      <td>643</td>\n",
       "      <td>0.15</td>\n",
       "    </tr>\n",
       "    <tr>\n",
       "      <th>80000_90000</th>\n",
       "      <td>456</td>\n",
       "      <td>0.11</td>\n",
       "    </tr>\n",
       "  </tbody>\n",
       "</table>\n",
       "</div>"
      ],
      "text/plain": [
       "             total_val  freq\n",
       "val_cat                     \n",
       "0_10000         341883 81.84\n",
       "10000_20000      48930 11.71\n",
       "20000_30000      13037  3.12\n",
       "30000_40000       5749  1.38\n",
       "40000_50000       2813  0.67\n",
       "50000_60000       1625  0.39\n",
       "60000_70000       1038  0.25\n",
       "70000_80000        643  0.15\n",
       "80000_90000        456  0.11"
      ]
     },
     "execution_count": 53,
     "metadata": {},
     "output_type": "execute_result"
    }
   ],
   "source": [
    "# calculate frequency of each category\n",
    "val_freq = pf_mat.groupby('val_cat', as_index=True).agg({'total_val':'count'})\n",
    "val_freq['freq'] = (val_freq['total_val']/pf_mat.shape[0])*100\n",
    "val_freq.tail(10)"
   ]
  },
  {
   "attachments": {},
   "cell_type": "markdown",
   "metadata": {},
   "source": [
    "Categories above 60K contain a cumulative probability of about 0.5%, so, following from the 0.5% Rule, I will drop all events with a claim above 60k."
   ]
  },
  {
   "cell_type": "code",
   "execution_count": 56,
   "metadata": {},
   "outputs": [],
   "source": [
    "# drop the val_cat column\n",
    "pf_mat.drop('val_cat', axis = 1, inplace = True)\n",
    "\n",
    "# create a new dataframe with the dropped values\n",
    "outliers = pf_mat.query(\"total_val > 60000\").copy()\n",
    "\n",
    "# drop the outliers from the main df\n",
    "pf_mat.drop(pf_mat.query(\"total_val > 60000\").index, axis = 0, inplace = True)\n",
    "pf_mat.reset_index(drop=True, inplace=True)"
   ]
  },
  {
   "cell_type": "code",
   "execution_count": 62,
   "metadata": {},
   "outputs": [
    {
     "name": "stderr",
     "output_type": "stream",
     "text": [
      "Fitting 4 distributions:   0%|          | 0/4 [00:00<?, ?it/s]WARNING:root:SKIPPED weibull distribution (taking more than 30 seconds)\n",
      "Fitting 4 distributions: 100%|██████████| 4/4 [00:16<00:00,  4.18s/it]\n",
      "WARNING:fitter.fitter:weibull was not fitted. no parameters available\n"
     ]
    },
    {
     "data": {
      "text/html": [
       "<div>\n",
       "<style scoped>\n",
       "    .dataframe tbody tr th:only-of-type {\n",
       "        vertical-align: middle;\n",
       "    }\n",
       "\n",
       "    .dataframe tbody tr th {\n",
       "        vertical-align: top;\n",
       "    }\n",
       "\n",
       "    .dataframe thead th {\n",
       "        text-align: right;\n",
       "    }\n",
       "</style>\n",
       "<table border=\"1\" class=\"dataframe\">\n",
       "  <thead>\n",
       "    <tr style=\"text-align: right;\">\n",
       "      <th></th>\n",
       "      <th>sumsquare_error</th>\n",
       "      <th>aic</th>\n",
       "      <th>bic</th>\n",
       "      <th>kl_div</th>\n",
       "      <th>ks_statistic</th>\n",
       "      <th>ks_pvalue</th>\n",
       "    </tr>\n",
       "  </thead>\n",
       "  <tbody>\n",
       "    <tr>\n",
       "      <th>invgauss</th>\n",
       "      <td>0.00</td>\n",
       "      <td>2578.41</td>\n",
       "      <td>-14174785.39</td>\n",
       "      <td>0.01</td>\n",
       "      <td>0.02</td>\n",
       "      <td>0.00</td>\n",
       "    </tr>\n",
       "    <tr>\n",
       "      <th>gamma</th>\n",
       "      <td>0.00</td>\n",
       "      <td>3584.90</td>\n",
       "      <td>-12300756.42</td>\n",
       "      <td>0.23</td>\n",
       "      <td>0.15</td>\n",
       "      <td>0.00</td>\n",
       "    </tr>\n",
       "    <tr>\n",
       "      <th>lognorm</th>\n",
       "      <td>0.00</td>\n",
       "      <td>2728.66</td>\n",
       "      <td>-11911337.61</td>\n",
       "      <td>0.84</td>\n",
       "      <td>0.73</td>\n",
       "      <td>0.00</td>\n",
       "    </tr>\n",
       "    <tr>\n",
       "      <th>weibull</th>\n",
       "      <td>inf</td>\n",
       "      <td>inf</td>\n",
       "      <td>inf</td>\n",
       "      <td>inf</td>\n",
       "      <td>NaN</td>\n",
       "      <td>NaN</td>\n",
       "    </tr>\n",
       "  </tbody>\n",
       "</table>\n",
       "</div>"
      ],
      "text/plain": [
       "          sumsquare_error     aic          bic  kl_div  ks_statistic  \\\n",
       "invgauss             0.00 2578.41 -14174785.39    0.01          0.02   \n",
       "gamma                0.00 3584.90 -12300756.42    0.23          0.15   \n",
       "lognorm              0.00 2728.66 -11911337.61    0.84          0.73   \n",
       "weibull               inf     inf          inf     inf           NaN   \n",
       "\n",
       "          ks_pvalue  \n",
       "invgauss       0.00  \n",
       "gamma          0.00  \n",
       "lognorm        0.00  \n",
       "weibull         NaN  "
      ]
     },
     "execution_count": 62,
     "metadata": {},
     "output_type": "execute_result"
    },
    {
     "data": {
      "image/png": "[encoded data removed]",
      "text/plain": [
       "<Figure size 640x480 with 1 Axes>"
      ]
     },
     "metadata": {},
     "output_type": "display_data"
    }
   ],
   "source": [
    "# re-use the Fitter to check whether the same distribution will get selected as the best\n",
    "f = Fitter(pf_mat.total_val, distributions = ['gamma', 'lognorm', 'weibull', 'invgauss']) \n",
    "f.fit()\n",
    "f.summary()"
   ]
  },
  {
   "attachments": {},
   "cell_type": "markdown",
   "metadata": {},
   "source": [
    "Inverse Gaussian has the smallest AIC score and visually the best fit, however, for a slightly increased AIC score, Log-normal has a much better KS score. \n",
    "\n",
    "I will use GLM to get more details about both:"
   ]
  },
  {
   "cell_type": "code",
   "execution_count": 64,
   "metadata": {},
   "outputs": [
    {
     "data": {
      "text/html": [
       "<table class=\"simpletable\">\n",
       "<caption>Generalized Linear Model Regression Results</caption>\n",
       "<tr>\n",
       "  <th>Dep. Variable:</th>     <td>log_total_val</td>  <th>  No. Observations:  </th>   <td>414037</td>   \n",
       "</tr>\n",
       "<tr>\n",
       "  <th>Model:</th>                  <td>GLM</td>       <th>  Df Residuals:      </th>   <td>414036</td>   \n",
       "</tr>\n",
       "<tr>\n",
       "  <th>Model Family:</th>        <td>Gaussian</td>     <th>  Df Model:          </th>   <td>     0</td>   \n",
       "</tr>\n",
       "<tr>\n",
       "  <th>Link Function:</th>       <td>identity</td>     <th>  Scale:             </th>  <td>  1.0230</td>  \n",
       "</tr>\n",
       "<tr>\n",
       "  <th>Method:</th>                <td>IRLS</td>       <th>  Log-Likelihood:    </th> <td>-5.9221e+05</td>\n",
       "</tr>\n",
       "<tr>\n",
       "  <th>Date:</th>            <td>Wed, 08 Feb 2023</td> <th>  Deviance:          </th> <td>4.2358e+05</td> \n",
       "</tr>\n",
       "<tr>\n",
       "  <th>Time:</th>                <td>10:54:24</td>     <th>  Pearson chi2:      </th>  <td>4.24e+05</td>  \n",
       "</tr>\n",
       "<tr>\n",
       "  <th>No. Iterations:</th>          <td>3</td>        <th>  Pseudo R-squ. (CS):</th>  <td>2.917e-12</td> \n",
       "</tr>\n",
       "<tr>\n",
       "  <th>Covariance Type:</th>     <td>nonrobust</td>    <th>                     </th>      <td> </td>     \n",
       "</tr>\n",
       "</table>\n",
       "<table class=\"simpletable\">\n",
       "<tr>\n",
       "      <td></td>         <th>coef</th>     <th>std err</th>      <th>z</th>      <th>P>|z|</th>  <th>[0.025</th>    <th>0.975]</th>  \n",
       "</tr>\n",
       "<tr>\n",
       "  <th>Intercept</th> <td>    8.2439</td> <td>    0.002</td> <td> 5244.536</td> <td> 0.000</td> <td>    8.241</td> <td>    8.247</td>\n",
       "</tr>\n",
       "</table>"
      ],
      "text/plain": [
       "<class 'statsmodels.iolib.summary.Summary'>\n",
       "\"\"\"\n",
       "                 Generalized Linear Model Regression Results                  \n",
       "==============================================================================\n",
       "Dep. Variable:          log_total_val   No. Observations:               414037\n",
       "Model:                            GLM   Df Residuals:                   414036\n",
       "Model Family:                Gaussian   Df Model:                            0\n",
       "Link Function:               identity   Scale:                          1.0230\n",
       "Method:                          IRLS   Log-Likelihood:            -5.9221e+05\n",
       "Date:                Wed, 08 Feb 2023   Deviance:                   4.2358e+05\n",
       "Time:                        10:54:24   Pearson chi2:                 4.24e+05\n",
       "No. Iterations:                     3   Pseudo R-squ. (CS):          2.917e-12\n",
       "Covariance Type:            nonrobust                                         \n",
       "==============================================================================\n",
       "                 coef    std err          z      P>|z|      [0.025      0.975]\n",
       "------------------------------------------------------------------------------\n",
       "Intercept      8.2439      0.002   5244.536      0.000       8.241       8.247\n",
       "==============================================================================\n",
       "\"\"\""
      ]
     },
     "execution_count": 64,
     "metadata": {},
     "output_type": "execute_result"
    }
   ],
   "source": [
    "# check the effect of manually dropping values >60k for LOG-NORMAL\n",
    "\n",
    "patsy_null = 'log_total_val ~ 1'  # fitting the base model, no predictors just the target values\n",
    "model_manual_LGN = glm(patsy_null, data = pf_mat, family = sm.families.Gaussian()).fit()\n",
    "\n",
    "model_manual_LGN.summary()"
   ]
  },
  {
   "cell_type": "code",
   "execution_count": 65,
   "metadata": {},
   "outputs": [
    {
     "data": {
      "text/html": [
       "<table class=\"simpletable\">\n",
       "<caption>Generalized Linear Model Regression Results</caption>\n",
       "<tr>\n",
       "  <th>Dep. Variable:</th>       <td>total_val</td>    <th>  No. Observations:  </th>   <td>414037</td>   \n",
       "</tr>\n",
       "<tr>\n",
       "  <th>Model:</th>                  <td>GLM</td>       <th>  Df Residuals:      </th>   <td>414036</td>   \n",
       "</tr>\n",
       "<tr>\n",
       "  <th>Model Family:</th>     <td>InverseGaussian</td> <th>  Df Model:          </th>   <td>     0</td>   \n",
       "</tr>\n",
       "<tr>\n",
       "  <th>Link Function:</th>    <td>inverse_squared</td> <th>  Scale:             </th> <td>0.00023137</td> \n",
       "</tr>\n",
       "<tr>\n",
       "  <th>Method:</th>                <td>IRLS</td>       <th>  Log-Likelihood:    </th> <td>-4.0251e+06</td>\n",
       "</tr>\n",
       "<tr>\n",
       "  <th>Date:</th>            <td>Wed, 08 Feb 2023</td> <th>  Deviance:          </th>  <td>  119.25</td>  \n",
       "</tr>\n",
       "<tr>\n",
       "  <th>Time:</th>                <td>10:54:29</td>     <th>  Pearson chi2:      </th>   <td>  95.8</td>   \n",
       "</tr>\n",
       "<tr>\n",
       "  <th>No. Iterations:</th>          <td>9</td>        <th>  Pseudo R-squ. (CS):</th> <td>-4.441e-15</td> \n",
       "</tr>\n",
       "<tr>\n",
       "  <th>Covariance Type:</th>     <td>nonrobust</td>    <th>                     </th>      <td> </td>     \n",
       "</tr>\n",
       "</table>\n",
       "<table class=\"simpletable\">\n",
       "<tr>\n",
       "      <td></td>         <th>coef</th>     <th>std err</th>      <th>z</th>      <th>P>|z|</th>  <th>[0.025</th>    <th>0.975]</th>  \n",
       "</tr>\n",
       "<tr>\n",
       "  <th>Intercept</th> <td>  2.46e-08</td> <td> 9.29e-11</td> <td>  264.887</td> <td> 0.000</td> <td> 2.44e-08</td> <td> 2.48e-08</td>\n",
       "</tr>\n",
       "</table>"
      ],
      "text/plain": [
       "<class 'statsmodels.iolib.summary.Summary'>\n",
       "\"\"\"\n",
       "                 Generalized Linear Model Regression Results                  \n",
       "==============================================================================\n",
       "Dep. Variable:              total_val   No. Observations:               414037\n",
       "Model:                            GLM   Df Residuals:                   414036\n",
       "Model Family:         InverseGaussian   Df Model:                            0\n",
       "Link Function:        inverse_squared   Scale:                      0.00023137\n",
       "Method:                          IRLS   Log-Likelihood:            -4.0251e+06\n",
       "Date:                Wed, 08 Feb 2023   Deviance:                       119.25\n",
       "Time:                        10:54:29   Pearson chi2:                     95.8\n",
       "No. Iterations:                     9   Pseudo R-squ. (CS):         -4.441e-15\n",
       "Covariance Type:            nonrobust                                         \n",
       "==============================================================================\n",
       "                 coef    std err          z      P>|z|      [0.025      0.975]\n",
       "------------------------------------------------------------------------------\n",
       "Intercept    2.46e-08   9.29e-11    264.887      0.000    2.44e-08    2.48e-08\n",
       "==============================================================================\n",
       "\"\"\""
      ]
     },
     "execution_count": 65,
     "metadata": {},
     "output_type": "execute_result"
    }
   ],
   "source": [
    "# check the effect of manually dropping values >60k for INVERSE GAUSSIAN\n",
    "\n",
    "patsy_null = 'total_val ~ 1'  # fitting the base model, no predictors just the target values\n",
    "model_manual_IVG = glm(patsy_null, data = pf_mat, family = sm.families.InverseGaussian()).fit()\n",
    "\n",
    "model_manual_IVG.summary()"
   ]
  },
  {
   "cell_type": "code",
   "execution_count": 66,
   "metadata": {},
   "outputs": [
    {
     "name": "stdout",
     "output_type": "stream",
     "text": [
      "AIC scores for: \n",
      " Log-normal 1184419.5474458358 \n",
      " Inverse Gaussian 8050120.617742584\n"
     ]
    }
   ],
   "source": [
    "print(f'AIC scores for: \\n Log-normal {model_manual_LGN.aic} \\n Inverse Gaussian {model_manual_IVG.aic}')"
   ]
  },
  {
   "attachments": {},
   "cell_type": "markdown",
   "metadata": {},
   "source": [
    "I will use 3 methods to identify outliers: \n",
    "1. Elliptic Envelope\n",
    "2. Local outlier facor\n",
    "3. Isolation Forest"
   ]
  },
  {
   "attachments": {},
   "cell_type": "markdown",
   "metadata": {},
   "source": [
    "#### Elliptic Envelope"
   ]
  },
  {
   "cell_type": "code",
   "execution_count": 68,
   "metadata": {},
   "outputs": [
    {
     "name": "stdout",
     "output_type": "stream",
     "text": [
      "Percentage of events identified as outliers: 10.000072457292465%\n",
      "Percentage of claim value identified as outlier: 39.623550657536335%\n"
     ]
    }
   ],
   "source": [
    "# prepare the input\n",
    "data = pf_mat.total_val.array.reshape(-1, 1)\n",
    "\n",
    "# predict outliers\n",
    "predictions = EllipticEnvelope().fit(data).predict(data)\n",
    "\n",
    "# create col with predictions\n",
    "pf_mat['ee_pred'] = predictions\n",
    "\n",
    "# percentage of events identified as outliers\n",
    "print(f'Percentage of events identified as outliers: {(pf_mat[pf_mat.ee_pred == -1].shape[0]/pf_mat.shape[0])*100}%')\n",
    "# percentage of claim value identified as outlier:\n",
    "print(f'Percentage of claim value identified as outlier: {(pf_mat[pf_mat.ee_pred == -1].total_val.sum()/pf_mat.total_val.sum())*100}%')"
   ]
  },
  {
   "cell_type": "code",
   "execution_count": 69,
   "metadata": {},
   "outputs": [
    {
     "data": {
      "text/plain": [
       "count   41404.00\n",
       "mean    25264.13\n",
       "std     10121.17\n",
       "min     15003.00\n",
       "25%     18124.00\n",
       "50%     21353.00\n",
       "75%     29839.50\n",
       "max     60000.00\n",
       "Name: total_val, dtype: float64"
      ]
     },
     "execution_count": 69,
     "metadata": {},
     "output_type": "execute_result"
    }
   ],
   "source": [
    "# obtain stats on the outliers\n",
    "pf_mat[pf_mat.ee_pred == -1].total_val.describe()\n"
   ]
  },
  {
   "cell_type": "code",
   "execution_count": 70,
   "metadata": {},
   "outputs": [
    {
     "data": {
      "image/png": "[encoded data removed]",
      "text/plain": [
       "<Figure size 500x500 with 1 Axes>"
      ]
     },
     "metadata": {},
     "output_type": "display_data"
    }
   ],
   "source": [
    "# plot of the distribution of material claims WITHOUT OUTLIERS\n",
    "\n",
    "fig = sns.displot(pf_mat[pf_mat.ee_pred == 1], x = 'total_val')\n",
    "fig.set(xlim = (0, 100000))\n",
    "fig.set(ylim = (0, 10000))\n",
    "plt.title('Elliptic Envelope - Distribution of material claim values');"
   ]
  },
  {
   "cell_type": "code",
   "execution_count": 71,
   "metadata": {},
   "outputs": [
    {
     "data": {
      "text/html": [
       "<table class=\"simpletable\">\n",
       "<caption>Generalized Linear Model Regression Results</caption>\n",
       "<tr>\n",
       "  <th>Dep. Variable:</th>     <td>log_total_val</td>  <th>  No. Observations:  </th>   <td>372633</td>   \n",
       "</tr>\n",
       "<tr>\n",
       "  <th>Model:</th>                  <td>GLM</td>       <th>  Df Residuals:      </th>   <td>372632</td>   \n",
       "</tr>\n",
       "<tr>\n",
       "  <th>Model Family:</th>        <td>Gaussian</td>     <th>  Df Model:          </th>   <td>     0</td>   \n",
       "</tr>\n",
       "<tr>\n",
       "  <th>Link Function:</th>       <td>identity</td>     <th>  Scale:             </th>  <td> 0.71116</td>  \n",
       "</tr>\n",
       "<tr>\n",
       "  <th>Method:</th>                <td>IRLS</td>       <th>  Log-Likelihood:    </th> <td>-4.6524e+05</td>\n",
       "</tr>\n",
       "<tr>\n",
       "  <th>Date:</th>            <td>Wed, 08 Feb 2023</td> <th>  Deviance:          </th> <td>2.6500e+05</td> \n",
       "</tr>\n",
       "<tr>\n",
       "  <th>Time:</th>                <td>11:00:15</td>     <th>  Pearson chi2:      </th>  <td>2.65e+05</td>  \n",
       "</tr>\n",
       "<tr>\n",
       "  <th>No. Iterations:</th>          <td>3</td>        <th>  Pseudo R-squ. (CS):</th>  <td>3.601e-12</td> \n",
       "</tr>\n",
       "<tr>\n",
       "  <th>Covariance Type:</th>     <td>nonrobust</td>    <th>                     </th>      <td> </td>     \n",
       "</tr>\n",
       "</table>\n",
       "<table class=\"simpletable\">\n",
       "<tr>\n",
       "      <td></td>         <th>coef</th>     <th>std err</th>      <th>z</th>      <th>P>|z|</th>  <th>[0.025</th>    <th>0.975]</th>  \n",
       "</tr>\n",
       "<tr>\n",
       "  <th>Intercept</th> <td>    8.0410</td> <td>    0.001</td> <td> 5820.550</td> <td> 0.000</td> <td>    8.038</td> <td>    8.044</td>\n",
       "</tr>\n",
       "</table>"
      ],
      "text/plain": [
       "<class 'statsmodels.iolib.summary.Summary'>\n",
       "\"\"\"\n",
       "                 Generalized Linear Model Regression Results                  \n",
       "==============================================================================\n",
       "Dep. Variable:          log_total_val   No. Observations:               372633\n",
       "Model:                            GLM   Df Residuals:                   372632\n",
       "Model Family:                Gaussian   Df Model:                            0\n",
       "Link Function:               identity   Scale:                         0.71116\n",
       "Method:                          IRLS   Log-Likelihood:            -4.6524e+05\n",
       "Date:                Wed, 08 Feb 2023   Deviance:                   2.6500e+05\n",
       "Time:                        11:00:15   Pearson chi2:                 2.65e+05\n",
       "No. Iterations:                     3   Pseudo R-squ. (CS):          3.601e-12\n",
       "Covariance Type:            nonrobust                                         \n",
       "==============================================================================\n",
       "                 coef    std err          z      P>|z|      [0.025      0.975]\n",
       "------------------------------------------------------------------------------\n",
       "Intercept      8.0410      0.001   5820.550      0.000       8.038       8.044\n",
       "==============================================================================\n",
       "\"\"\""
      ]
     },
     "execution_count": 71,
     "metadata": {},
     "output_type": "execute_result"
    }
   ],
   "source": [
    "# check goodness of fit after removing the identified outliers\n",
    "\n",
    "patsy_null = 'log_total_val ~ 1'  # fitting the base model, no predictors just the target values\n",
    "model_EE = glm(patsy_null, data = pf_mat[pf_mat.ee_pred == 1], family = sm.families.Gaussian()).fit()\n",
    "\n",
    "model_EE.summary()"
   ]
  },
  {
   "cell_type": "code",
   "execution_count": 72,
   "metadata": {},
   "outputs": [
    {
     "data": {
      "text/plain": [
       "930474.6412037441"
      ]
     },
     "execution_count": 72,
     "metadata": {},
     "output_type": "execute_result"
    }
   ],
   "source": [
    "model_EE.aic"
   ]
  },
  {
   "attachments": {},
   "cell_type": "markdown",
   "metadata": {},
   "source": [
    "A noticeable improvement, at the cost of ~ 10% of the events."
   ]
  },
  {
   "attachments": {},
   "cell_type": "markdown",
   "metadata": {},
   "source": [
    "#### Local Outlier Factor"
   ]
  },
  {
   "cell_type": "code",
   "execution_count": 73,
   "metadata": {},
   "outputs": [
    {
     "name": "stdout",
     "output_type": "stream",
     "text": [
      "Percentage of events identified as outliers: 5.180213362573876%\n",
      "Percentage of claim value identified as outlier: 2.727733260675928%\n"
     ]
    }
   ],
   "source": [
    "# prepare the input\n",
    "data = pf_mat.total_val.array.reshape(-1, 1)\n",
    "\n",
    "# predict outliers\n",
    "predictions = LocalOutlierFactor(n_neighbors=500, novelty=True).fit(data).predict(data)\n",
    "\n",
    "# create col with predictions\n",
    "pf_mat['lof_pred'] = predictions\n",
    "\n",
    "# percentage of events identified as outliers\n",
    "print(f'Percentage of events identified as outliers: {(pf_mat[pf_mat.lof_pred == -1].shape[0]/pf_mat.shape[0])*100}%')\n",
    "# percentage of claim value identified as outlier:\n",
    "print(f'Percentage of claim value identified as outlier: {(pf_mat[pf_mat.lof_pred == -1].total_val.sum()/pf_mat.total_val.sum())*100}%')"
   ]
  },
  {
   "cell_type": "code",
   "execution_count": 74,
   "metadata": {},
   "outputs": [
    {
     "data": {
      "text/plain": [
       "count   21448.00\n",
       "mean     3357.44\n",
       "std      3656.09\n",
       "min         1.00\n",
       "25%      1097.00\n",
       "50%      2103.00\n",
       "75%      4006.00\n",
       "max     19486.00\n",
       "Name: total_val, dtype: float64"
      ]
     },
     "execution_count": 74,
     "metadata": {},
     "output_type": "execute_result"
    }
   ],
   "source": [
    "# obtain stats on the outliers\n",
    "pf_mat[pf_mat.lof_pred == -1].total_val.describe()\n"
   ]
  },
  {
   "cell_type": "code",
   "execution_count": 84,
   "metadata": {},
   "outputs": [
    {
     "data": {
      "text/plain": [
       "3693"
      ]
     },
     "execution_count": 84,
     "metadata": {},
     "output_type": "execute_result"
    }
   ],
   "source": [
    "outliers.shape[0]"
   ]
  },
  {
   "cell_type": "code",
   "execution_count": 75,
   "metadata": {},
   "outputs": [
    {
     "data": {
      "image/png": "[encoded data removed]",
      "text/plain": [
       "<Figure size 500x500 with 1 Axes>"
      ]
     },
     "metadata": {},
     "output_type": "display_data"
    }
   ],
   "source": [
    "# plot of the distribution of material claims WITHOUT OUTLIERS\n",
    "\n",
    "fig = sns.displot(pf_mat[pf_mat.lof_pred == 1], x = 'total_val')\n",
    "fig.set(xlim = (0, 100000))\n",
    "fig.set(ylim = (0, 10000))\n",
    "plt.title('Local Outlier Factor - Distribution of material claim values');"
   ]
  },
  {
   "cell_type": "code",
   "execution_count": 76,
   "metadata": {},
   "outputs": [
    {
     "data": {
      "text/html": [
       "<table class=\"simpletable\">\n",
       "<caption>Generalized Linear Model Regression Results</caption>\n",
       "<tr>\n",
       "  <th>Dep. Variable:</th>     <td>log_total_val</td>  <th>  No. Observations:  </th>   <td>392589</td>   \n",
       "</tr>\n",
       "<tr>\n",
       "  <th>Model:</th>                  <td>GLM</td>       <th>  Df Residuals:      </th>   <td>392588</td>   \n",
       "</tr>\n",
       "<tr>\n",
       "  <th>Model Family:</th>        <td>Gaussian</td>     <th>  Df Model:          </th>   <td>     0</td>   \n",
       "</tr>\n",
       "<tr>\n",
       "  <th>Link Function:</th>       <td>identity</td>     <th>  Scale:             </th>  <td>  1.0116</td>  \n",
       "</tr>\n",
       "<tr>\n",
       "  <th>Method:</th>                <td>IRLS</td>       <th>  Log-Likelihood:    </th> <td>-5.5932e+05</td>\n",
       "</tr>\n",
       "<tr>\n",
       "  <th>Date:</th>            <td>Wed, 08 Feb 2023</td> <th>  Deviance:          </th> <td>3.9713e+05</td> \n",
       "</tr>\n",
       "<tr>\n",
       "  <th>Time:</th>                <td>11:02:46</td>     <th>  Pearson chi2:      </th>  <td>3.97e+05</td>  \n",
       "</tr>\n",
       "<tr>\n",
       "  <th>No. Iterations:</th>          <td>3</td>        <th>  Pseudo R-squ. (CS):</th>  <td>3.245e-12</td> \n",
       "</tr>\n",
       "<tr>\n",
       "  <th>Covariance Type:</th>     <td>nonrobust</td>    <th>                     </th>      <td> </td>     \n",
       "</tr>\n",
       "</table>\n",
       "<table class=\"simpletable\">\n",
       "<tr>\n",
       "      <td></td>         <th>coef</th>     <th>std err</th>      <th>z</th>      <th>P>|z|</th>  <th>[0.025</th>    <th>0.975]</th>  \n",
       "</tr>\n",
       "<tr>\n",
       "  <th>Intercept</th> <td>    8.2748</td> <td>    0.002</td> <td> 5155.000</td> <td> 0.000</td> <td>    8.272</td> <td>    8.278</td>\n",
       "</tr>\n",
       "</table>"
      ],
      "text/plain": [
       "<class 'statsmodels.iolib.summary.Summary'>\n",
       "\"\"\"\n",
       "                 Generalized Linear Model Regression Results                  \n",
       "==============================================================================\n",
       "Dep. Variable:          log_total_val   No. Observations:               392589\n",
       "Model:                            GLM   Df Residuals:                   392588\n",
       "Model Family:                Gaussian   Df Model:                            0\n",
       "Link Function:               identity   Scale:                          1.0116\n",
       "Method:                          IRLS   Log-Likelihood:            -5.5932e+05\n",
       "Date:                Wed, 08 Feb 2023   Deviance:                   3.9713e+05\n",
       "Time:                        11:02:46   Pearson chi2:                 3.97e+05\n",
       "No. Iterations:                     3   Pseudo R-squ. (CS):          3.245e-12\n",
       "Covariance Type:            nonrobust                                         \n",
       "==============================================================================\n",
       "                 coef    std err          z      P>|z|      [0.025      0.975]\n",
       "------------------------------------------------------------------------------\n",
       "Intercept      8.2748      0.002   5155.000      0.000       8.272       8.278\n",
       "==============================================================================\n",
       "\"\"\""
      ]
     },
     "execution_count": 76,
     "metadata": {},
     "output_type": "execute_result"
    }
   ],
   "source": [
    "# check goodness of fit after removing the identified outliers\n",
    "\n",
    "patsy_null = 'log_total_val ~ 1'  # fitting the base model, no predictors just the target values\n",
    "model_LOF = glm(patsy_null, data = pf_mat[pf_mat.lof_pred == 1], family = sm.families.Gaussian()).fit()\n",
    "\n",
    "model_LOF.summary()"
   ]
  },
  {
   "cell_type": "code",
   "execution_count": 77,
   "metadata": {},
   "outputs": [
    {
     "data": {
      "text/plain": [
       "1118637.7284490815"
      ]
     },
     "execution_count": 77,
     "metadata": {},
     "output_type": "execute_result"
    }
   ],
   "source": [
    "model_LOF.aic"
   ]
  },
  {
   "attachments": {},
   "cell_type": "markdown",
   "metadata": {},
   "source": [
    "#### Isolation forest"
   ]
  },
  {
   "cell_type": "code",
   "execution_count": 78,
   "metadata": {},
   "outputs": [],
   "source": [
    "\n",
    "# prepare the input\n",
    "data = pf_mat.total_val.array.reshape(-1, 1)\n",
    "\n",
    "contaminations = [0.01, 0.05, 0.1]\n",
    "\n",
    "for contamination in contaminations:\n",
    "    random_state = np.random.RandomState(42)\n",
    "    prediction = IsolationForest(n_estimators=100, max_samples='auto', contamination = contamination, \n",
    "                                    random_state=random_state).fit(data).predict(data)\n",
    "    pf_mat[f'iso_pred_{contamination}'] = prediction\n",
    "\n"
   ]
  },
  {
   "cell_type": "code",
   "execution_count": 79,
   "metadata": {},
   "outputs": [
    {
     "name": "stdout",
     "output_type": "stream",
     "text": [
      "Percentage of events identified as outliers: \n",
      " - At 1% contamination: 0.9914572852184709% \n",
      " - At 5% contamination: 4.997379461255878% \n",
      " - At 10% contamination: 9.99186063081319%\n",
      "Percentage of claim value identified as outlier: \n",
      " - At 1% contamination: 7.588614709902215% \n",
      " - At 5% contamination: 25.569954974327274% \n",
      " - At 10% contamination: 38.283679834607774%\n"
     ]
    }
   ],
   "source": [
    "# percentage of events identified as outliers\n",
    "print(f\"Percentage of events identified as outliers: \\n - At 1% contamination: {(pf_mat[pf_mat['iso_pred_0.01'] == -1].shape[0]/pf_mat.shape[0])*100}% \\n - At 5% contamination: {(pf_mat[pf_mat['iso_pred_0.05'] == -1].shape[0]/pf_mat.shape[0])*100}% \\n - At 10% contamination: {(pf_mat[pf_mat['iso_pred_0.1'] == -1].shape[0]/pf_mat.shape[0])*100}%\")\n",
    "# percentage of claim value identified as outlier:\n",
    "print(f\"Percentage of claim value identified as outlier: \\n - At 1% contamination: {(pf_mat[pf_mat['iso_pred_0.01'] == -1].total_val.sum()/pf_mat.total_val.sum())*100}% \\n - At 5% contamination: {(pf_mat[pf_mat['iso_pred_0.05'] == -1].total_val.sum()/pf_mat.total_val.sum())*100}% \\n - At 10% contamination: {(pf_mat[pf_mat['iso_pred_0.1'] == -1].total_val.sum()/pf_mat.total_val.sum())*100}%\")"
   ]
  },
  {
   "attachments": {},
   "cell_type": "markdown",
   "metadata": {},
   "source": [
    "At 5% appears to be the greatest amount of money selected for the smallest number of events."
   ]
  },
  {
   "cell_type": "code",
   "execution_count": 58,
   "metadata": {},
   "outputs": [
    {
     "data": {
      "text/plain": [
       "count     20647.00\n",
       "mean      48189.84\n",
       "std       79402.65\n",
       "min       23334.00\n",
       "25%       28199.79\n",
       "50%       35240.00\n",
       "75%       50790.00\n",
       "max     8293198.96\n",
       "Name: total_val, dtype: float64"
      ]
     },
     "execution_count": 58,
     "metadata": {},
     "output_type": "execute_result"
    }
   ],
   "source": [
    "# obtain stats on the outliers\n",
    "pf_mat[pf_mat['iso_pred_0.05'] == -1].total_val.describe()\n"
   ]
  },
  {
   "cell_type": "code",
   "execution_count": 80,
   "metadata": {},
   "outputs": [
    {
     "data": {
      "image/png": "[encoded data removed]",
      "text/plain": [
       "<Figure size 500x500 with 1 Axes>"
      ]
     },
     "metadata": {},
     "output_type": "display_data"
    }
   ],
   "source": [
    "# plot of the distribution of material claims WITHOUT OUTLIERS\n",
    "\n",
    "fig = sns.displot(pf_mat[pf_mat['iso_pred_0.05'] == 1], x = 'total_val')\n",
    "fig.set(xlim = (0, 100000))\n",
    "fig.set(ylim = (0, 10000))\n",
    "plt.title('Isolation Forest at 5% - Distribution of material claim values');"
   ]
  },
  {
   "cell_type": "code",
   "execution_count": 81,
   "metadata": {},
   "outputs": [
    {
     "data": {
      "text/html": [
       "<table class=\"simpletable\">\n",
       "<caption>Generalized Linear Model Regression Results</caption>\n",
       "<tr>\n",
       "  <th>Dep. Variable:</th>     <td>log_total_val</td>  <th>  No. Observations:  </th>   <td>393346</td>   \n",
       "</tr>\n",
       "<tr>\n",
       "  <th>Model:</th>                  <td>GLM</td>       <th>  Df Residuals:      </th>   <td>393345</td>   \n",
       "</tr>\n",
       "<tr>\n",
       "  <th>Model Family:</th>        <td>Gaussian</td>     <th>  Df Model:          </th>   <td>     0</td>   \n",
       "</tr>\n",
       "<tr>\n",
       "  <th>Link Function:</th>       <td>identity</td>     <th>  Scale:             </th>  <td> 0.82657</td>  \n",
       "</tr>\n",
       "<tr>\n",
       "  <th>Method:</th>                <td>IRLS</td>       <th>  Log-Likelihood:    </th> <td>-5.2067e+05</td>\n",
       "</tr>\n",
       "<tr>\n",
       "  <th>Date:</th>            <td>Wed, 08 Feb 2023</td> <th>  Deviance:          </th> <td>3.2513e+05</td> \n",
       "</tr>\n",
       "<tr>\n",
       "  <th>Time:</th>                <td>11:06:39</td>     <th>  Pearson chi2:      </th>  <td>3.25e+05</td>  \n",
       "</tr>\n",
       "<tr>\n",
       "  <th>No. Iterations:</th>          <td>3</td>        <th>  Pseudo R-squ. (CS):</th>  <td>3.232e-12</td> \n",
       "</tr>\n",
       "<tr>\n",
       "  <th>Covariance Type:</th>     <td>nonrobust</td>    <th>                     </th>      <td> </td>     \n",
       "</tr>\n",
       "</table>\n",
       "<table class=\"simpletable\">\n",
       "<tr>\n",
       "      <td></td>         <th>coef</th>     <th>std err</th>      <th>z</th>      <th>P>|z|</th>  <th>[0.025</th>    <th>0.975]</th>  \n",
       "</tr>\n",
       "<tr>\n",
       "  <th>Intercept</th> <td>    8.1330</td> <td>    0.001</td> <td> 5610.451</td> <td> 0.000</td> <td>    8.130</td> <td>    8.136</td>\n",
       "</tr>\n",
       "</table>"
      ],
      "text/plain": [
       "<class 'statsmodels.iolib.summary.Summary'>\n",
       "\"\"\"\n",
       "                 Generalized Linear Model Regression Results                  \n",
       "==============================================================================\n",
       "Dep. Variable:          log_total_val   No. Observations:               393346\n",
       "Model:                            GLM   Df Residuals:                   393345\n",
       "Model Family:                Gaussian   Df Model:                            0\n",
       "Link Function:               identity   Scale:                         0.82657\n",
       "Method:                          IRLS   Log-Likelihood:            -5.2067e+05\n",
       "Date:                Wed, 08 Feb 2023   Deviance:                   3.2513e+05\n",
       "Time:                        11:06:39   Pearson chi2:                 3.25e+05\n",
       "No. Iterations:                     3   Pseudo R-squ. (CS):          3.232e-12\n",
       "Covariance Type:            nonrobust                                         \n",
       "==============================================================================\n",
       "                 coef    std err          z      P>|z|      [0.025      0.975]\n",
       "------------------------------------------------------------------------------\n",
       "Intercept      8.1330      0.001   5610.451      0.000       8.130       8.136\n",
       "==============================================================================\n",
       "\"\"\""
      ]
     },
     "execution_count": 81,
     "metadata": {},
     "output_type": "execute_result"
    }
   ],
   "source": [
    "# check goodness of fit after removing the identified outliers\n",
    "\n",
    "patsy_null = 'log_total_val ~ 1'  # fitting the base model, no predictors just the target values\n",
    "model_IS = glm(patsy_null, data = pf_mat[pf_mat['iso_pred_0.05'] == 1], family = sm.families.Gaussian()).fit()\n",
    "\n",
    "model_IS.summary()"
   ]
  },
  {
   "cell_type": "code",
   "execution_count": 82,
   "metadata": {},
   "outputs": [
    {
     "data": {
      "text/plain": [
       "1041348.5216208091"
      ]
     },
     "execution_count": 82,
     "metadata": {},
     "output_type": "execute_result"
    }
   ],
   "source": [
    "model_IS.aic"
   ]
  },
  {
   "attachments": {},
   "cell_type": "markdown",
   "metadata": {},
   "source": [
    "## Conclusion:\n",
    "\n",
    "Out of the 3 methods, LOF was the most helpful since it also identified exceedingly small values as outlier, removing ~ 5% of events for the cost of only ~ 2.5% of the total value of the portfolio.\n",
    "\n",
    "Henceforth, outliers will be those above 60k and those specifically identified by the LOF algorithm."
   ]
  },
  {
   "cell_type": "code",
   "execution_count": 108,
   "metadata": {},
   "outputs": [
    {
     "data": {
      "text/html": [
       "<div>\n",
       "<style scoped>\n",
       "    .dataframe tbody tr th:only-of-type {\n",
       "        vertical-align: middle;\n",
       "    }\n",
       "\n",
       "    .dataframe tbody tr th {\n",
       "        vertical-align: top;\n",
       "    }\n",
       "\n",
       "    .dataframe thead th {\n",
       "        text-align: right;\n",
       "    }\n",
       "</style>\n",
       "<table border=\"1\" class=\"dataframe\">\n",
       "  <thead>\n",
       "    <tr style=\"text-align: right;\">\n",
       "      <th></th>\n",
       "      <th>idEvent</th>\n",
       "      <th>total_val</th>\n",
       "      <th>idPolita</th>\n",
       "      <th>log_total_val</th>\n",
       "      <th>outlier_type</th>\n",
       "    </tr>\n",
       "  </thead>\n",
       "  <tbody>\n",
       "    <tr>\n",
       "      <th>0</th>\n",
       "      <td>100001972018-12-02</td>\n",
       "      <td>10815.00</td>\n",
       "      <td>10000197</td>\n",
       "      <td>9.29</td>\n",
       "      <td>no_out</td>\n",
       "    </tr>\n",
       "    <tr>\n",
       "      <th>1</th>\n",
       "      <td>100004462018-10-08</td>\n",
       "      <td>2635.00</td>\n",
       "      <td>10000446</td>\n",
       "      <td>7.88</td>\n",
       "      <td>no_out</td>\n",
       "    </tr>\n",
       "    <tr>\n",
       "      <th>2</th>\n",
       "      <td>100005852018-07-07</td>\n",
       "      <td>9255.00</td>\n",
       "      <td>10000585</td>\n",
       "      <td>9.13</td>\n",
       "      <td>no_out</td>\n",
       "    </tr>\n",
       "    <tr>\n",
       "      <th>3</th>\n",
       "      <td>100006982018-05-27</td>\n",
       "      <td>5097.00</td>\n",
       "      <td>10000698</td>\n",
       "      <td>8.54</td>\n",
       "      <td>no_out</td>\n",
       "    </tr>\n",
       "    <tr>\n",
       "      <th>4</th>\n",
       "      <td>100007012018-08-09</td>\n",
       "      <td>18872.00</td>\n",
       "      <td>10000701</td>\n",
       "      <td>9.85</td>\n",
       "      <td>no_out</td>\n",
       "    </tr>\n",
       "  </tbody>\n",
       "</table>\n",
       "</div>"
      ],
      "text/plain": [
       "              idEvent  total_val  idPolita  log_total_val outlier_type\n",
       "0  100001972018-12-02   10815.00  10000197           9.29       no_out\n",
       "1  100004462018-10-08    2635.00  10000446           7.88       no_out\n",
       "2  100005852018-07-07    9255.00  10000585           9.13       no_out\n",
       "3  100006982018-05-27    5097.00  10000698           8.54       no_out\n",
       "4  100007012018-08-09   18872.00  10000701           9.85       no_out"
      ]
     },
     "execution_count": 108,
     "metadata": {},
     "output_type": "execute_result"
    }
   ],
   "source": [
    "# rebuild the original df with all outliers and add a column with the outlier status of each row\n",
    "# Outlier status will be: a) No Outlier; b) Outlier identified by LOF; c) Outlier above 60k\n",
    "\n",
    "result_df = pd.concat([pf_mat, outliers], ignore_index = True)\n",
    "result_df.fillna(2, inplace = True)\n",
    "result_df.replace({'lof_pred' : { 1 : 'no_out', -1 : 'lof_out', 2 : '>60k_out' }}, inplace = True)\n",
    "result_df.rename(columns = {'lof_pred' : 'outlier_type'}, inplace = True)\n",
    "result_df.drop(['index', 'ee_pred', 'iso_pred_0.01', 'iso_pred_0.05', 'iso_pred_0.1'], axis = 1, inplace = True)\n",
    "\n",
    "result_df.head()"
   ]
  },
  {
   "cell_type": "code",
   "execution_count": 111,
   "metadata": {},
   "outputs": [],
   "source": [
    "# save to S3\n",
    "\n",
    "result_df.to_feather('autoturisme_pf_mat_outlier_status.feather')\n",
    "s3con.write('autoturisme_pf_mat_outlier_status.feather')\n",
    "os.remove('autoturisme_pf_mat_outlier_status.feather')"
   ]
  },
  {
   "cell_type": "code",
   "execution_count": null,
   "metadata": {},
   "outputs": [],
   "source": []
  }
 ],
 "metadata": {
  "kernelspec": {
   "display_name": "Python 3",
   "language": "python",
   "name": "python3"
  },
  "language_info": {
   "codemirror_mode": {
    "name": "ipython",
    "version": 3
   },
   "file_extension": ".py",
   "mimetype": "text/x-python",
   "name": "python",
   "nbconvert_exporter": "python",
   "pygments_lexer": "ipython3",
   "version": "3.10.6"
  },
  "orig_nbformat": 4,
  "vscode": {
   "interpreter": {
    "hash": "916dbcbb3f70747c44a77c7bcd40155683ae19c65e1c03b4aa3499c5328201f1"
   }
  }
 },
 "nbformat": 4,
 "nbformat_minor": 2
}
